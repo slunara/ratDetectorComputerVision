{
  "cells": [
    {
      "cell_type": "markdown",
      "metadata": {
        "id": "view-in-github",
        "colab_type": "text"
      },
      "source": [
        "<a href=\"https://colab.research.google.com/github/slunara/ratDetectorComputerVision/blob/main/auto_anotation_groundingDINO.ipynb\" target=\"_parent\"><img src=\"https://colab.research.google.com/assets/colab-badge.svg\" alt=\"Open In Colab\"/></a>"
      ]
    },
    {
      "cell_type": "markdown",
      "metadata": {
        "id": "oe9vkEvFABbN"
      },
      "source": [
        "\n",
        "\n",
        "# Rat Detector\n",
        "\n",
        "Susana Luna - Computer Vision - Individual Assignment\n",
        "\n",
        "Objective: Build a Rat Detector using YOLOv10 model and automatic annotation using GroundingDINO.\n",
        "\n"
      ]
    },
    {
      "cell_type": "markdown",
      "metadata": {
        "id": "FyRdDYkqAKN4"
      },
      "source": [
        "Let's make sure that we have access to GPU."
      ]
    },
    {
      "cell_type": "code",
      "source": [
        "#!ls -lah /content/"
      ],
      "metadata": {
        "colab": {
          "base_uri": "https://localhost:8080/"
        },
        "id": "7_YJ8yQPHjLU",
        "outputId": "83e85eec-26f8-42f7-fdef-55a1665e7524"
      },
      "execution_count": 3,
      "outputs": [
        {
          "output_type": "stream",
          "name": "stdout",
          "text": [
            "total 16K\n",
            "drwxr-xr-x 1 root root 4.0K Feb  8 10:38 .\n",
            "drwxr-xr-x 1 root root 4.0K Feb  8 10:00 ..\n",
            "drwxr-xr-x 4 root root 4.0K Feb  6 14:19 .config\n"
          ]
        }
      ]
    },
    {
      "cell_type": "code",
      "execution_count": 4,
      "metadata": {
        "colab": {
          "base_uri": "https://localhost:8080/"
        },
        "id": "Y8cDtxLIBHgQ",
        "outputId": "ca27174c-112c-4895-bd03-e153923c366e"
      },
      "outputs": [
        {
          "output_type": "stream",
          "name": "stdout",
          "text": [
            "Sat Feb  8 10:39:29 2025       \n",
            "+-----------------------------------------------------------------------------------------+\n",
            "| NVIDIA-SMI 550.54.15              Driver Version: 550.54.15      CUDA Version: 12.4     |\n",
            "|-----------------------------------------+------------------------+----------------------+\n",
            "| GPU  Name                 Persistence-M | Bus-Id          Disp.A | Volatile Uncorr. ECC |\n",
            "| Fan  Temp   Perf          Pwr:Usage/Cap |           Memory-Usage | GPU-Util  Compute M. |\n",
            "|                                         |                        |               MIG M. |\n",
            "|=========================================+========================+======================|\n",
            "|   0  Tesla T4                       Off |   00000000:00:04.0 Off |                    0 |\n",
            "| N/A   41C    P8              9W /   70W |       0MiB /  15360MiB |      0%      Default |\n",
            "|                                         |                        |                  N/A |\n",
            "+-----------------------------------------+------------------------+----------------------+\n",
            "                                                                                         \n",
            "+-----------------------------------------------------------------------------------------+\n",
            "| Processes:                                                                              |\n",
            "|  GPU   GI   CI        PID   Type   Process name                              GPU Memory |\n",
            "|        ID   ID                                                               Usage      |\n",
            "|=========================================================================================|\n",
            "|  No running processes found                                                             |\n",
            "+-----------------------------------------------------------------------------------------+\n"
          ]
        }
      ],
      "source": [
        "!nvidia-smi"
      ]
    },
    {
      "cell_type": "markdown",
      "source": [
        "# Step 1: Auto anotation"
      ],
      "metadata": {
        "id": "d3sLFywbDX9p"
      }
    },
    {
      "cell_type": "markdown",
      "metadata": {
        "id": "3C3EO_2zNChu"
      },
      "source": [
        "## Install libraries\n",
        "\n",
        "- Grounding DINO\n",
        "- Additional Deppendencies"
      ]
    },
    {
      "cell_type": "code",
      "source": [
        "import os\n",
        "import torch\n",
        "import roboflow\n",
        "import supervision\n",
        "import glob\n",
        "import cv2\n",
        "import supervision as sv\n",
        "from typing import List\n",
        "from roboflow import Roboflow\n",
        "from PIL import Image\n",
        "import imghdr"
      ],
      "metadata": {
        "colab": {
          "base_uri": "https://localhost:8080/"
        },
        "id": "7Y7uzTLeCUlP",
        "outputId": "0f810142-5529-47f4-c148-f0c5cd741361"
      },
      "execution_count": 7,
      "outputs": [
        {
          "output_type": "stream",
          "name": "stderr",
          "text": [
            "'imghdr' is deprecated and slated for removal in Python 3.13\n"
          ]
        }
      ]
    },
    {
      "cell_type": "code",
      "source": [
        "HOME = os.getcwd()\n",
        "print(HOME)"
      ],
      "metadata": {
        "colab": {
          "base_uri": "https://localhost:8080/"
        },
        "id": "BKiCw5QTJM4l",
        "outputId": "48abbecd-ff6f-4999-89f7-44563612c532"
      },
      "execution_count": 8,
      "outputs": [
        {
          "output_type": "stream",
          "name": "stdout",
          "text": [
            "/content\n"
          ]
        }
      ]
    },
    {
      "cell_type": "code",
      "source": [
        "%cd {HOME}\n",
        "!git clone https://github.com/IDEA-Research/GroundingDINO.git\n",
        "%cd {HOME}/GroundingDINO\n",
        "\n",
        "# we use latest Grounding DINO model API that is not official yet\n",
        "!git checkout feature/more_compact_inference_api\n",
        "\n",
        "!pip install -q -e .\n",
        "!pip install -q roboflow dataclasses-json onemetric"
      ],
      "metadata": {
        "colab": {
          "base_uri": "https://localhost:8080/"
        },
        "id": "nf89MRZUI5gq",
        "outputId": "50ae2d3e-e287-4913-ddf1-a4ecb589e7f2"
      },
      "execution_count": 9,
      "outputs": [
        {
          "output_type": "stream",
          "name": "stdout",
          "text": [
            "/content\n",
            "Cloning into 'GroundingDINO'...\n",
            "remote: Enumerating objects: 463, done.\u001b[K\n",
            "remote: Counting objects: 100% (240/240), done.\u001b[K\n",
            "remote: Compressing objects: 100% (105/105), done.\u001b[K\n",
            "remote: Total 463 (delta 175), reused 135 (delta 135), pack-reused 223 (from 1)\u001b[K\n",
            "Receiving objects: 100% (463/463), 12.87 MiB | 36.51 MiB/s, done.\n",
            "Resolving deltas: 100% (241/241), done.\n",
            "/content/GroundingDINO\n",
            "Branch 'feature/more_compact_inference_api' set up to track remote branch 'feature/more_compact_inference_api' from 'origin'.\n",
            "Switched to a new branch 'feature/more_compact_inference_api'\n",
            "  Preparing metadata (setup.py) ... \u001b[?25l\u001b[?25hdone\n"
          ]
        }
      ]
    },
    {
      "cell_type": "code",
      "source": [
        "!nvcc --version\n",
        "TORCH_VERSION = \".\".join(torch.__version__.split(\".\")[:2])\n",
        "CUDA_VERSION = torch.__version__.split(\"+\")[-1]\n",
        "print(\"torch: \", TORCH_VERSION, \"; cuda: \", CUDA_VERSION)\n",
        "\n",
        "\n",
        "print(\n",
        "    \"roboflow:\", roboflow.__version__,\n",
        "    \"; supervision:\", supervision.__version__\n",
        ")"
      ],
      "metadata": {
        "colab": {
          "base_uri": "https://localhost:8080/"
        },
        "id": "pxAbe4VzI8v0",
        "outputId": "ce12cb12-6e84-434b-c93a-41fe970387fb"
      },
      "execution_count": 10,
      "outputs": [
        {
          "output_type": "stream",
          "name": "stdout",
          "text": [
            "nvcc: NVIDIA (R) Cuda compiler driver\n",
            "Copyright (c) 2005-2024 NVIDIA Corporation\n",
            "Built on Thu_Jun__6_02:18:23_PDT_2024\n",
            "Cuda compilation tools, release 12.5, V12.5.82\n",
            "Build cuda_12.5.r12.5/compiler.34385749_0\n",
            "torch:  2.5 ; cuda:  cu124\n",
            "roboflow: 1.1.53 ; supervision: 0.4.0\n"
          ]
        }
      ]
    },
    {
      "cell_type": "code",
      "source": [
        "# confirm that configuration file exist\n",
        "\n",
        "\n",
        "CONFIG_PATH = os.path.join(HOME, \"GroundingDINO/groundingdino/config/GroundingDINO_SwinT_OGC.py\")\n",
        "print(CONFIG_PATH, \"; exist:\", os.path.isfile(CONFIG_PATH))"
      ],
      "metadata": {
        "colab": {
          "base_uri": "https://localhost:8080/"
        },
        "id": "iKL42wSnI9Ul",
        "outputId": "5dfdf3ec-0294-4118-fb70-49e1f878b37c"
      },
      "execution_count": 11,
      "outputs": [
        {
          "output_type": "stream",
          "name": "stdout",
          "text": [
            "/content/GroundingDINO/groundingdino/config/GroundingDINO_SwinT_OGC.py ; exist: True\n"
          ]
        }
      ]
    },
    {
      "cell_type": "code",
      "source": [
        "# download weights file\n",
        "\n",
        "%cd {HOME}\n",
        "!mkdir {HOME}/weights\n",
        "%cd {HOME}/weights\n",
        "\n",
        "!wget -q https://github.com/IDEA-Research/GroundingDINO/releases/download/v0.1.0-alpha/groundingdino_swint_ogc.pth"
      ],
      "metadata": {
        "colab": {
          "base_uri": "https://localhost:8080/"
        },
        "id": "pVVF98X6JBA_",
        "outputId": "61c6e3b4-65c5-4833-d236-fa9cd728014a"
      },
      "execution_count": 12,
      "outputs": [
        {
          "output_type": "stream",
          "name": "stdout",
          "text": [
            "/content\n",
            "/content/weights\n"
          ]
        }
      ]
    },
    {
      "cell_type": "code",
      "source": [
        "# confirm that weights file exist\n",
        "\n",
        "WEIGHTS_PATH = os.path.join(HOME, \"weights\", \"groundingdino_swint_ogc.pth\")\n",
        "print(WEIGHTS_PATH, \"; exist:\", os.path.isfile(WEIGHTS_PATH))"
      ],
      "metadata": {
        "colab": {
          "base_uri": "https://localhost:8080/"
        },
        "id": "YRA4F5vYJGF7",
        "outputId": "8ab31d02-7220-4b98-cf65-853c6eb39df7"
      },
      "execution_count": 13,
      "outputs": [
        {
          "output_type": "stream",
          "name": "stdout",
          "text": [
            "/content/weights/groundingdino_swint_ogc.pth ; exist: True\n"
          ]
        }
      ]
    },
    {
      "cell_type": "markdown",
      "source": [
        "## Download Raw Data"
      ],
      "metadata": {
        "id": "wlk0YVKr0tV4"
      }
    },
    {
      "cell_type": "code",
      "source": [
        "!rm -rf /content/ratDetectorComputerVision  # Remove old repo (if needed)\n",
        "!git clone https://github.com/slunara/ratDetectorComputerVision.git /content/ratDetectorComputerVision"
      ],
      "metadata": {
        "colab": {
          "base_uri": "https://localhost:8080/"
        },
        "id": "O5Rp-OR10f4N",
        "outputId": "7dcc3fb5-09ae-44b0-fd2b-5fcf0af07017"
      },
      "execution_count": 14,
      "outputs": [
        {
          "output_type": "stream",
          "name": "stdout",
          "text": [
            "Cloning into '/content/ratDetectorComputerVision'...\n",
            "remote: Enumerating objects: 459, done.\u001b[K\n",
            "remote: Counting objects: 100% (459/459), done.\u001b[K\n",
            "remote: Compressing objects: 100% (457/457), done.\u001b[K\n",
            "remote: Total 459 (delta 4), reused 446 (delta 0), pack-reused 0 (from 0)\u001b[K\n",
            "Receiving objects: 100% (459/459), 9.24 MiB | 29.37 MiB/s, done.\n",
            "Resolving deltas: 100% (4/4), done.\n"
          ]
        }
      ]
    },
    {
      "cell_type": "markdown",
      "source": [
        "Check the raw images quantity"
      ],
      "metadata": {
        "id": "piy-bc_RKYRG"
      }
    },
    {
      "cell_type": "code",
      "source": [
        "image_folder = \"/content/ratDetectorComputerVision/data\"\n",
        "\n",
        "\n",
        "image_extensions = (\"*.jpg\", \"*.jpeg\", \"*.png\", \"*.bmp\", \"*.gif\", \"*.tiff\", \"*.webp\")\n",
        "image_count = sum(len(glob.glob(os.path.join(image_folder, \"**\", ext), recursive=True)) for ext in image_extensions)\n",
        "\n",
        "print(f\"Total images on the folder: {image_count}\")"
      ],
      "metadata": {
        "colab": {
          "base_uri": "https://localhost:8080/"
        },
        "id": "0HDGx_R9BFc8",
        "outputId": "f3fd9673-34cf-4095-e06d-8e99da1b364f"
      },
      "execution_count": 15,
      "outputs": [
        {
          "output_type": "stream",
          "name": "stdout",
          "text": [
            "Total images on the folder: 444\n"
          ]
        }
      ]
    },
    {
      "cell_type": "markdown",
      "source": [
        "## Load GoundingDINO model"
      ],
      "metadata": {
        "id": "FQYf9Alv2gIJ"
      }
    },
    {
      "cell_type": "code",
      "source": [
        "from groundingdino.util.inference import Model"
      ],
      "metadata": {
        "colab": {
          "base_uri": "https://localhost:8080/"
        },
        "id": "ulT5Cnv2Jeex",
        "outputId": "60e356ba-f901-4cb2-eb40-877861c6bd9c"
      },
      "execution_count": 16,
      "outputs": [
        {
          "output_type": "stream",
          "name": "stderr",
          "text": [
            "Importing from timm.models.layers is deprecated, please import via timm.layers\n"
          ]
        }
      ]
    },
    {
      "cell_type": "code",
      "source": [
        "%cd {HOME}/GroundingDINO\n",
        "\n",
        "model = Model(model_config_path=CONFIG_PATH, model_checkpoint_path=WEIGHTS_PATH)"
      ],
      "metadata": {
        "colab": {
          "base_uri": "https://localhost:8080/",
          "height": 358,
          "referenced_widgets": [
            "c847ca4ce35646e797fbef4da1a283b5",
            "ee91452c524a408a97505827e71a1e9a",
            "280603c17a7c4065942eb428428549c6",
            "a01af97bca4c48aba568c562c6a2c7c8",
            "6ec46dc64a0a456d841d76afbef7a76e",
            "3c325b62fddf44afa12db88831c896e8",
            "b8b6b3ad330b42c8ad614414dc8139a1",
            "a1a737a4041d4313af99ebe2978f54b5",
            "8c3a1e0c187c40949f95c02713707ebb",
            "68f908b25c88436fa8085d95e26332bc",
            "ca75ccead1c5416bb474dbd0c647d265",
            "d423def360c34300bca4b97802d1c91c",
            "c5cb5dbf60524cf0ac9e95ecc9accb72",
            "552452637d00409d97c1d3dc9e4675a8",
            "db57b90852e5460eb6acaa4feeaa7820",
            "2c5c111fd5984543ae7234003cf20be5",
            "207119da1e004c9db2d471b654e2e0d5",
            "c466b65702884405a7f46e4c83d6e616",
            "1fe307e4450443b09cd2b14e10f41aca",
            "0e3d5c47e93648d290431bc9fda8d061",
            "c610d25a8b594026b21cc26ce0b8f9cc",
            "fbd335f39e3642f685e384f8f2316717",
            "f2d578565c6748d58c995d3ab3df0ece",
            "17d9f744e6494bfc84f5b1131d54dece",
            "bfb0e4b1a35e49f29fd8edcdac5a03b4",
            "4cd019214e5745638458b6ed6fa6625b",
            "31d75a78a8b54d2dba972b8f15299266",
            "67ef0b648b3940948bb82a1d7fb2df13",
            "e766167c03784fa7b0cf810e55c6b3f7",
            "1648f9c09a13497e824b3678699c4d44",
            "c2704fb6e797440a9c02b4460c29c29f",
            "2b545fe3e42e4e5783df8a44541ea08e",
            "ad9e3d77d86245b8a99e5d7e33bf1297",
            "e2e7cf6733c5478d8a5795c87a935c1b",
            "5dfbb994c5e54c53bc6502a56fb65383",
            "052487d7085a4244935d0aafef332ddf",
            "a8e9d9622b2340b6a63bc4654af114fa",
            "40e495abc89244b69748a2b01ebfc736",
            "6a555e22a891498bb609b7286ddba5dc",
            "c7c17e1a159b42b3810f814eb5548853",
            "fe475773f8254ce39bc01fa67edb6744",
            "eb641feb3727483683900058a9da51fe",
            "342b47b8f98444aeb6b928bc79443ff6",
            "cb64130e27c74d0dbb0bc03603fa01f2",
            "6caa47a1b66d4c0e8c62e79406f707c5",
            "c5ed11fd188b4c03bc302127f660faf2",
            "5164d788fa1b4da7b12b87b95b493837",
            "e8f22f2bc6884ac886f1bcdaa8cae9af",
            "d8cd30d600fb4ac3b380c3d3b53c744e",
            "c7c81e018eae483cad0c784b5b3d1578",
            "8f844cdd4edc408583439f42b0dd154b",
            "a8979d6e526944ccb2f8d2ca342a0428",
            "d94fd6ecbbc941b5b01c601b890727fd",
            "6889237a405448358d1006c9461d874d",
            "6afccea8195f4e18a9d2774bec109725"
          ]
        },
        "id": "Nu6jiuI-2HdH",
        "outputId": "c4362c68-b31e-418d-a85c-6874e2d7398c"
      },
      "execution_count": 17,
      "outputs": [
        {
          "output_type": "stream",
          "name": "stdout",
          "text": [
            "/content/GroundingDINO\n"
          ]
        },
        {
          "output_type": "stream",
          "name": "stderr",
          "text": [
            "torch.meshgrid: in an upcoming release, it will be required to pass the indexing argument. (Triggered internally at ../aten/src/ATen/native/TensorShape.cpp:3595.)\n"
          ]
        },
        {
          "output_type": "stream",
          "name": "stdout",
          "text": [
            "final text_encoder_type: bert-base-uncased\n"
          ]
        },
        {
          "output_type": "stream",
          "name": "stderr",
          "text": [
            "\n",
            "The secret `HF_TOKEN` does not exist in your Colab secrets.\n",
            "To authenticate with the Hugging Face Hub, create a token in your settings tab (https://huggingface.co/settings/tokens), set it as secret in your Google Colab and restart your session.\n",
            "You will be able to reuse this secret in all of your notebooks.\n",
            "Please note that authentication is recommended but still optional to access public models or datasets.\n"
          ]
        },
        {
          "output_type": "display_data",
          "data": {
            "text/plain": [
              "tokenizer_config.json:   0%|          | 0.00/48.0 [00:00<?, ?B/s]"
            ],
            "application/vnd.jupyter.widget-view+json": {
              "version_major": 2,
              "version_minor": 0,
              "model_id": "c847ca4ce35646e797fbef4da1a283b5"
            }
          },
          "metadata": {}
        },
        {
          "output_type": "display_data",
          "data": {
            "text/plain": [
              "config.json:   0%|          | 0.00/570 [00:00<?, ?B/s]"
            ],
            "application/vnd.jupyter.widget-view+json": {
              "version_major": 2,
              "version_minor": 0,
              "model_id": "d423def360c34300bca4b97802d1c91c"
            }
          },
          "metadata": {}
        },
        {
          "output_type": "display_data",
          "data": {
            "text/plain": [
              "vocab.txt:   0%|          | 0.00/232k [00:00<?, ?B/s]"
            ],
            "application/vnd.jupyter.widget-view+json": {
              "version_major": 2,
              "version_minor": 0,
              "model_id": "f2d578565c6748d58c995d3ab3df0ece"
            }
          },
          "metadata": {}
        },
        {
          "output_type": "display_data",
          "data": {
            "text/plain": [
              "tokenizer.json:   0%|          | 0.00/466k [00:00<?, ?B/s]"
            ],
            "application/vnd.jupyter.widget-view+json": {
              "version_major": 2,
              "version_minor": 0,
              "model_id": "e2e7cf6733c5478d8a5795c87a935c1b"
            }
          },
          "metadata": {}
        },
        {
          "output_type": "display_data",
          "data": {
            "text/plain": [
              "model.safetensors:   0%|          | 0.00/440M [00:00<?, ?B/s]"
            ],
            "application/vnd.jupyter.widget-view+json": {
              "version_major": 2,
              "version_minor": 0,
              "model_id": "6caa47a1b66d4c0e8c62e79406f707c5"
            }
          },
          "metadata": {}
        },
        {
          "output_type": "stream",
          "name": "stderr",
          "text": [
            "You are using `torch.load` with `weights_only=False` (the current default value), which uses the default pickle module implicitly. It is possible to construct malicious pickle data which will execute arbitrary code during unpickling (See https://github.com/pytorch/pytorch/blob/main/SECURITY.md#untrusted-models for more details). In a future release, the default value for `weights_only` will be flipped to `True`. This limits the functions that could be executed during unpickling. Arbitrary objects will no longer be allowed to be loaded via this mode unless they are explicitly allowlisted by the user via `torch.serialization.add_safe_globals`. We recommend you start setting `weights_only=True` for any use case where you don't have full control of the loaded file. Please open an issue on GitHub for any issues related to this experimental feature.\n"
          ]
        }
      ]
    },
    {
      "cell_type": "markdown",
      "source": [
        "Check how it works with one image"
      ],
      "metadata": {
        "id": "a7q-WsEzKs-C"
      }
    },
    {
      "cell_type": "code",
      "source": [
        "SOURCE_IMAGE_PATH = \"/content/ratDetectorComputerVision/data/rat_1465.jpg\"\n",
        "CLASSES = ['rat']\n",
        "BOX_TRESHOLD = 0.35\n",
        "TEXT_TRESHOLD = 0.25"
      ],
      "metadata": {
        "id": "FbRzGGTw5ApH"
      },
      "execution_count": 18,
      "outputs": []
    },
    {
      "cell_type": "code",
      "source": [
        "image = cv2.imread(SOURCE_IMAGE_PATH)\n",
        "caption = \", \".join(CLASSES)\n",
        "\n",
        "detections, labels = model.predict_with_caption(\n",
        "    image=image,\n",
        "    caption=caption,\n",
        "    box_threshold=BOX_TRESHOLD,\n",
        "    text_threshold=TEXT_TRESHOLD\n",
        ")\n",
        "\n",
        "box_annotator = sv.BoxAnnotator()\n",
        "labels = [\n",
        "    f\"{label} {confidence:0.2f}\"\n",
        "    for label, (_, confidence, class_id, _)\n",
        "    in zip(labels, detections)]\n",
        "annotated_frame = box_annotator.annotate(scene=image.copy(), detections=detections, labels=labels)\n",
        "\n",
        "\n",
        "%matplotlib inline\n",
        "sv.plot_image(annotated_frame, (16, 16))"
      ],
      "metadata": {
        "colab": {
          "base_uri": "https://localhost:8080/",
          "height": 948
        },
        "id": "srkw0A2Z20ek",
        "outputId": "88bee36f-4241-4973-d1e3-346ec8e4ee2c"
      },
      "execution_count": 19,
      "outputs": [
        {
          "output_type": "stream",
          "name": "stderr",
          "text": [
            "The `device` argument is deprecated and will be removed in v5 of Transformers.\n",
            "torch.utils.checkpoint: the use_reentrant parameter should be passed explicitly. In version 2.5 we will raise an exception if use_reentrant is not passed. use_reentrant=False is recommended, but if you need to preserve the current default behavior, you can pass use_reentrant=True. Refer to docs for more details on the differences between the two variants.\n",
            "None of the inputs have requires_grad=True. Gradients will be None\n",
            "`torch.cuda.amp.autocast(args...)` is deprecated. Please use `torch.amp.autocast('cuda', args...)` instead.\n"
          ]
        },
        {
          "output_type": "display_data",
          "data": {
            "text/plain": [
              "<Figure size 1600x1600 with 1 Axes>"
            ],
            "image/png": "[encoded data removed]"
          },
          "metadata": {}
        }
      ]
    },
    {
      "cell_type": "markdown",
      "source": [
        "## Dataset auto anotation"
      ],
      "metadata": {
        "id": "nCpkcHMI8RSJ"
      }
    },
    {
      "cell_type": "code",
      "source": [
        "def list_image_files(directory: str) -> List[str]:\n",
        "    image_extensions = [\".jpeg\", \".jpg\", \".png\", \".bmp\", \".gif\"]\n",
        "    image_files = [f for f in os.listdir(directory) if os.path.splitext(f)[1].lower() in image_extensions]\n",
        "    return image_files\n",
        "\n",
        "\n",
        "def save_voc_xml(xml_string: str, file_path: str) -> None:\n",
        "    with open(file_path, 'w') as f:\n",
        "        f.write(xml_string)\n",
        "\n",
        "\n",
        "def image_name_to_xml_name(image_name: str) -> str:\n",
        "    base_name, _ = os.path.splitext(image_name)\n",
        "    xml_name = f\"{base_name}.xml\"\n",
        "    return xml_name"
      ],
      "metadata": {
        "id": "z7vKx_0_6k-K"
      },
      "execution_count": 21,
      "outputs": []
    },
    {
      "cell_type": "code",
      "source": [
        "PROJECT_NAME = \"ratsDetectionV2\"\n",
        "PROJECT_DESCRIPTION = \"ratsClassification\"\n",
        "SOURCE_DIRECTORY_PATH = \"/content/ratDetectorComputerVision/data\"\n",
        "CLASSES = ['rat']\n",
        "BOX_TRESHOLD = 0.25\n",
        "TEXT_TRESHOLD = 0.25"
      ],
      "metadata": {
        "id": "SOstfOif8cfH"
      },
      "execution_count": 22,
      "outputs": []
    },
    {
      "cell_type": "code",
      "source": [
        "rf = Roboflow(api_key=\"1bZDjhBKBgnisv5Hf2VR\")\n",
        "\n",
        "workspace = rf.workspace()\n",
        "\n",
        "new_project = workspace.create_project(\n",
        "    project_name=PROJECT_NAME,\n",
        "    project_license=\"MIT\",\n",
        "    project_type=\"object-detection\",\n",
        "    annotation=\"BoundingBox-Annotations\")"
      ],
      "metadata": {
        "colab": {
          "base_uri": "https://localhost:8080/"
        },
        "id": "OnFqm3oS8qq-",
        "outputId": "fe08bf83-23c2-472b-d850-73d3e89ac3ef"
      },
      "execution_count": 23,
      "outputs": [
        {
          "output_type": "stream",
          "name": "stdout",
          "text": [
            "loading Roboflow workspace...\n",
            "loading Roboflow project...\n"
          ]
        }
      ]
    },
    {
      "cell_type": "code",
      "source": [
        "def enhance_class_name(class_names: List[str]) -> List[str]:\n",
        "    return [\n",
        "        f\"all {class_name}s\"\n",
        "        for class_name\n",
        "        in class_names\n",
        "    ]"
      ],
      "metadata": {
        "id": "NKd_JSKj-cbI"
      },
      "execution_count": 24,
      "outputs": []
    },
    {
      "cell_type": "markdown",
      "source": [
        "Change images with PNG format to JPEG to match filename extension."
      ],
      "metadata": {
        "id": "UHtrrVGZRKwU"
      }
    },
    {
      "cell_type": "code",
      "source": [
        "image_path = \"/content/ratDetectorComputerVision/data/rat_1465.jpg\"\n",
        "\n",
        "try:\n",
        "    with Image.open(image_path) as img:\n",
        "        print(f\"Actual format: {img.format}\")\n",
        "except Exception as e:\n",
        "    print(f\"Error: {e}\")"
      ],
      "metadata": {
        "colab": {
          "base_uri": "https://localhost:8080/"
        },
        "id": "5cAV1eoqPcVq",
        "outputId": "23de1559-05ea-4e9a-a1bc-9a7909576343"
      },
      "execution_count": 25,
      "outputs": [
        {
          "output_type": "stream",
          "name": "stdout",
          "text": [
            "Actual format: PNG\n"
          ]
        }
      ]
    },
    {
      "cell_type": "code",
      "source": [
        "image_dir = SOURCE_DIRECTORY_PATH\n",
        "\n",
        "\n",
        "if not os.path.exists(image_dir):\n",
        "    print(f\"Directory '{image_dir}' not found!\")\n",
        "else:\n",
        "    for filename in os.listdir(image_dir):\n",
        "        file_path = os.path.join(image_dir, filename)\n",
        "\n",
        "        if not os.path.isfile(file_path):\n",
        "            continue\n",
        "\n",
        "        actual_format = imghdr.what(file_path)\n",
        "\n",
        "        # If the file is actually a PNG but doesn't have .png extension, print it\n",
        "        if actual_format == \"png\" and not filename.lower().endswith(\".png\"):\n",
        "            print(f\"Incorrect PNG file: {filename} (should be .png)\")"
      ],
      "metadata": {
        "colab": {
          "base_uri": "https://localhost:8080/"
        },
        "id": "FaerWGZPQTba",
        "outputId": "e36c6655-502f-4bc8-9919-f7344dd52a5d"
      },
      "execution_count": 26,
      "outputs": [
        {
          "output_type": "stream",
          "name": "stdout",
          "text": [
            "Incorrect PNG file: rat_812.jpg (should be .png)\n",
            "Incorrect PNG file: rat_59.jpg (should be .png)\n",
            "Incorrect PNG file: rat_241.jpg (should be .png)\n",
            "Incorrect PNG file: rat_102.jpg (should be .png)\n",
            "Incorrect PNG file: rat_1465.jpg (should be .png)\n",
            "Incorrect PNG file: rat_1499.jpg (should be .png)\n",
            "Incorrect PNG file: rat_319.jpg (should be .png)\n"
          ]
        }
      ]
    },
    {
      "cell_type": "code",
      "source": [
        "image_dir = SOURCE_DIRECTORY_PATH\n",
        "\n",
        "\n",
        "if not os.path.exists(image_dir):\n",
        "    print(f\"❌ Directory '{image_dir}' not found! Please check the path.\")\n",
        "else:\n",
        "\n",
        "    for filename in os.listdir(image_dir):\n",
        "        file_path = os.path.join(image_dir, filename)\n",
        "\n",
        "\n",
        "        if not os.path.isfile(file_path):\n",
        "            continue\n",
        "\n",
        "\n",
        "        actual_format = imghdr.what(file_path)\n",
        "\n",
        "        if actual_format == \"png\":\n",
        "            new_filename = os.path.splitext(filename)[0] + \"_converted.jpg\"  # Add '_converted' to avoid overwriting\n",
        "            new_file_path = os.path.join(image_dir, new_filename)\n",
        "\n",
        "            try:\n",
        "                with Image.open(file_path) as img:\n",
        "                    rgb_img = img.convert(\"RGB\")  # Convert PNG (RGBA) to RGB\n",
        "                    rgb_img.save(new_file_path, \"JPEG\")\n",
        "\n",
        "                # Remove the old PNG file\n",
        "                os.remove(file_path)\n",
        "                print(f\"✅ Converted: {filename} → {new_filename}\")\n",
        "            except Exception as e:\n",
        "                print(f\"❌ Error converting {filename}: {e}\")\n"
      ],
      "metadata": {
        "colab": {
          "base_uri": "https://localhost:8080/"
        },
        "id": "QIxPjjVSReS4",
        "outputId": "8d104a19-f2fe-43b5-f553-16fff8bb58d3"
      },
      "execution_count": 27,
      "outputs": [
        {
          "output_type": "stream",
          "name": "stdout",
          "text": [
            "✅ Converted: rat_812.jpg → rat_812_converted.jpg\n",
            "✅ Converted: rat_59.jpg → rat_59_converted.jpg\n",
            "✅ Converted: rat_241.jpg → rat_241_converted.jpg\n",
            "✅ Converted: rat_102.jpg → rat_102_converted.jpg\n",
            "✅ Converted: rat_1465.jpg → rat_1465_converted.jpg\n",
            "✅ Converted: rat_1499.jpg → rat_1499_converted.jpg\n",
            "✅ Converted: rat_319.jpg → rat_319_converted.jpg\n"
          ]
        }
      ]
    },
    {
      "cell_type": "code",
      "source": [
        "image_path = \"/content/ratDetectorComputerVision/data/rat_1465_converted.jpg\"\n",
        "\n",
        "try:\n",
        "    with Image.open(image_path) as img:\n",
        "        print(f\"🔍 Actual format: {img.format}\")\n",
        "except Exception as e:\n",
        "    print(f\"❌ Error: {e}\")"
      ],
      "metadata": {
        "colab": {
          "base_uri": "https://localhost:8080/"
        },
        "id": "n-gFD322Rm97",
        "outputId": "8dcfcbae-2ac0-48db-a041-1ef9bbb813b3"
      },
      "execution_count": 28,
      "outputs": [
        {
          "output_type": "stream",
          "name": "stdout",
          "text": [
            "🔍 Actual format: JPEG\n"
          ]
        }
      ]
    },
    {
      "cell_type": "code",
      "source": [
        "from roboflow import Roboflow\n",
        "\n",
        "# Initialize Roboflow API\n",
        "rf = Roboflow(api_key=\"1bZDjhBKBgnisv5Hf2VR\")  # Use your actual API key\n",
        "\n",
        "# Try fetching the default workspace (if available)\n",
        "workspace = rf.workspace()\n",
        "\n",
        "# Print workspace details\n",
        "print(f\"✅ Connected to Workspace: {workspace.name} (URL: {workspace.url})\")\n"
      ],
      "metadata": {
        "colab": {
          "base_uri": "https://localhost:8080/"
        },
        "id": "qL02qgw0PJbJ",
        "outputId": "c29b33e2-591e-458e-e883-2b4fc080f448"
      },
      "execution_count": 40,
      "outputs": [
        {
          "output_type": "stream",
          "name": "stdout",
          "text": [
            "\rloading Roboflow workspace...\n",
            "✅ Connected to Workspace: Computer Vision (URL: computer-vision-ps2op)\n"
          ]
        }
      ]
    },
    {
      "cell_type": "code",
      "source": [
        "# List all projects in your workspace\n",
        "projects = workspace.projects()\n",
        "\n",
        "print(\"\\n📂 Available Projects in Workspace:\")\n",
        "for project in projects:\n",
        "    print(f\"- Project Name: {project}\")  # Directly print project names\n"
      ],
      "metadata": {
        "colab": {
          "base_uri": "https://localhost:8080/"
        },
        "id": "6Z3Tp_aIPSwF",
        "outputId": "3108c5dc-321b-4e06-c95a-f15ff98e120b"
      },
      "execution_count": 43,
      "outputs": [
        {
          "output_type": "stream",
          "name": "stdout",
          "text": [
            "\n",
            "📂 Available Projects in Workspace:\n",
            "- Project Name: computer-vision-ps2op/rats-q6b8w\n",
            "- Project Name: computer-vision-ps2op/ratsdetection\n",
            "- Project Name: computer-vision-ps2op/ratsdetectionv2\n"
          ]
        }
      ]
    },
    {
      "cell_type": "code",
      "source": [
        "new_project = workspace.project(\"ratsdetectionv2\")  # Replace with the correct project\n",
        "print(f\"✅ Successfully loaded project: {new_project}\")"
      ],
      "metadata": {
        "colab": {
          "base_uri": "https://localhost:8080/"
        },
        "id": "zbga1TldP6hv",
        "outputId": "6c756495-d489-45c4-e78a-2a8239c63471"
      },
      "execution_count": 44,
      "outputs": [
        {
          "output_type": "stream",
          "name": "stdout",
          "text": [
            "\rloading Roboflow project...\n",
            "✅ Successfully loaded project: {\n",
            "  \"name\": \"ratsDetectionV2\",\n",
            "  \"type\": \"object-detection\",\n",
            "  \"workspace\": \"computer-vision-ps2op\"\n",
            "}\n"
          ]
        }
      ]
    },
    {
      "cell_type": "code",
      "source": [
        "for image_name in list_image_files(SOURCE_DIRECTORY_PATH):\n",
        "    #image_name = f\"new_{image_name}\"\n",
        "    image_path = os.path.join(SOURCE_DIRECTORY_PATH, image_name)\n",
        "    image = cv2.imread(image_path)\n",
        "    height, width, depth = image.shape\n",
        "    xml_name = image_name_to_xml_name(image_name=image_name)\n",
        "    xml_path = os.path.join(SOURCE_DIRECTORY_PATH, xml_name)\n",
        "\n"
      ],
      "metadata": {
        "id": "jVFc32p8Nu_r"
      },
      "execution_count": 51,
      "outputs": []
    },
    {
      "cell_type": "code",
      "source": [
        "# List all XML files in the directory\n",
        "xml_files = [f for f in os.listdir(SOURCE_DIRECTORY_PATH) if f.endswith(\".xml\")]\n",
        "\n",
        "# Display results\n",
        "if xml_files:\n",
        "    print(\"📂 XML Annotation Files Found:\")\n",
        "    for xml_file in xml_files:\n",
        "        print(f\"- {xml_file}\")\n",
        "else:\n",
        "    print(\"❌ No XML annotation files found in the directory.\")\n"
      ],
      "metadata": {
        "colab": {
          "base_uri": "https://localhost:8080/"
        },
        "id": "G44lsOYhULNI",
        "outputId": "2fa2449f-56d2-45bf-a830-25676b5c2930"
      },
      "execution_count": 54,
      "outputs": [
        {
          "output_type": "stream",
          "name": "stdout",
          "text": [
            "📂 XML Annotation Files Found:\n",
            "- rat_502.xml\n",
            "- rat_288.xml\n",
            "- rat_12.xml\n",
            "- rat_1095.xml\n",
            "- rat_706.xml\n",
            "- rat_1121.xml\n",
            "- rat_1301.xml\n",
            "- rat_406.xml\n",
            "- rat_1245.xml\n",
            "- rat_1459.xml\n",
            "- rat_300.xml\n",
            "- rat_879.xml\n",
            "- rat_488.xml\n",
            "- rat_8.xml\n",
            "- rat_745.xml\n",
            "- rat_127.xml\n",
            "- rat_790.xml\n",
            "- rat_74.xml\n",
            "- rat_1443.xml\n",
            "- rat_751.xml\n",
            "- rat_1471.xml\n",
            "- rat_147.xml\n",
            "- rat_249.xml\n"
          ]
        }
      ]
    },
    {
      "cell_type": "code",
      "source": [
        "for image_name in list_image_files(SOURCE_DIRECTORY_PATH):\n",
        "    #image_name = f\"new_{image_name}\"\n",
        "    image_path = os.path.join(SOURCE_DIRECTORY_PATH, image_name)\n",
        "    image = cv2.imread(image_path)\n",
        "    height, width, depth = image.shape\n",
        "    xml_name = image_name_to_xml_name(image_name=image_name)\n",
        "    xml_path = os.path.join(SOURCE_DIRECTORY_PATH, xml_name)\n",
        "\n",
        "    detections = model.predict_with_classes(\n",
        "        image=image,\n",
        "        classes=enhance_class_name(class_names=CLASSES),\n",
        "        box_threshold=BOX_TRESHOLD,\n",
        "        text_threshold=TEXT_TRESHOLD\n",
        "    )\n",
        "\n",
        "    # drop potential detections with phrase that is not part of CLASSES set\n",
        "    detections = detections[detections.class_id != None]\n",
        "    # drop potential detections with area close to area of whole image\n",
        "    detections = detections[(detections.area / (height * width)) < 0.9 ]\n",
        "    # drop potential double detections\n",
        "    # detections = detections.with_nms()\n",
        "\n",
        "    xml_string = sv.detections_to_voc_xml(\n",
        "        detections=detections,\n",
        "        classes=CLASSES,\n",
        "        filename=image_name,\n",
        "        width=width,\n",
        "        height=height,\n",
        "        depth=depth\n",
        "    )\n",
        "\n",
        "    save_voc_xml(xml_string=xml_string, file_path=xml_path)\n",
        "    #new_project.upload(image_path=image_path, annotation_path=xml_path, split=\"train\", overwrite=True)\n",
        "    new_project.upload(image_path=image_path, annotation_path=None, split=\"train\", overwrite=True)"
      ],
      "metadata": {
        "colab": {
          "base_uri": "https://localhost:8080/",
          "height": 420
        },
        "id": "92-6q5OO8uZG",
        "outputId": "81e10433-3f0e-4dde-e0fe-99570e3b0aaa"
      },
      "execution_count": 50,
      "outputs": [
        {
          "output_type": "stream",
          "name": "stderr",
          "text": [
            "The `device` argument is deprecated and will be removed in v5 of Transformers.\n",
            "torch.utils.checkpoint: the use_reentrant parameter should be passed explicitly. In version 2.5 we will raise an exception if use_reentrant is not passed. use_reentrant=False is recommended, but if you need to preserve the current default behavior, you can pass use_reentrant=True. Refer to docs for more details on the differences between the two variants.\n",
            "None of the inputs have requires_grad=True. Gradients will be None\n",
            "`torch.cuda.amp.autocast(args...)` is deprecated. Please use `torch.amp.autocast('cuda', args...)` instead.\n"
          ]
        },
        {
          "output_type": "error",
          "ename": "KeyboardInterrupt",
          "evalue": "",
          "traceback": [
            "\u001b[0;31m---------------------------------------------------------------------------\u001b[0m",
            "\u001b[0;31mKeyboardInterrupt\u001b[0m                         Traceback (most recent call last)",
            "\u001b[0;32m<ipython-input-50-8e39dd3bd0d5>\u001b[0m in \u001b[0;36m<cell line: 0>\u001b[0;34m()\u001b[0m\n\u001b[1;32m     32\u001b[0m     \u001b[0msave_voc_xml\u001b[0m\u001b[0;34m(\u001b[0m\u001b[0mxml_string\u001b[0m\u001b[0;34m=\u001b[0m\u001b[0mxml_string\u001b[0m\u001b[0;34m,\u001b[0m \u001b[0mfile_path\u001b[0m\u001b[0;34m=\u001b[0m\u001b[0mxml_path\u001b[0m\u001b[0;34m)\u001b[0m\u001b[0;34m\u001b[0m\u001b[0;34m\u001b[0m\u001b[0m\n\u001b[1;32m     33\u001b[0m     \u001b[0;31m#new_project.upload(image_path=image_path, annotation_path=xml_path, split=\"train\", overwrite=True)\u001b[0m\u001b[0;34m\u001b[0m\u001b[0;34m\u001b[0m\u001b[0m\n\u001b[0;32m---> 34\u001b[0;31m     \u001b[0mnew_project\u001b[0m\u001b[0;34m.\u001b[0m\u001b[0mupload\u001b[0m\u001b[0;34m(\u001b[0m\u001b[0mimage_path\u001b[0m\u001b[0;34m=\u001b[0m\u001b[0mimage_path\u001b[0m\u001b[0;34m,\u001b[0m \u001b[0mannotation_path\u001b[0m\u001b[0;34m=\u001b[0m\u001b[0;32mNone\u001b[0m\u001b[0;34m,\u001b[0m \u001b[0msplit\u001b[0m\u001b[0;34m=\u001b[0m\u001b[0;34m\"train\"\u001b[0m\u001b[0;34m,\u001b[0m \u001b[0moverwrite\u001b[0m\u001b[0;34m=\u001b[0m\u001b[0;32mTrue\u001b[0m\u001b[0;34m)\u001b[0m\u001b[0;34m\u001b[0m\u001b[0;34m\u001b[0m\u001b[0m\n\u001b[0m",
            "\u001b[0;32m/usr/local/lib/python3.11/dist-packages/roboflow/core/project.py\u001b[0m in \u001b[0;36mupload\u001b[0;34m(self, image_path, annotation_path, hosted_image, image_id, split, num_retry_uploads, batch_name, tag_names, is_prediction, **kwargs)\u001b[0m\n\u001b[1;32m    432\u001b[0m                 )\n\u001b[1;32m    433\u001b[0m \u001b[0;34m\u001b[0m\u001b[0m\n\u001b[0;32m--> 434\u001b[0;31m             self.single_upload(\n\u001b[0m\u001b[1;32m    435\u001b[0m                 \u001b[0mimage_path\u001b[0m\u001b[0;34m=\u001b[0m\u001b[0mimage_path\u001b[0m\u001b[0;34m,\u001b[0m\u001b[0;34m\u001b[0m\u001b[0;34m\u001b[0m\u001b[0m\n\u001b[1;32m    436\u001b[0m                 \u001b[0mannotation_path\u001b[0m\u001b[0;34m=\u001b[0m\u001b[0mannotation_path\u001b[0m\u001b[0;34m,\u001b[0m\u001b[0;34m\u001b[0m\u001b[0;34m\u001b[0m\u001b[0m\n",
            "\u001b[0;32m/usr/local/lib/python3.11/dist-packages/roboflow/core/project.py\u001b[0m in \u001b[0;36msingle_upload\u001b[0;34m(self, image_path, annotation_path, annotation_labelmap, hosted_image, image_id, split, num_retry_uploads, batch_name, tag_names, is_prediction, annotation_overwrite, sequence_number, sequence_size, **kwargs)\u001b[0m\n\u001b[1;32m    566\u001b[0m \u001b[0;34m\u001b[0m\u001b[0m\n\u001b[1;32m    567\u001b[0m         \u001b[0;32mif\u001b[0m \u001b[0mimage_path\u001b[0m\u001b[0;34m:\u001b[0m\u001b[0;34m\u001b[0m\u001b[0;34m\u001b[0m\u001b[0m\n\u001b[0;32m--> 568\u001b[0;31m             uploaded_image, upload_time, upload_retry_attempts = self.upload_image(\n\u001b[0m\u001b[1;32m    569\u001b[0m                 \u001b[0mimage_path\u001b[0m\u001b[0;34m,\u001b[0m\u001b[0;34m\u001b[0m\u001b[0;34m\u001b[0m\u001b[0m\n\u001b[1;32m    570\u001b[0m                 \u001b[0mhosted_image\u001b[0m\u001b[0;34m,\u001b[0m\u001b[0;34m\u001b[0m\u001b[0;34m\u001b[0m\u001b[0m\n",
            "\u001b[0;32m/usr/local/lib/python3.11/dist-packages/roboflow/core/project.py\u001b[0m in \u001b[0;36mupload_image\u001b[0;34m(self, image_path, hosted_image, split, num_retry_uploads, batch_name, tag_names, sequence_number, sequence_size, **kwargs)\u001b[0m\n\u001b[1;32m    486\u001b[0m \u001b[0;34m\u001b[0m\u001b[0m\n\u001b[1;32m    487\u001b[0m         \u001b[0;32mtry\u001b[0m\u001b[0;34m:\u001b[0m\u001b[0;34m\u001b[0m\u001b[0;34m\u001b[0m\u001b[0m\n\u001b[0;32m--> 488\u001b[0;31m             image = retry(\n\u001b[0m\u001b[1;32m    489\u001b[0m                 \u001b[0mrfapi\u001b[0m\u001b[0;34m.\u001b[0m\u001b[0mupload_image\u001b[0m\u001b[0;34m,\u001b[0m\u001b[0;34m\u001b[0m\u001b[0;34m\u001b[0m\u001b[0m\n\u001b[1;32m    490\u001b[0m                 \u001b[0mself\u001b[0m\u001b[0;34m.\u001b[0m\u001b[0m__api_key\u001b[0m\u001b[0;34m,\u001b[0m\u001b[0;34m\u001b[0m\u001b[0;34m\u001b[0m\u001b[0m\n",
            "\u001b[0;32m/usr/local/lib/python3.11/dist-packages/roboflow/util/general.py\u001b[0m in \u001b[0;36m__call__\u001b[0;34m(self, func, *args, **kwargs)\u001b[0m\n\u001b[1;32m     22\u001b[0m         \u001b[0;32mwhile\u001b[0m \u001b[0mself\u001b[0m\u001b[0;34m.\u001b[0m\u001b[0mretries\u001b[0m \u001b[0;34m<=\u001b[0m \u001b[0mself\u001b[0m\u001b[0;34m.\u001b[0m\u001b[0mmax_retries\u001b[0m\u001b[0;34m:\u001b[0m\u001b[0;34m\u001b[0m\u001b[0;34m\u001b[0m\u001b[0m\n\u001b[1;32m     23\u001b[0m             \u001b[0;32mtry\u001b[0m\u001b[0;34m:\u001b[0m\u001b[0;34m\u001b[0m\u001b[0;34m\u001b[0m\u001b[0m\n\u001b[0;32m---> 24\u001b[0;31m                 \u001b[0;32mreturn\u001b[0m \u001b[0mfunc\u001b[0m\u001b[0;34m(\u001b[0m\u001b[0;34m*\u001b[0m\u001b[0margs\u001b[0m\u001b[0;34m,\u001b[0m \u001b[0;34m**\u001b[0m\u001b[0mkwargs\u001b[0m\u001b[0;34m)\u001b[0m\u001b[0;34m\u001b[0m\u001b[0;34m\u001b[0m\u001b[0m\n\u001b[0m\u001b[1;32m     25\u001b[0m             \u001b[0;32mexcept\u001b[0m \u001b[0mBaseException\u001b[0m \u001b[0;32mas\u001b[0m \u001b[0me\u001b[0m\u001b[0;34m:\u001b[0m\u001b[0;34m\u001b[0m\u001b[0;34m\u001b[0m\u001b[0m\n\u001b[1;32m     26\u001b[0m                 \u001b[0;32mif\u001b[0m \u001b[0misinstance\u001b[0m\u001b[0;34m(\u001b[0m\u001b[0me\u001b[0m\u001b[0;34m,\u001b[0m \u001b[0mretry_on\u001b[0m\u001b[0;34m)\u001b[0m\u001b[0;34m:\u001b[0m\u001b[0;34m\u001b[0m\u001b[0;34m\u001b[0m\u001b[0m\n",
            "\u001b[0;32m/usr/local/lib/python3.11/dist-packages/roboflow/adapters/rfapi.py\u001b[0m in \u001b[0;36mupload_image\u001b[0;34m(api_key, project_url, image_path, hosted_image, split, batch_name, tag_names, sequence_number, sequence_size, **kwargs)\u001b[0m\n\u001b[1;32m     86\u001b[0m             }\n\u001b[1;32m     87\u001b[0m         )\n\u001b[0;32m---> 88\u001b[0;31m         \u001b[0mresponse\u001b[0m \u001b[0;34m=\u001b[0m \u001b[0mrequests\u001b[0m\u001b[0;34m.\u001b[0m\u001b[0mpost\u001b[0m\u001b[0;34m(\u001b[0m\u001b[0mupload_url\u001b[0m\u001b[0;34m,\u001b[0m \u001b[0mdata\u001b[0m\u001b[0;34m=\u001b[0m\u001b[0mm\u001b[0m\u001b[0;34m,\u001b[0m \u001b[0mheaders\u001b[0m\u001b[0;34m=\u001b[0m\u001b[0;34m{\u001b[0m\u001b[0;34m\"Content-Type\"\u001b[0m\u001b[0;34m:\u001b[0m \u001b[0mm\u001b[0m\u001b[0;34m.\u001b[0m\u001b[0mcontent_type\u001b[0m\u001b[0;34m}\u001b[0m\u001b[0;34m,\u001b[0m \u001b[0mtimeout\u001b[0m\u001b[0;34m=\u001b[0m\u001b[0;34m(\u001b[0m\u001b[0;36m300\u001b[0m\u001b[0;34m,\u001b[0m \u001b[0;36m300\u001b[0m\u001b[0;34m)\u001b[0m\u001b[0;34m)\u001b[0m\u001b[0;34m\u001b[0m\u001b[0;34m\u001b[0m\u001b[0m\n\u001b[0m\u001b[1;32m     89\u001b[0m \u001b[0;34m\u001b[0m\u001b[0m\n\u001b[1;32m     90\u001b[0m     \u001b[0;32melse\u001b[0m\u001b[0;34m:\u001b[0m\u001b[0;34m\u001b[0m\u001b[0;34m\u001b[0m\u001b[0m\n",
            "\u001b[0;32m/usr/local/lib/python3.11/dist-packages/requests/api.py\u001b[0m in \u001b[0;36mpost\u001b[0;34m(url, data, json, **kwargs)\u001b[0m\n\u001b[1;32m    113\u001b[0m     \"\"\"\n\u001b[1;32m    114\u001b[0m \u001b[0;34m\u001b[0m\u001b[0m\n\u001b[0;32m--> 115\u001b[0;31m     \u001b[0;32mreturn\u001b[0m \u001b[0mrequest\u001b[0m\u001b[0;34m(\u001b[0m\u001b[0;34m\"post\"\u001b[0m\u001b[0;34m,\u001b[0m \u001b[0murl\u001b[0m\u001b[0;34m,\u001b[0m \u001b[0mdata\u001b[0m\u001b[0;34m=\u001b[0m\u001b[0mdata\u001b[0m\u001b[0;34m,\u001b[0m \u001b[0mjson\u001b[0m\u001b[0;34m=\u001b[0m\u001b[0mjson\u001b[0m\u001b[0;34m,\u001b[0m \u001b[0;34m**\u001b[0m\u001b[0mkwargs\u001b[0m\u001b[0;34m)\u001b[0m\u001b[0;34m\u001b[0m\u001b[0;34m\u001b[0m\u001b[0m\n\u001b[0m\u001b[1;32m    116\u001b[0m \u001b[0;34m\u001b[0m\u001b[0m\n\u001b[1;32m    117\u001b[0m \u001b[0;34m\u001b[0m\u001b[0m\n",
            "\u001b[0;32m/usr/local/lib/python3.11/dist-packages/requests/api.py\u001b[0m in \u001b[0;36mrequest\u001b[0;34m(method, url, **kwargs)\u001b[0m\n\u001b[1;32m     57\u001b[0m     \u001b[0;31m# cases, and look like a memory leak in others.\u001b[0m\u001b[0;34m\u001b[0m\u001b[0;34m\u001b[0m\u001b[0m\n\u001b[1;32m     58\u001b[0m     \u001b[0;32mwith\u001b[0m \u001b[0msessions\u001b[0m\u001b[0;34m.\u001b[0m\u001b[0mSession\u001b[0m\u001b[0;34m(\u001b[0m\u001b[0;34m)\u001b[0m \u001b[0;32mas\u001b[0m \u001b[0msession\u001b[0m\u001b[0;34m:\u001b[0m\u001b[0;34m\u001b[0m\u001b[0;34m\u001b[0m\u001b[0m\n\u001b[0;32m---> 59\u001b[0;31m         \u001b[0;32mreturn\u001b[0m \u001b[0msession\u001b[0m\u001b[0;34m.\u001b[0m\u001b[0mrequest\u001b[0m\u001b[0;34m(\u001b[0m\u001b[0mmethod\u001b[0m\u001b[0;34m=\u001b[0m\u001b[0mmethod\u001b[0m\u001b[0;34m,\u001b[0m \u001b[0murl\u001b[0m\u001b[0;34m=\u001b[0m\u001b[0murl\u001b[0m\u001b[0;34m,\u001b[0m \u001b[0;34m**\u001b[0m\u001b[0mkwargs\u001b[0m\u001b[0;34m)\u001b[0m\u001b[0;34m\u001b[0m\u001b[0;34m\u001b[0m\u001b[0m\n\u001b[0m\u001b[1;32m     60\u001b[0m \u001b[0;34m\u001b[0m\u001b[0m\n\u001b[1;32m     61\u001b[0m \u001b[0;34m\u001b[0m\u001b[0m\n",
            "\u001b[0;32m/usr/local/lib/python3.11/dist-packages/requests/sessions.py\u001b[0m in \u001b[0;36mrequest\u001b[0;34m(self, method, url, params, data, headers, cookies, files, auth, timeout, allow_redirects, proxies, hooks, stream, verify, cert, json)\u001b[0m\n\u001b[1;32m    587\u001b[0m         }\n\u001b[1;32m    588\u001b[0m         \u001b[0msend_kwargs\u001b[0m\u001b[0;34m.\u001b[0m\u001b[0mupdate\u001b[0m\u001b[0;34m(\u001b[0m\u001b[0msettings\u001b[0m\u001b[0;34m)\u001b[0m\u001b[0;34m\u001b[0m\u001b[0;34m\u001b[0m\u001b[0m\n\u001b[0;32m--> 589\u001b[0;31m         \u001b[0mresp\u001b[0m \u001b[0;34m=\u001b[0m \u001b[0mself\u001b[0m\u001b[0;34m.\u001b[0m\u001b[0msend\u001b[0m\u001b[0;34m(\u001b[0m\u001b[0mprep\u001b[0m\u001b[0;34m,\u001b[0m \u001b[0;34m**\u001b[0m\u001b[0msend_kwargs\u001b[0m\u001b[0;34m)\u001b[0m\u001b[0;34m\u001b[0m\u001b[0;34m\u001b[0m\u001b[0m\n\u001b[0m\u001b[1;32m    590\u001b[0m \u001b[0;34m\u001b[0m\u001b[0m\n\u001b[1;32m    591\u001b[0m         \u001b[0;32mreturn\u001b[0m \u001b[0mresp\u001b[0m\u001b[0;34m\u001b[0m\u001b[0;34m\u001b[0m\u001b[0m\n",
            "\u001b[0;32m/usr/local/lib/python3.11/dist-packages/requests/sessions.py\u001b[0m in \u001b[0;36msend\u001b[0;34m(self, request, **kwargs)\u001b[0m\n\u001b[1;32m    701\u001b[0m \u001b[0;34m\u001b[0m\u001b[0m\n\u001b[1;32m    702\u001b[0m         \u001b[0;31m# Send the request\u001b[0m\u001b[0;34m\u001b[0m\u001b[0;34m\u001b[0m\u001b[0m\n\u001b[0;32m--> 703\u001b[0;31m         \u001b[0mr\u001b[0m \u001b[0;34m=\u001b[0m \u001b[0madapter\u001b[0m\u001b[0;34m.\u001b[0m\u001b[0msend\u001b[0m\u001b[0;34m(\u001b[0m\u001b[0mrequest\u001b[0m\u001b[0;34m,\u001b[0m \u001b[0;34m**\u001b[0m\u001b[0mkwargs\u001b[0m\u001b[0;34m)\u001b[0m\u001b[0;34m\u001b[0m\u001b[0;34m\u001b[0m\u001b[0m\n\u001b[0m\u001b[1;32m    704\u001b[0m \u001b[0;34m\u001b[0m\u001b[0m\n\u001b[1;32m    705\u001b[0m         \u001b[0;31m# Total elapsed time of the request (approximately)\u001b[0m\u001b[0;34m\u001b[0m\u001b[0;34m\u001b[0m\u001b[0m\n",
            "\u001b[0;32m/usr/local/lib/python3.11/dist-packages/requests/adapters.py\u001b[0m in \u001b[0;36msend\u001b[0;34m(self, request, stream, timeout, verify, cert, proxies)\u001b[0m\n\u001b[1;32m    665\u001b[0m \u001b[0;34m\u001b[0m\u001b[0m\n\u001b[1;32m    666\u001b[0m         \u001b[0;32mtry\u001b[0m\u001b[0;34m:\u001b[0m\u001b[0;34m\u001b[0m\u001b[0;34m\u001b[0m\u001b[0m\n\u001b[0;32m--> 667\u001b[0;31m             resp = conn.urlopen(\n\u001b[0m\u001b[1;32m    668\u001b[0m                 \u001b[0mmethod\u001b[0m\u001b[0;34m=\u001b[0m\u001b[0mrequest\u001b[0m\u001b[0;34m.\u001b[0m\u001b[0mmethod\u001b[0m\u001b[0;34m,\u001b[0m\u001b[0;34m\u001b[0m\u001b[0;34m\u001b[0m\u001b[0m\n\u001b[1;32m    669\u001b[0m                 \u001b[0murl\u001b[0m\u001b[0;34m=\u001b[0m\u001b[0murl\u001b[0m\u001b[0;34m,\u001b[0m\u001b[0;34m\u001b[0m\u001b[0;34m\u001b[0m\u001b[0m\n",
            "\u001b[0;32m/usr/local/lib/python3.11/dist-packages/urllib3/connectionpool.py\u001b[0m in \u001b[0;36murlopen\u001b[0;34m(self, method, url, body, headers, retries, redirect, assert_same_host, timeout, pool_timeout, release_conn, chunked, body_pos, preload_content, decode_content, **response_kw)\u001b[0m\n\u001b[1;32m    785\u001b[0m \u001b[0;34m\u001b[0m\u001b[0m\n\u001b[1;32m    786\u001b[0m             \u001b[0;31m# Make the request on the HTTPConnection object\u001b[0m\u001b[0;34m\u001b[0m\u001b[0;34m\u001b[0m\u001b[0m\n\u001b[0;32m--> 787\u001b[0;31m             response = self._make_request(\n\u001b[0m\u001b[1;32m    788\u001b[0m                 \u001b[0mconn\u001b[0m\u001b[0;34m,\u001b[0m\u001b[0;34m\u001b[0m\u001b[0;34m\u001b[0m\u001b[0m\n\u001b[1;32m    789\u001b[0m                 \u001b[0mmethod\u001b[0m\u001b[0;34m,\u001b[0m\u001b[0;34m\u001b[0m\u001b[0;34m\u001b[0m\u001b[0m\n",
            "\u001b[0;32m/usr/local/lib/python3.11/dist-packages/urllib3/connectionpool.py\u001b[0m in \u001b[0;36m_make_request\u001b[0;34m(self, conn, method, url, body, headers, retries, timeout, chunked, response_conn, preload_content, decode_content, enforce_content_length)\u001b[0m\n\u001b[1;32m    532\u001b[0m         \u001b[0;31m# Receive the response from the server\u001b[0m\u001b[0;34m\u001b[0m\u001b[0;34m\u001b[0m\u001b[0m\n\u001b[1;32m    533\u001b[0m         \u001b[0;32mtry\u001b[0m\u001b[0;34m:\u001b[0m\u001b[0;34m\u001b[0m\u001b[0;34m\u001b[0m\u001b[0m\n\u001b[0;32m--> 534\u001b[0;31m             \u001b[0mresponse\u001b[0m \u001b[0;34m=\u001b[0m \u001b[0mconn\u001b[0m\u001b[0;34m.\u001b[0m\u001b[0mgetresponse\u001b[0m\u001b[0;34m(\u001b[0m\u001b[0;34m)\u001b[0m\u001b[0;34m\u001b[0m\u001b[0;34m\u001b[0m\u001b[0m\n\u001b[0m\u001b[1;32m    535\u001b[0m         \u001b[0;32mexcept\u001b[0m \u001b[0;34m(\u001b[0m\u001b[0mBaseSSLError\u001b[0m\u001b[0;34m,\u001b[0m \u001b[0mOSError\u001b[0m\u001b[0;34m)\u001b[0m \u001b[0;32mas\u001b[0m \u001b[0me\u001b[0m\u001b[0;34m:\u001b[0m\u001b[0;34m\u001b[0m\u001b[0;34m\u001b[0m\u001b[0m\n\u001b[1;32m    536\u001b[0m             \u001b[0mself\u001b[0m\u001b[0;34m.\u001b[0m\u001b[0m_raise_timeout\u001b[0m\u001b[0;34m(\u001b[0m\u001b[0merr\u001b[0m\u001b[0;34m=\u001b[0m\u001b[0me\u001b[0m\u001b[0;34m,\u001b[0m \u001b[0murl\u001b[0m\u001b[0;34m=\u001b[0m\u001b[0murl\u001b[0m\u001b[0;34m,\u001b[0m \u001b[0mtimeout_value\u001b[0m\u001b[0;34m=\u001b[0m\u001b[0mread_timeout\u001b[0m\u001b[0;34m)\u001b[0m\u001b[0;34m\u001b[0m\u001b[0;34m\u001b[0m\u001b[0m\n",
            "\u001b[0;32m/usr/local/lib/python3.11/dist-packages/urllib3/connection.py\u001b[0m in \u001b[0;36mgetresponse\u001b[0;34m(self)\u001b[0m\n\u001b[1;32m    514\u001b[0m \u001b[0;34m\u001b[0m\u001b[0m\n\u001b[1;32m    515\u001b[0m         \u001b[0;31m# Get the response from http.client.HTTPConnection\u001b[0m\u001b[0;34m\u001b[0m\u001b[0;34m\u001b[0m\u001b[0m\n\u001b[0;32m--> 516\u001b[0;31m         \u001b[0mhttplib_response\u001b[0m \u001b[0;34m=\u001b[0m \u001b[0msuper\u001b[0m\u001b[0;34m(\u001b[0m\u001b[0;34m)\u001b[0m\u001b[0;34m.\u001b[0m\u001b[0mgetresponse\u001b[0m\u001b[0;34m(\u001b[0m\u001b[0;34m)\u001b[0m\u001b[0;34m\u001b[0m\u001b[0;34m\u001b[0m\u001b[0m\n\u001b[0m\u001b[1;32m    517\u001b[0m \u001b[0;34m\u001b[0m\u001b[0m\n\u001b[1;32m    518\u001b[0m         \u001b[0;32mtry\u001b[0m\u001b[0;34m:\u001b[0m\u001b[0;34m\u001b[0m\u001b[0;34m\u001b[0m\u001b[0m\n",
            "\u001b[0;32m/usr/lib/python3.11/http/client.py\u001b[0m in \u001b[0;36mgetresponse\u001b[0;34m(self)\u001b[0m\n\u001b[1;32m   1393\u001b[0m         \u001b[0;32mtry\u001b[0m\u001b[0;34m:\u001b[0m\u001b[0;34m\u001b[0m\u001b[0;34m\u001b[0m\u001b[0m\n\u001b[1;32m   1394\u001b[0m             \u001b[0;32mtry\u001b[0m\u001b[0;34m:\u001b[0m\u001b[0;34m\u001b[0m\u001b[0;34m\u001b[0m\u001b[0m\n\u001b[0;32m-> 1395\u001b[0;31m                 \u001b[0mresponse\u001b[0m\u001b[0;34m.\u001b[0m\u001b[0mbegin\u001b[0m\u001b[0;34m(\u001b[0m\u001b[0;34m)\u001b[0m\u001b[0;34m\u001b[0m\u001b[0;34m\u001b[0m\u001b[0m\n\u001b[0m\u001b[1;32m   1396\u001b[0m             \u001b[0;32mexcept\u001b[0m \u001b[0mConnectionError\u001b[0m\u001b[0;34m:\u001b[0m\u001b[0;34m\u001b[0m\u001b[0;34m\u001b[0m\u001b[0m\n\u001b[1;32m   1397\u001b[0m                 \u001b[0mself\u001b[0m\u001b[0;34m.\u001b[0m\u001b[0mclose\u001b[0m\u001b[0;34m(\u001b[0m\u001b[0;34m)\u001b[0m\u001b[0;34m\u001b[0m\u001b[0;34m\u001b[0m\u001b[0m\n",
            "\u001b[0;32m/usr/lib/python3.11/http/client.py\u001b[0m in \u001b[0;36mbegin\u001b[0;34m(self)\u001b[0m\n\u001b[1;32m    323\u001b[0m         \u001b[0;31m# read until we get a non-100 response\u001b[0m\u001b[0;34m\u001b[0m\u001b[0;34m\u001b[0m\u001b[0m\n\u001b[1;32m    324\u001b[0m         \u001b[0;32mwhile\u001b[0m \u001b[0;32mTrue\u001b[0m\u001b[0;34m:\u001b[0m\u001b[0;34m\u001b[0m\u001b[0;34m\u001b[0m\u001b[0m\n\u001b[0;32m--> 325\u001b[0;31m             \u001b[0mversion\u001b[0m\u001b[0;34m,\u001b[0m \u001b[0mstatus\u001b[0m\u001b[0;34m,\u001b[0m \u001b[0mreason\u001b[0m \u001b[0;34m=\u001b[0m \u001b[0mself\u001b[0m\u001b[0;34m.\u001b[0m\u001b[0m_read_status\u001b[0m\u001b[0;34m(\u001b[0m\u001b[0;34m)\u001b[0m\u001b[0;34m\u001b[0m\u001b[0;34m\u001b[0m\u001b[0m\n\u001b[0m\u001b[1;32m    326\u001b[0m             \u001b[0;32mif\u001b[0m \u001b[0mstatus\u001b[0m \u001b[0;34m!=\u001b[0m \u001b[0mCONTINUE\u001b[0m\u001b[0;34m:\u001b[0m\u001b[0;34m\u001b[0m\u001b[0;34m\u001b[0m\u001b[0m\n\u001b[1;32m    327\u001b[0m                 \u001b[0;32mbreak\u001b[0m\u001b[0;34m\u001b[0m\u001b[0;34m\u001b[0m\u001b[0m\n",
            "\u001b[0;32m/usr/lib/python3.11/http/client.py\u001b[0m in \u001b[0;36m_read_status\u001b[0;34m(self)\u001b[0m\n\u001b[1;32m    284\u001b[0m \u001b[0;34m\u001b[0m\u001b[0m\n\u001b[1;32m    285\u001b[0m     \u001b[0;32mdef\u001b[0m \u001b[0m_read_status\u001b[0m\u001b[0;34m(\u001b[0m\u001b[0mself\u001b[0m\u001b[0;34m)\u001b[0m\u001b[0;34m:\u001b[0m\u001b[0;34m\u001b[0m\u001b[0;34m\u001b[0m\u001b[0m\n\u001b[0;32m--> 286\u001b[0;31m         \u001b[0mline\u001b[0m \u001b[0;34m=\u001b[0m \u001b[0mstr\u001b[0m\u001b[0;34m(\u001b[0m\u001b[0mself\u001b[0m\u001b[0;34m.\u001b[0m\u001b[0mfp\u001b[0m\u001b[0;34m.\u001b[0m\u001b[0mreadline\u001b[0m\u001b[0;34m(\u001b[0m\u001b[0m_MAXLINE\u001b[0m \u001b[0;34m+\u001b[0m \u001b[0;36m1\u001b[0m\u001b[0;34m)\u001b[0m\u001b[0;34m,\u001b[0m \u001b[0;34m\"iso-8859-1\"\u001b[0m\u001b[0;34m)\u001b[0m\u001b[0;34m\u001b[0m\u001b[0;34m\u001b[0m\u001b[0m\n\u001b[0m\u001b[1;32m    287\u001b[0m         \u001b[0;32mif\u001b[0m \u001b[0mlen\u001b[0m\u001b[0;34m(\u001b[0m\u001b[0mline\u001b[0m\u001b[0;34m)\u001b[0m \u001b[0;34m>\u001b[0m \u001b[0m_MAXLINE\u001b[0m\u001b[0;34m:\u001b[0m\u001b[0;34m\u001b[0m\u001b[0;34m\u001b[0m\u001b[0m\n\u001b[1;32m    288\u001b[0m             \u001b[0;32mraise\u001b[0m \u001b[0mLineTooLong\u001b[0m\u001b[0;34m(\u001b[0m\u001b[0;34m\"status line\"\u001b[0m\u001b[0;34m)\u001b[0m\u001b[0;34m\u001b[0m\u001b[0;34m\u001b[0m\u001b[0m\n",
            "\u001b[0;32m/usr/lib/python3.11/socket.py\u001b[0m in \u001b[0;36mreadinto\u001b[0;34m(self, b)\u001b[0m\n\u001b[1;32m    716\u001b[0m         \u001b[0;32mwhile\u001b[0m \u001b[0;32mTrue\u001b[0m\u001b[0;34m:\u001b[0m\u001b[0;34m\u001b[0m\u001b[0;34m\u001b[0m\u001b[0m\n\u001b[1;32m    717\u001b[0m             \u001b[0;32mtry\u001b[0m\u001b[0;34m:\u001b[0m\u001b[0;34m\u001b[0m\u001b[0;34m\u001b[0m\u001b[0m\n\u001b[0;32m--> 718\u001b[0;31m                 \u001b[0;32mreturn\u001b[0m \u001b[0mself\u001b[0m\u001b[0;34m.\u001b[0m\u001b[0m_sock\u001b[0m\u001b[0;34m.\u001b[0m\u001b[0mrecv_into\u001b[0m\u001b[0;34m(\u001b[0m\u001b[0mb\u001b[0m\u001b[0;34m)\u001b[0m\u001b[0;34m\u001b[0m\u001b[0;34m\u001b[0m\u001b[0m\n\u001b[0m\u001b[1;32m    719\u001b[0m             \u001b[0;32mexcept\u001b[0m \u001b[0mtimeout\u001b[0m\u001b[0;34m:\u001b[0m\u001b[0;34m\u001b[0m\u001b[0;34m\u001b[0m\u001b[0m\n\u001b[1;32m    720\u001b[0m                 \u001b[0mself\u001b[0m\u001b[0;34m.\u001b[0m\u001b[0m_timeout_occurred\u001b[0m \u001b[0;34m=\u001b[0m \u001b[0;32mTrue\u001b[0m\u001b[0;34m\u001b[0m\u001b[0;34m\u001b[0m\u001b[0m\n",
            "\u001b[0;32m/usr/lib/python3.11/ssl.py\u001b[0m in \u001b[0;36mrecv_into\u001b[0;34m(self, buffer, nbytes, flags)\u001b[0m\n\u001b[1;32m   1312\u001b[0m                   \u001b[0;34m\"non-zero flags not allowed in calls to recv_into() on %s\"\u001b[0m \u001b[0;34m%\u001b[0m\u001b[0;34m\u001b[0m\u001b[0;34m\u001b[0m\u001b[0m\n\u001b[1;32m   1313\u001b[0m                   self.__class__)\n\u001b[0;32m-> 1314\u001b[0;31m             \u001b[0;32mreturn\u001b[0m \u001b[0mself\u001b[0m\u001b[0;34m.\u001b[0m\u001b[0mread\u001b[0m\u001b[0;34m(\u001b[0m\u001b[0mnbytes\u001b[0m\u001b[0;34m,\u001b[0m \u001b[0mbuffer\u001b[0m\u001b[0;34m)\u001b[0m\u001b[0;34m\u001b[0m\u001b[0;34m\u001b[0m\u001b[0m\n\u001b[0m\u001b[1;32m   1315\u001b[0m         \u001b[0;32melse\u001b[0m\u001b[0;34m:\u001b[0m\u001b[0;34m\u001b[0m\u001b[0;34m\u001b[0m\u001b[0m\n\u001b[1;32m   1316\u001b[0m             \u001b[0;32mreturn\u001b[0m \u001b[0msuper\u001b[0m\u001b[0;34m(\u001b[0m\u001b[0;34m)\u001b[0m\u001b[0;34m.\u001b[0m\u001b[0mrecv_into\u001b[0m\u001b[0;34m(\u001b[0m\u001b[0mbuffer\u001b[0m\u001b[0;34m,\u001b[0m \u001b[0mnbytes\u001b[0m\u001b[0;34m,\u001b[0m \u001b[0mflags\u001b[0m\u001b[0;34m)\u001b[0m\u001b[0;34m\u001b[0m\u001b[0;34m\u001b[0m\u001b[0m\n",
            "\u001b[0;32m/usr/lib/python3.11/ssl.py\u001b[0m in \u001b[0;36mread\u001b[0;34m(self, len, buffer)\u001b[0m\n\u001b[1;32m   1164\u001b[0m         \u001b[0;32mtry\u001b[0m\u001b[0;34m:\u001b[0m\u001b[0;34m\u001b[0m\u001b[0;34m\u001b[0m\u001b[0m\n\u001b[1;32m   1165\u001b[0m             \u001b[0;32mif\u001b[0m \u001b[0mbuffer\u001b[0m \u001b[0;32mis\u001b[0m \u001b[0;32mnot\u001b[0m \u001b[0;32mNone\u001b[0m\u001b[0;34m:\u001b[0m\u001b[0;34m\u001b[0m\u001b[0;34m\u001b[0m\u001b[0m\n\u001b[0;32m-> 1166\u001b[0;31m                 \u001b[0;32mreturn\u001b[0m \u001b[0mself\u001b[0m\u001b[0;34m.\u001b[0m\u001b[0m_sslobj\u001b[0m\u001b[0;34m.\u001b[0m\u001b[0mread\u001b[0m\u001b[0;34m(\u001b[0m\u001b[0mlen\u001b[0m\u001b[0;34m,\u001b[0m \u001b[0mbuffer\u001b[0m\u001b[0;34m)\u001b[0m\u001b[0;34m\u001b[0m\u001b[0;34m\u001b[0m\u001b[0m\n\u001b[0m\u001b[1;32m   1167\u001b[0m             \u001b[0;32melse\u001b[0m\u001b[0;34m:\u001b[0m\u001b[0;34m\u001b[0m\u001b[0;34m\u001b[0m\u001b[0m\n\u001b[1;32m   1168\u001b[0m                 \u001b[0;32mreturn\u001b[0m \u001b[0mself\u001b[0m\u001b[0;34m.\u001b[0m\u001b[0m_sslobj\u001b[0m\u001b[0;34m.\u001b[0m\u001b[0mread\u001b[0m\u001b[0;34m(\u001b[0m\u001b[0mlen\u001b[0m\u001b[0;34m)\u001b[0m\u001b[0;34m\u001b[0m\u001b[0;34m\u001b[0m\u001b[0m\n",
            "\u001b[0;31mKeyboardInterrupt\u001b[0m: "
          ]
        }
      ]
    },
    {
      "cell_type": "code",
      "source": [
        "import os\n",
        "import cv2\n",
        "from roboflow import Roboflow\n",
        "\n",
        "# Initialize Roboflow with API Key\n",
        "rf = Roboflow(api_key=\"1bZDjhBKBgnisv5Hf2VR\")  # Replace with your actual API key\n",
        "workspace = rf.workspace(\"computer-vision-ps2op\")  # Replace with your workspace name\n",
        "project = workspace.project(\"ratsdetectionv2\")  # Replace with your project name\n",
        "#version_number = 1  # Change this to the correct dataset version\n",
        "#dataset_version = project.version(version_number)\n",
        "\n",
        "# Define paths and thresholds\n",
        "SOURCE_DIRECTORY_PATH = \"/content/ratDetectorComputerVision/data\"  # Change to your actual data folder\n",
        "BOX_THRESHOLD = 0.5  # Modify as needed\n",
        "TEXT_THRESHOLD = 0.25  # Modify as needed\n",
        "CLASSES = [\"rat\"]  # Define your object classes\n",
        "\n",
        "# Ensure output folder exists for annotations\n",
        "ANNOTATION_DIR = os.path.join(SOURCE_DIRECTORY_PATH, \"annotations\")\n",
        "os.makedirs(ANNOTATION_DIR, exist_ok=True)\n",
        "\n",
        "# Loop through all images in the directory\n",
        "for image_name in os.listdir(SOURCE_DIRECTORY_PATH):\n",
        "    if not image_name.lower().endswith((\".jpg\", \".jpeg\", \".png\")):\n",
        "        continue  # Skip non-image files\n",
        "\n",
        "    image_path = os.path.join(SOURCE_DIRECTORY_PATH, image_name)\n",
        "    image = cv2.imread(image_path)\n",
        "\n",
        "    if image is None:\n",
        "        print(f\"❌ Error: Unable to read {image_name}, skipping.\")\n",
        "        continue\n",
        "\n",
        "    height, width, depth = image.shape\n",
        "\n",
        "    # Run object detection on the image\n",
        "    detections = model.predict_with_classes(\n",
        "        image=image,\n",
        "        classes=enhance_class_name(class_names=CLASSES),\n",
        "        box_threshold=BOX_THRESHOLD,\n",
        "        text_threshold=TEXT_THRESHOLD\n",
        "    )\n",
        "\n",
        "    # Filter detections\n",
        "    detections = detections[detections.class_id != None]  # Remove null detections\n",
        "    detections = detections[(detections.area / (height * width)) < 0.9]  # Remove large boxes\n",
        "    # detections = detections.with_nms()  # Uncomment if needed to remove duplicate boxes\n",
        "\n",
        "    # Generate XML annotation filename\n",
        "    xml_name = os.path.splitext(image_name)[0] + \".xml\"\n",
        "    xml_path = os.path.join(ANNOTATION_DIR, xml_name)\n",
        "\n",
        "    # Convert detections to PASCAL VOC XML format\n",
        "    xml_string = sv.detections_to_voc_xml(\n",
        "        detections=detections,\n",
        "        classes=CLASSES,\n",
        "        filename=image_name,\n",
        "        width=width,\n",
        "        height=height,\n",
        "        depth=depth\n",
        "    )\n",
        "\n",
        "    # Save XML annotation file\n",
        "    with open(xml_path, \"w\") as xml_file:\n",
        "        xml_file.write(xml_string)\n",
        "\n",
        "    # Upload to Roboflow (Image + Annotation)\n",
        "    try:\n",
        "        new_project.upload(image_path=image_path, annotation_path=xml_path, split=\"train\", overwrite=True)\n",
        "        print(f\"✅ Successfully uploaded {image_name} with annotation.\")\n",
        "    except Exception as e:\n",
        "        print(f\"❌ Error uploading {image_name}: {e}\")\n"
      ],
      "metadata": {
        "colab": {
          "base_uri": "https://localhost:8080/"
        },
        "id": "7Z-OYAYPVxWa",
        "outputId": "f9b294f7-2201-41b6-d12a-bb026ac0751a"
      },
      "execution_count": 56,
      "outputs": [
        {
          "output_type": "stream",
          "name": "stdout",
          "text": [
            "loading Roboflow workspace...\n",
            "loading Roboflow project...\n"
          ]
        },
        {
          "output_type": "stream",
          "name": "stderr",
          "text": [
            "The `device` argument is deprecated and will be removed in v5 of Transformers.\n",
            "torch.utils.checkpoint: the use_reentrant parameter should be passed explicitly. In version 2.5 we will raise an exception if use_reentrant is not passed. use_reentrant=False is recommended, but if you need to preserve the current default behavior, you can pass use_reentrant=True. Refer to docs for more details on the differences between the two variants.\n",
            "None of the inputs have requires_grad=True. Gradients will be None\n",
            "`torch.cuda.amp.autocast(args...)` is deprecated. Please use `torch.amp.autocast('cuda', args...)` instead.\n"
          ]
        },
        {
          "output_type": "stream",
          "name": "stdout",
          "text": [
            "❌ Error uploading rat_74.jpg: Image was already annotated.\n",
            "❌ Error uploading rat_1459.jpg: Image was already annotated.\n",
            "❌ Error uploading rat_300.jpg: Image was already annotated.\n",
            "❌ Error uploading rat_127.jpg: Image was already annotated.\n",
            "❌ Error uploading rat_12.jpg: Image was already annotated.\n",
            "❌ Error uploading rat_1121.jpg: Image was already annotated.\n",
            "❌ Error uploading rat_502.jpg: Image was already annotated.\n",
            "❌ Error uploading rat_8.jpg: Image was already annotated.\n",
            "✅ Successfully uploaded rat_790.jpg with annotation.\n",
            "✅ Successfully uploaded rat_249.jpg with annotation.\n",
            "❌ Error uploading rat_1095.jpg: Image was already annotated.\n",
            "❌ Error uploading rat_1471.jpg: Image was already annotated.\n",
            "✅ Successfully uploaded rat_745.jpg with annotation.\n",
            "❌ Error uploading rat_1301.jpg: Image was already annotated.\n",
            "✅ Successfully uploaded rat_1245.jpg with annotation.\n",
            "❌ Error uploading rat_406.jpg: Image was already annotated.\n",
            "❌ Error uploading rat_488.jpg: Image was already annotated.\n",
            "❌ Error uploading rat_288.jpg: Image was already annotated.\n",
            "✅ Successfully uploaded rat_1443.jpg with annotation.\n",
            "❌ Error uploading rat_706.jpg: Image was already annotated.\n",
            "❌ Error uploading rat_751.jpg: Image was already annotated.\n",
            "❌ Error uploading rat_879.jpg: Image was already annotated.\n",
            "✅ Successfully uploaded rat_147.jpg with annotation.\n",
            "❌ Error uploading rat_553.jpg: Image was already annotated.\n",
            "✅ Successfully uploaded rat_92.jpg with annotation.\n",
            "✅ Successfully uploaded rat_574.jpg with annotation.\n",
            "❌ Error uploading rat_261.jpg: Image was already annotated.\n",
            "✅ Successfully uploaded rat_561.jpg with annotation.\n",
            "✅ Successfully uploaded rat_251.jpg with annotation.\n",
            "✅ Successfully uploaded rat_337.jpg with annotation.\n",
            "❌ Error uploading rat_141.jpg: Image was already annotated.\n",
            "❌ Error uploading rat_19.jpg: Image was already annotated.\n",
            "✅ Successfully uploaded rat_421.jpg with annotation.\n",
            "❌ Error uploading rat_149.jpg: Image was already annotated.\n",
            "❌ Error uploading rat_903.jpg: Image was already annotated.\n",
            "✅ Successfully uploaded rat_933.jpg with annotation.\n",
            "✅ Successfully uploaded rat_31.jpg with annotation.\n",
            "✅ Successfully uploaded rat_402.jpg with annotation.\n",
            "❌ Error uploading rat_704.jpg: Image was already annotated.\n",
            "❌ Error uploading rat_110.jpg: Image was already annotated.\n",
            "❌ Error uploading rat_1195.jpg: Image was already annotated.\n",
            "❌ Error uploading rat_718.jpg: Image was already annotated.\n",
            "❌ Error uploading rat_1167.jpg: Image was already annotated.\n",
            "❌ Error uploading rat_973.jpg: Image was already annotated.\n",
            "❌ Error uploading rat_911.jpg: Image was already annotated.\n",
            "✅ Successfully uploaded rat_159.jpg with annotation.\n",
            "✅ Successfully uploaded rat_1516.jpg with annotation.\n",
            "❌ Error uploading rat_412.jpg: Image was already annotated.\n",
            "❌ Error uploading rat_382.jpg: Image was already annotated.\n",
            "❌ Error uploading rat_11.jpg: Image was already annotated.\n",
            "❌ Error uploading rat_202.jpg: Image was already annotated.\n",
            "❌ Error uploading rat_861.jpg: Image was already annotated.\n",
            "✅ Successfully uploaded rat_321.jpg with annotation.\n",
            "✅ Successfully uploaded rat_631.jpg with annotation.\n",
            "❌ Error uploading rat_814.jpg: Image was already annotated.\n",
            "❌ Error uploading rat_1163.jpg: Image was already annotated.\n",
            "✅ Successfully uploaded rat_86.jpg with annotation.\n",
            "✅ Successfully uploaded rat_143.jpg with annotation.\n",
            "✅ Successfully uploaded rat_204.jpg with annotation.\n",
            "❌ Error uploading rat_1087.jpg: Image was already annotated.\n",
            "❌ Error uploading rat_1243.jpg: Image was already annotated.\n",
            "✅ Successfully uploaded rat_1499_converted.jpg with annotation.\n",
            "❌ Error uploading rat_392.jpg: Image was already annotated.\n",
            "❌ Error uploading rat_612.jpg: Image was already annotated.\n",
            "❌ Error uploading rat_993.jpg: Image was already annotated.\n",
            "✅ Successfully uploaded rat_541.jpg with annotation.\n",
            "❌ Error uploading rat_1387.jpg: Image was already annotated.\n",
            "✅ Successfully uploaded rat_145.jpg with annotation.\n",
            "✅ Successfully uploaded rat_877.jpg with annotation.\n",
            "❌ Error uploading rat_139.jpg: Image was already annotated.\n",
            "❌ Error uploading rat_737.jpg: Image was already annotated.\n",
            "❌ Error uploading rat_1251.jpg: Image was already annotated.\n",
            "❌ Error uploading rat_941.jpg: Image was already annotated.\n",
            "✅ Successfully uploaded rat_657.jpg with annotation.\n",
            "❌ Error uploading rat_82.jpg: Image was already annotated.\n",
            "❌ Error uploading rat_276.jpg: Image was already annotated.\n",
            "✅ Successfully uploaded rat_1273.jpg with annotation.\n",
            "✅ Successfully uploaded rat_539.jpg with annotation.\n",
            "✅ Successfully uploaded rat_133.jpg with annotation.\n",
            "❌ Error uploading rat_989.jpg: Image was already annotated.\n",
            "❌ Error uploading rat_987.jpg: Image was already annotated.\n",
            "✅ Successfully uploaded rat_1391.jpg with annotation.\n",
            "✅ Successfully uploaded rat_883.jpg with annotation.\n",
            "❌ Error uploading rat_263.jpg: Image was already annotated.\n",
            "❌ Error uploading rat_961.jpg: Image was already annotated.\n",
            "✅ Successfully uploaded rat_639.jpg with annotation.\n",
            "❌ Error uploading rat_893.jpg: Image was already annotated.\n",
            "❌ Error uploading rat_25.jpg: Image was already annotated.\n",
            "✅ Successfully uploaded rat_47.jpg with annotation.\n",
            "❌ Error uploading rat_506.jpg: Image was already annotated.\n",
            "✅ Successfully uploaded rat_225.jpg with annotation.\n",
            "❌ Error uploading rat_198.jpg: Image was already annotated.\n",
            "❌ Error uploading rat_212.jpg: Image was already annotated.\n",
            "❌ Error uploading rat_310.jpg: Image was already annotated.\n",
            "❌ Error uploading rat_1327.jpg: Image was already annotated.\n",
            "✅ Successfully uploaded rat_166.jpg with annotation.\n",
            "❌ Error uploading rat_255.jpg: Image was already annotated.\n",
            "❌ Error uploading rat_3.jpg: Image was already annotated.\n",
            "✅ Successfully uploaded rat_178.jpg with annotation.\n",
            "❌ Error uploading rat_221.jpg: Image was already annotated.\n",
            "❌ Error uploading rat_567.jpg: Image was already annotated.\n",
            "❌ Error uploading rat_100.jpg: Image was already annotated.\n",
            "❌ Error uploading rat_55.jpg: Image was already annotated.\n",
            "❌ Error uploading rat_96.jpg: Image was already annotated.\n",
            "❌ Error uploading rat_461.jpg: Image was already annotated.\n",
            "❌ Error uploading rat_117.jpg: Image was already annotated.\n",
            "✅ Successfully uploaded rat_1419.jpg with annotation.\n",
            "❌ Error uploading rat_714.jpg: Image was already annotated.\n",
            "✅ Successfully uploaded rat_192.jpg with annotation.\n",
            "✅ Successfully uploaded rat_895.jpg with annotation.\n",
            "❌ Error uploading rat_243.jpg: Image was already annotated.\n",
            "✅ Successfully uploaded rat_761.jpg with annotation.\n",
            "❌ Error uploading rat_443.jpg: Image was already annotated.\n",
            "✅ Successfully uploaded rat_57.jpg with annotation.\n",
            "❌ Error uploading rat_223.jpg: Image was already annotated.\n",
            "❌ Error uploading rat_329.jpg: Image was already annotated.\n",
            "✅ Successfully uploaded rat_897.jpg with annotation.\n",
            "❌ Error uploading rat_651.jpg: Image was already annotated.\n",
            "❌ Error uploading rat_115.jpg: Image was already annotated.\n",
            "✅ Successfully uploaded rat_59_converted.jpg with annotation.\n",
            "❌ Error uploading rat_429.jpg: Image was already annotated.\n",
            "❌ Error uploading rat_939.jpg: Image was already annotated.\n",
            "❌ Error uploading rat_190.jpg: Image was already annotated.\n",
            "✅ Successfully uploaded rat_431.jpg with annotation.\n",
            "❌ Error uploading rat_396.jpg: Image was already annotated.\n",
            "✅ Successfully uploaded rat_588.jpg with annotation.\n",
            "✅ Successfully uploaded rat_523.jpg with annotation.\n",
            "❌ Error uploading rat_1445.jpg: Image was already annotated.\n",
            "❌ Error uploading rat_1.jpg: Image was already annotated.\n",
            "❌ Error uploading rat_1155.jpg: Image was already annotated.\n",
            "✅ Successfully uploaded rat_388.jpg with annotation.\n",
            "❌ Error uploading rat_1261.jpg: Image was already annotated.\n",
            "❌ Error uploading rat_1536.jpg: Image was already annotated.\n",
            "✅ Successfully uploaded rat_6.jpg with annotation.\n",
            "❌ Error uploading rat_1075.jpg: Image was already annotated.\n",
            "✅ Successfully uploaded rat_967.jpg with annotation.\n",
            "✅ Successfully uploaded rat_1025.jpg with annotation.\n",
            "✅ Successfully uploaded rat_667.jpg with annotation.\n",
            "✅ Successfully uploaded rat_576.jpg with annotation.\n",
            "❌ Error uploading rat_947.jpg: Image was already annotated.\n",
            "❌ Error uploading rat_168.jpg: Image was already annotated.\n",
            "❌ Error uploading rat_119.jpg: Image was already annotated.\n",
            "❌ Error uploading rat_380.jpg: Image was already annotated.\n",
            "❌ Error uploading rat_1073.jpg: Image was already annotated.\n",
            "❌ Error uploading rat_1111.jpg: Image was already annotated.\n",
            "✅ Successfully uploaded rat_584.jpg with annotation.\n",
            "❌ Error uploading rat_1479.jpg: Image was already annotated.\n",
            "❌ Error uploading rat_977.jpg: Image was already annotated.\n",
            "❌ Error uploading rat_957.jpg: Image was already annotated.\n",
            "❌ Error uploading rat_1351.jpg: Image was already annotated.\n",
            "✅ Successfully uploaded rat_684.jpg with annotation.\n",
            "✅ Successfully uploaded rat_170.jpg with annotation.\n",
            "❌ Error uploading rat_647.jpg: Image was already annotated.\n",
            "❌ Error uploading rat_17.jpg: Image was already annotated.\n",
            "❌ Error uploading rat_298.jpg: Image was already annotated.\n",
            "❌ Error uploading rat_312.jpg: Image was already annotated.\n",
            "❌ Error uploading rat_492.jpg: Image was already annotated.\n",
            "✅ Successfully uploaded rat_1091.jpg with annotation.\n",
            "✅ Successfully uploaded rat_416.jpg with annotation.\n",
            "✅ Successfully uploaded rat_135.jpg with annotation.\n",
            "❌ Error uploading rat_943.jpg: Image was already annotated.\n",
            "✅ Successfully uploaded rat_1542.jpg with annotation.\n",
            "❌ Error uploading rat_357.jpg: Image was already annotated.\n",
            "❌ Error uploading rat_341.jpg: Image was already annotated.\n",
            "❌ Error uploading rat_1147.jpg: Image was already annotated.\n",
            "❌ Error uploading rat_398.jpg: Image was already annotated.\n",
            "❌ Error uploading rat_1049.jpg: Image was already annotated.\n",
            "❌ Error uploading rat_592.jpg: Image was already annotated.\n",
            "❌ Error uploading rat_604.jpg: Image was already annotated.\n",
            "❌ Error uploading rat_616.jpg: Image was already annotated.\n",
            "✅ Successfully uploaded rat_404.jpg with annotation.\n",
            "❌ Error uploading rat_765.jpg: Image was already annotated.\n",
            "❌ Error uploading rat_1409.jpg: Image was already annotated.\n",
            "❌ Error uploading rat_518.jpg: Image was already annotated.\n",
            "✅ Successfully uploaded rat_1457.jpg with annotation.\n",
            "❌ Error uploading rat_829.jpg: Image was already annotated.\n",
            "✅ Successfully uploaded rat_545.jpg with annotation.\n",
            "❌ Error uploading rat_1079.jpg: Image was already annotated.\n",
            "❌ Error uploading rat_1329.jpg: Image was already annotated.\n",
            "❌ Error uploading rat_671.jpg: Image was already annotated.\n",
            "❌ Error uploading rat_151.jpg: Image was already annotated.\n",
            "❌ Error uploading rat_859.jpg: Image was already annotated.\n",
            "✅ Successfully uploaded rat_70.jpg with annotation.\n",
            "❌ Error uploading rat_208.jpg: Image was already annotated.\n",
            "✅ Successfully uploaded rat_708.jpg with annotation.\n",
            "✅ Successfully uploaded rat_1247.jpg with annotation.\n",
            "✅ Successfully uploaded rat_1357.jpg with annotation.\n",
            "❌ Error uploading rat_365.jpg: Image was already annotated.\n",
            "✅ Successfully uploaded rat_1477.jpg with annotation.\n",
            "❌ Error uploading rat_1425.jpg: Image was already annotated.\n",
            "❌ Error uploading rat_476.jpg: Image was already annotated.\n",
            "❌ Error uploading rat_43.jpg: Image was already annotated.\n",
            "❌ Error uploading rat_873.jpg: Image was already annotated.\n",
            "❌ Error uploading rat_27.jpg: Image was already annotated.\n",
            "❌ Error uploading rat_692.jpg: Image was already annotated.\n",
            "✅ Successfully uploaded rat_1297.jpg with annotation.\n",
            "✅ Successfully uploaded rat_913.jpg with annotation.\n",
            "✅ Successfully uploaded rat_378.jpg with annotation.\n",
            "❌ Error uploading rat_919.jpg: Image was already annotated.\n",
            "❌ Error uploading rat_1047.jpg: Image was already annotated.\n",
            "❌ Error uploading rat_643.jpg: Image was already annotated.\n",
            "✅ Successfully uploaded rat_455.jpg with annotation.\n",
            "✅ Successfully uploaded rat_386.jpg with annotation.\n",
            "❌ Error uploading rat_887.jpg: Image was already annotated.\n",
            "❌ Error uploading rat_1059.jpg: Image was already annotated.\n",
            "❌ Error uploading rat_29.jpg: Image was already annotated.\n",
            "❌ Error uploading rat_1077.jpg: Image was already annotated.\n",
            "✅ Successfully uploaded rat_627.jpg with annotation.\n",
            "❌ Error uploading rat_1107.jpg: Image was already annotated.\n",
            "❌ Error uploading rat_1099.jpg: Image was already annotated.\n",
            "❌ Error uploading rat_435.jpg: Image was already annotated.\n",
            "✅ Successfully uploaded rat_231.jpg with annotation.\n",
            "❌ Error uploading rat_66.jpg: Image was already annotated.\n",
            "❌ Error uploading rat_480.jpg: Image was already annotated.\n",
            "✅ Successfully uploaded rat_41.jpg with annotation.\n",
            "❌ Error uploading rat_90.jpg: Image was already annotated.\n",
            "❌ Error uploading rat_1071.jpg: Image was already annotated.\n",
            "✅ Successfully uploaded rat_172.jpg with annotation.\n",
            "❌ Error uploading rat_891.jpg: Image was already annotated.\n",
            "❌ Error uploading rat_5.jpg: Image was already annotated.\n",
            "✅ Successfully uploaded rat_600.jpg with annotation.\n",
            "✅ Successfully uploaded rat_1153.jpg with annotation.\n",
            "❌ Error uploading rat_37.jpg: Image was already annotated.\n",
            "✅ Successfully uploaded rat_325.jpg with annotation.\n",
            "❌ Error uploading rat_1057.jpg: Image was already annotated.\n",
            "❌ Error uploading rat_219.jpg: Image was already annotated.\n",
            "❌ Error uploading rat_555.jpg: Image was already annotated.\n",
            "❌ Error uploading rat_351.jpg: Image was already annotated.\n",
            "✅ Successfully uploaded rat_157.jpg with annotation.\n",
            "✅ Successfully uploaded rat_694.jpg with annotation.\n",
            "❌ Error uploading rat_161.jpg: Image was already annotated.\n",
            "❌ Error uploading rat_822.jpg: Image was already annotated.\n",
            "❌ Error uploading rat_394.jpg: Image was already annotated.\n",
            "✅ Successfully uploaded rat_798.jpg with annotation.\n",
            "✅ Successfully uploaded rat_1485.jpg with annotation.\n",
            "✅ Successfully uploaded rat_343.jpg with annotation.\n",
            "✅ Successfully uploaded rat_45.jpg with annotation.\n",
            "✅ Successfully uploaded rat_182.jpg with annotation.\n",
            "❌ Error uploading rat_327.jpg: Image was already annotated.\n",
            "❌ Error uploading rat_720.jpg: Image was already annotated.\n",
            "✅ Successfully uploaded rat_907.jpg with annotation.\n",
            "❌ Error uploading rat_665.jpg: Image was already annotated.\n",
            "❌ Error uploading rat_302.jpg: Image was already annotated.\n",
            "✅ Successfully uploaded rat_1465_converted.jpg with annotation.\n",
            "❌ Error uploading rat_72.jpg: Image was already annotated.\n",
            "❌ Error uploading rat_1550.jpg: Image was already annotated.\n",
            "✅ Successfully uploaded rat_1309.jpg with annotation.\n",
            "❌ Error uploading rat_606.jpg: Image was already annotated.\n",
            "✅ Successfully uploaded rat_472.jpg with annotation.\n",
            "❌ Error uploading rat_931.jpg: Image was already annotated.\n",
            "✅ Successfully uploaded rat_278.jpg with annotation.\n",
            "✅ Successfully uploaded rat_304.jpg with annotation.\n",
            "❌ Error uploading rat_1211.jpg: Image was already annotated.\n",
            "❌ Error uploading rat_753.jpg: Image was already annotated.\n",
            "❌ Error uploading rat_153.jpg: Image was already annotated.\n",
            "✅ Successfully uploaded rat_439.jpg with annotation.\n",
            "❌ Error uploading rat_578.jpg: Image was already annotated.\n",
            "❌ Error uploading rat_1183.jpg: Image was already annotated.\n",
            "❌ Error uploading rat_217.jpg: Image was already annotated.\n",
            "✅ Successfully uploaded rat_184.jpg with annotation.\n",
            "✅ Successfully uploaded rat_498.jpg with annotation.\n",
            "✅ Successfully uploaded rat_1451.jpg with annotation.\n",
            "✅ Successfully uploaded rat_376.jpg with annotation.\n",
            "❌ Error uploading rat_563.jpg: Image was already annotated.\n",
            "❌ Error uploading rat_1431.jpg: Image was already annotated.\n",
            "❌ Error uploading rat_121.jpg: Image was already annotated.\n",
            "✅ Successfully uploaded rat_991.jpg with annotation.\n",
            "✅ Successfully uploaded rat_965.jpg with annotation.\n",
            "✅ Successfully uploaded rat_247.jpg with annotation.\n",
            "❌ Error uploading rat_457.jpg: Image was already annotated.\n",
            "✅ Successfully uploaded rat_1337.jpg with annotation.\n",
            "❌ Error uploading rat_981.jpg: Image was already annotated.\n",
            "❌ Error uploading rat_608.jpg: Image was already annotated.\n",
            "✅ Successfully uploaded rat_241_converted.jpg with annotation.\n",
            "❌ Error uploading rat_106.jpg: Image was already annotated.\n",
            "❌ Error uploading rat_1189.jpg: Image was already annotated.\n",
            "✅ Successfully uploaded rat_716.jpg with annotation.\n",
            "❌ Error uploading rat_937.jpg: Image was already annotated.\n",
            "✅ Successfully uploaded rat_188.jpg with annotation.\n",
            "❌ Error uploading rat_935.jpg: Image was already annotated.\n",
            "❌ Error uploading rat_586.jpg: Image was already annotated.\n",
            "❌ Error uploading rat_1317.jpg: Image was already annotated.\n",
            "❌ Error uploading rat_1185.jpg: Image was already annotated.\n",
            "❌ Error uploading rat_76.jpg: Image was already annotated.\n",
            "✅ Successfully uploaded rat_1495.jpg with annotation.\n",
            "❌ Error uploading rat_1081.jpg: Image was already annotated.\n",
            "✅ Successfully uploaded rat_229.jpg with annotation.\n",
            "✅ Successfully uploaded rat_296.jpg with annotation.\n",
            "❌ Error uploading rat_855.jpg: Image was already annotated.\n",
            "❌ Error uploading rat_1473.jpg: Image was already annotated.\n",
            "✅ Successfully uploaded rat_1355.jpg with annotation.\n",
            "❌ Error uploading rat_865.jpg: Image was already annotated.\n",
            "❌ Error uploading rat_2.jpg: Image was already annotated.\n",
            "✅ Successfully uploaded rat_1413.jpg with annotation.\n",
            "❌ Error uploading rat_274.jpg: Image was already annotated.\n",
            "❌ Error uploading rat_596.jpg: Image was already annotated.\n",
            "❌ Error uploading rat_494.jpg: Image was already annotated.\n",
            "❌ Error uploading rat_131.jpg: Image was already annotated.\n",
            "✅ Successfully uploaded rat_810.jpg with annotation.\n",
            "✅ Successfully uploaded rat_1385.jpg with annotation.\n",
            "❌ Error uploading rat_1037.jpg: Image was already annotated.\n",
            "✅ Successfully uploaded rat_1045.jpg with annotation.\n",
            "❌ Error uploading rat_294.jpg: Image was already annotated.\n",
            "✅ Successfully uploaded rat_319_converted.jpg with annotation.\n",
            "❌ Error uploading rat_104.jpg: Image was already annotated.\n",
            "❌ Error uploading rat_1447.jpg: Image was already annotated.\n",
            "✅ Successfully uploaded rat_1143.jpg with annotation.\n",
            "✅ Successfully uploaded rat_102_converted.jpg with annotation.\n",
            "✅ Successfully uploaded rat_490.jpg with annotation.\n",
            "✅ Successfully uploaded rat_747.jpg with annotation.\n",
            "❌ Error uploading rat_649.jpg: Image was already annotated.\n",
            "✅ Successfully uploaded rat_1313.jpg with annotation.\n",
            "❌ Error uploading rat_682.jpg: Image was already annotated.\n",
            "❌ Error uploading rat_13.jpg: Image was already annotated.\n",
            "✅ Successfully uploaded rat_425.jpg with annotation.\n",
            "❌ Error uploading rat_757.jpg: Image was already annotated.\n",
            "✅ Successfully uploaded rat_696.jpg with annotation.\n",
            "✅ Successfully uploaded rat_1379.jpg with annotation.\n",
            "❌ Error uploading rat_282.jpg: Image was already annotated.\n",
            "✅ Successfully uploaded rat_812_converted.jpg with annotation.\n",
            "✅ Successfully uploaded rat_286.jpg with annotation.\n",
            "✅ Successfully uploaded rat_23.jpg with annotation.\n",
            "❌ Error uploading rat_839.jpg: Image was already annotated.\n",
            "✅ Successfully uploaded rat_508.jpg with annotation.\n",
            "❌ Error uploading rat_33.jpg: Image was already annotated.\n",
            "✅ Successfully uploaded rat_1343.jpg with annotation.\n",
            "✅ Successfully uploaded rat_268.jpg with annotation.\n",
            "❌ Error uploading rat_847.jpg: Image was already annotated.\n",
            "❌ Error uploading rat_18.jpg: Image was already annotated.\n",
            "✅ Successfully uploaded rat_1467.jpg with annotation.\n",
            "❌ Error uploading rat_1489.jpg: Image was already annotated.\n",
            "❌ Error uploading rat_565.jpg: Image was already annotated.\n",
            "✅ Successfully uploaded rat_1223.jpg with annotation.\n",
            "❌ Error uploading rat_1257.jpg: Image was already annotated.\n",
            "✅ Successfully uploaded rat_253.jpg with annotation.\n",
            "✅ Successfully uploaded rat_125.jpg with annotation.\n",
            "✅ Successfully uploaded rat_123.jpg with annotation.\n",
            "❌ Error uploading rat_1023.jpg: Image was already annotated.\n",
            "✅ Successfully uploaded rat_210.jpg with annotation.\n",
            "✅ Successfully uploaded rat_474.jpg with annotation.\n",
            "❌ Error uploading rat_467.jpg: Image was already annotated.\n",
            "✅ Successfully uploaded rat_1249.jpg with annotation.\n",
            "❌ Error uploading rat_270.jpg: Image was already annotated.\n",
            "✅ Successfully uploaded rat_1083.jpg with annotation.\n",
            "❌ Error uploading rat_955.jpg: Image was already annotated.\n",
            "✅ Successfully uploaded rat_333.jpg with annotation.\n",
            "✅ Successfully uploaded rat_594.jpg with annotation.\n",
            "✅ Successfully uploaded rat_1043.jpg with annotation.\n",
            "✅ Successfully uploaded rat_137.jpg with annotation.\n",
            "✅ Successfully uploaded rat_194.jpg with annotation.\n",
            "✅ Successfully uploaded rat_641.jpg with annotation.\n",
            "❌ Error uploading rat_786.jpg: Image was already annotated.\n",
            "❌ Error uploading rat_1514.jpg: Image was already annotated.\n",
            "✅ Successfully uploaded rat_355.jpg with annotation.\n",
            "❌ Error uploading rat_196.jpg: Image was already annotated.\n",
            "❌ Error uploading rat_437.jpg: Image was already annotated.\n",
            "❌ Error uploading rat_788.jpg: Image was already annotated.\n",
            "❌ Error uploading rat_308.jpg: Image was already annotated.\n",
            "❌ Error uploading rat_449.jpg: Image was already annotated.\n",
            "❌ Error uploading rat_186.jpg: Image was already annotated.\n",
            "❌ Error uploading rat_661.jpg: Image was already annotated.\n",
            "✅ Successfully uploaded rat_759.jpg with annotation.\n",
            "✅ Successfully uploaded rat_453.jpg with annotation.\n",
            "❌ Error uploading rat_174.jpg: Image was already annotated.\n",
            "✅ Successfully uploaded rat_180.jpg with annotation.\n",
            "❌ Error uploading rat_1437.jpg: Image was already annotated.\n",
            "✅ Successfully uploaded rat_206.jpg with annotation.\n",
            "✅ Successfully uploaded rat_1530.jpg with annotation.\n",
            "❌ Error uploading rat_1325.jpg: Image was already annotated.\n",
            "❌ Error uploading rat_84.jpg: Image was already annotated.\n",
            "✅ Successfully uploaded rat_949.jpg with annotation.\n",
            "❌ Error uploading rat_237.jpg: Image was already annotated.\n",
            "✅ Successfully uploaded rat_1017.jpg with annotation.\n",
            "✅ Successfully uploaded rat_743.jpg with annotation.\n",
            "✅ Successfully uploaded rat_995.jpg with annotation.\n",
            "✅ Successfully uploaded rat_533.jpg with annotation.\n",
            "✅ Successfully uploaded rat_767.jpg with annotation.\n",
            "❌ Error uploading rat_423.jpg: Image was already annotated.\n",
            "✅ Successfully uploaded rat_590.jpg with annotation.\n",
            "✅ Successfully uploaded rat_272.jpg with annotation.\n",
            "✅ Successfully uploaded rat_1101.jpg with annotation.\n",
            "✅ Successfully uploaded rat_806.jpg with annotation.\n",
            "❌ Error uploading rat_871.jpg: Image was already annotated.\n",
            "❌ Error uploading rat_1307.jpg: Image was already annotated.\n",
            "❌ Error uploading rat_535.jpg: Image was already annotated.\n",
            "✅ Successfully uploaded rat_284.jpg with annotation.\n",
            "✅ Successfully uploaded rat_257.jpg with annotation.\n",
            "✅ Successfully uploaded rat_98.jpg with annotation.\n",
            "✅ Successfully uploaded rat_64.jpg with annotation.\n",
            "❌ Error uploading rat_633.jpg: Image was already annotated.\n",
            "❌ Error uploading rat_1027.jpg: Image was already annotated.\n",
            "✅ Successfully uploaded rat_235.jpg with annotation.\n",
            "✅ Successfully uploaded rat_1233.jpg with annotation.\n",
            "✅ Successfully uploaded rat_20.jpg with annotation.\n",
            "✅ Successfully uploaded rat_1089.jpg with annotation.\n",
            "✅ Successfully uploaded rat_108.jpg with annotation.\n",
            "✅ Successfully uploaded rat_292.jpg with annotation.\n",
            "❌ Error uploading rat_465.jpg: Image was already annotated.\n",
            "❌ Error uploading rat_94.jpg: Image was already annotated.\n",
            "❌ Error uploading rat_51.jpg: Image was already annotated.\n",
            "❌ Error uploading rat_1508.jpg: Image was already annotated.\n",
            "❌ Error uploading rat_49.jpg: Image was already annotated.\n",
            "✅ Successfully uploaded rat_68.jpg with annotation.\n",
            "❌ Error uploading rat_21.jpg: Image was already annotated.\n",
            "❌ Error uploading rat_1291.jpg: Image was already annotated.\n",
            "❌ Error uploading rat_78.jpg: Image was already annotated.\n",
            "✅ Successfully uploaded rat_384.jpg with annotation.\n",
            "❌ Error uploading rat_800.jpg: Image was already annotated.\n",
            "❌ Error uploading rat_7.jpg: Image was already annotated.\n",
            "✅ Successfully uploaded rat_463.jpg with annotation.\n",
            "❌ Error uploading rat_447.jpg: Image was already annotated.\n",
            "❌ Error uploading rat_698.jpg: Image was already annotated.\n",
            "✅ Successfully uploaded rat_363.jpg with annotation.\n",
            "❌ Error uploading rat_245.jpg: Image was already annotated.\n",
            "✅ Successfully uploaded rat_445.jpg with annotation.\n",
            "❌ Error uploading rat_889.jpg: Image was already annotated.\n",
            "❌ Error uploading rat_849.jpg: Image was already annotated.\n",
            "✅ Successfully uploaded rat_557.jpg with annotation.\n",
            "✅ Successfully uploaded rat_582.jpg with annotation.\n",
            "❌ Error uploading rat_306.jpg: Image was already annotated.\n",
            "❌ Error uploading rat_314.jpg: Image was already annotated.\n",
            "✅ Successfully uploaded rat_233.jpg with annotation.\n",
            "✅ Successfully uploaded rat_129.jpg with annotation.\n",
            "❌ Error uploading rat_400.jpg: Image was already annotated.\n",
            "❌ Error uploading rat_88.jpg: Image was already annotated.\n",
            "✅ Successfully uploaded rat_792.jpg with annotation.\n",
            "✅ Successfully uploaded rat_1399.jpg with annotation.\n",
            "✅ Successfully uploaded rat_39.jpg with annotation.\n",
            "✅ Successfully uploaded rat_1039.jpg with annotation.\n",
            "❌ Error uploading rat_80.jpg: Image was already annotated.\n",
            "✅ Successfully uploaded rat_831.jpg with annotation.\n",
            "❌ Error uploading rat_1067.jpg: Image was already annotated.\n",
            "❌ Error uploading rat_645.jpg: Image was already annotated.\n",
            "✅ Successfully uploaded rat_53.jpg with annotation.\n",
            "✅ Successfully uploaded rat_680.jpg with annotation.\n",
            "❌ Error uploading rat_370.jpg: Image was already annotated.\n",
            "✅ Successfully uploaded rat_1293.jpg with annotation.\n",
            "❌ Error uploading rat_359.jpg: Image was already annotated.\n",
            "✅ Successfully uploaded rat_971.jpg with annotation.\n",
            "❌ Error uploading rat_353.jpg: Image was already annotated.\n",
            "✅ Successfully uploaded rat_881.jpg with annotation.\n",
            "✅ Successfully uploaded rat_637.jpg with annotation.\n",
            "✅ Successfully uploaded rat_1433.jpg with annotation.\n",
            "❌ Error uploading rat_975.jpg: Image was already annotated.\n"
          ]
        }
      ]
    }
  ],
  "metadata": {
    "accelerator": "GPU",
    "colab": {
      "provenance": [],
      "toc_visible": true,
      "include_colab_link": true
    },
    "gpuClass": "standard",
    "kernelspec": {
      "display_name": "Python 3",
      "name": "python3"
    },
    "language_info": {
      "name": "python"
    },
    "widgets": {
      "application/vnd.jupyter.widget-state+json": {
        "c847ca4ce35646e797fbef4da1a283b5": {
          "model_module": "@jupyter-widgets/controls",
          "model_name": "HBoxModel",
          "model_module_version": "1.5.0",
          "state": {
            "_dom_classes": [],
            "_model_module": "@jupyter-widgets/controls",
            "_model_module_version": "1.5.0",
            "_model_name": "HBoxModel",
            "_view_count": null,
            "_view_module": "@jupyter-widgets/controls",
            "_view_module_version": "1.5.0",
            "_view_name": "HBoxView",
            "box_style": "",
            "children": [
              "IPY_MODEL_ee91452c524a408a97505827e71a1e9a",
              "IPY_MODEL_280603c17a7c4065942eb428428549c6",
              "IPY_MODEL_a01af97bca4c48aba568c562c6a2c7c8"
            ],
            "layout": "IPY_MODEL_6ec46dc64a0a456d841d76afbef7a76e"
          }
        },
        "ee91452c524a408a97505827e71a1e9a": {
          "model_module": "@jupyter-widgets/controls",
          "model_name": "HTMLModel",
          "model_module_version": "1.5.0",
          "state": {
            "_dom_classes": [],
            "_model_module": "@jupyter-widgets/controls",
            "_model_module_version": "1.5.0",
            "_model_name": "HTMLModel",
            "_view_count": null,
            "_view_module": "@jupyter-widgets/controls",
            "_view_module_version": "1.5.0",
            "_view_name": "HTMLView",
            "description": "",
            "description_tooltip": null,
            "layout": "IPY_MODEL_3c325b62fddf44afa12db88831c896e8",
            "placeholder": "​",
            "style": "IPY_MODEL_b8b6b3ad330b42c8ad614414dc8139a1",
            "value": "tokenizer_config.json: 100%"
          }
        },
        "280603c17a7c4065942eb428428549c6": {
          "model_module": "@jupyter-widgets/controls",
          "model_name": "FloatProgressModel",
          "model_module_version": "1.5.0",
          "state": {
            "_dom_classes": [],
            "_model_module": "@jupyter-widgets/controls",
            "_model_module_version": "1.5.0",
            "_model_name": "FloatProgressModel",
            "_view_count": null,
            "_view_module": "@jupyter-widgets/controls",
            "_view_module_version": "1.5.0",
            "_view_name": "ProgressView",
            "bar_style": "success",
            "description": "",
            "description_tooltip": null,
            "layout": "IPY_MODEL_a1a737a4041d4313af99ebe2978f54b5",
            "max": 48,
            "min": 0,
            "orientation": "horizontal",
            "style": "IPY_MODEL_8c3a1e0c187c40949f95c02713707ebb",
            "value": 48
          }
        },
        "a01af97bca4c48aba568c562c6a2c7c8": {
          "model_module": "@jupyter-widgets/controls",
          "model_name": "HTMLModel",
          "model_module_version": "1.5.0",
          "state": {
            "_dom_classes": [],
            "_model_module": "@jupyter-widgets/controls",
            "_model_module_version": "1.5.0",
            "_model_name": "HTMLModel",
            "_view_count": null,
            "_view_module": "@jupyter-widgets/controls",
            "_view_module_version": "1.5.0",
            "_view_name": "HTMLView",
            "description": "",
            "description_tooltip": null,
            "layout": "IPY_MODEL_68f908b25c88436fa8085d95e26332bc",
            "placeholder": "​",
            "style": "IPY_MODEL_ca75ccead1c5416bb474dbd0c647d265",
            "value": " 48.0/48.0 [00:00&lt;00:00, 2.88kB/s]"
          }
        },
        "6ec46dc64a0a456d841d76afbef7a76e": {
          "model_module": "@jupyter-widgets/base",
          "model_name": "LayoutModel",
          "model_module_version": "1.2.0",
          "state": {
            "_model_module": "@jupyter-widgets/base",
            "_model_module_version": "1.2.0",
            "_model_name": "LayoutModel",
            "_view_count": null,
            "_view_module": "@jupyter-widgets/base",
            "_view_module_version": "1.2.0",
            "_view_name": "LayoutView",
            "align_content": null,
            "align_items": null,
            "align_self": null,
            "border": null,
            "bottom": null,
            "display": null,
            "flex": null,
            "flex_flow": null,
            "grid_area": null,
            "grid_auto_columns": null,
            "grid_auto_flow": null,
            "grid_auto_rows": null,
            "grid_column": null,
            "grid_gap": null,
            "grid_row": null,
            "grid_template_areas": null,
            "grid_template_columns": null,
            "grid_template_rows": null,
            "height": null,
            "justify_content": null,
            "justify_items": null,
            "left": null,
            "margin": null,
            "max_height": null,
            "max_width": null,
            "min_height": null,
            "min_width": null,
            "object_fit": null,
            "object_position": null,
            "order": null,
            "overflow": null,
            "overflow_x": null,
            "overflow_y": null,
            "padding": null,
            "right": null,
            "top": null,
            "visibility": null,
            "width": null
          }
        },
        "3c325b62fddf44afa12db88831c896e8": {
          "model_module": "@jupyter-widgets/base",
          "model_name": "LayoutModel",
          "model_module_version": "1.2.0",
          "state": {
            "_model_module": "@jupyter-widgets/base",
            "_model_module_version": "1.2.0",
            "_model_name": "LayoutModel",
            "_view_count": null,
            "_view_module": "@jupyter-widgets/base",
            "_view_module_version": "1.2.0",
            "_view_name": "LayoutView",
            "align_content": null,
            "align_items": null,
            "align_self": null,
            "border": null,
            "bottom": null,
            "display": null,
            "flex": null,
            "flex_flow": null,
            "grid_area": null,
            "grid_auto_columns": null,
            "grid_auto_flow": null,
            "grid_auto_rows": null,
            "grid_column": null,
            "grid_gap": null,
            "grid_row": null,
            "grid_template_areas": null,
            "grid_template_columns": null,
            "grid_template_rows": null,
            "height": null,
            "justify_content": null,
            "justify_items": null,
            "left": null,
            "margin": null,
            "max_height": null,
            "max_width": null,
            "min_height": null,
            "min_width": null,
            "object_fit": null,
            "object_position": null,
            "order": null,
            "overflow": null,
            "overflow_x": null,
            "overflow_y": null,
            "padding": null,
            "right": null,
            "top": null,
            "visibility": null,
            "width": null
          }
        },
        "b8b6b3ad330b42c8ad614414dc8139a1": {
          "model_module": "@jupyter-widgets/controls",
          "model_name": "DescriptionStyleModel",
          "model_module_version": "1.5.0",
          "state": {
            "_model_module": "@jupyter-widgets/controls",
            "_model_module_version": "1.5.0",
            "_model_name": "DescriptionStyleModel",
            "_view_count": null,
            "_view_module": "@jupyter-widgets/base",
            "_view_module_version": "1.2.0",
            "_view_name": "StyleView",
            "description_width": ""
          }
        },
        "a1a737a4041d4313af99ebe2978f54b5": {
          "model_module": "@jupyter-widgets/base",
          "model_name": "LayoutModel",
          "model_module_version": "1.2.0",
          "state": {
            "_model_module": "@jupyter-widgets/base",
            "_model_module_version": "1.2.0",
            "_model_name": "LayoutModel",
            "_view_count": null,
            "_view_module": "@jupyter-widgets/base",
            "_view_module_version": "1.2.0",
            "_view_name": "LayoutView",
            "align_content": null,
            "align_items": null,
            "align_self": null,
            "border": null,
            "bottom": null,
            "display": null,
            "flex": null,
            "flex_flow": null,
            "grid_area": null,
            "grid_auto_columns": null,
            "grid_auto_flow": null,
            "grid_auto_rows": null,
            "grid_column": null,
            "grid_gap": null,
            "grid_row": null,
            "grid_template_areas": null,
            "grid_template_columns": null,
            "grid_template_rows": null,
            "height": null,
            "justify_content": null,
            "justify_items": null,
            "left": null,
            "margin": null,
            "max_height": null,
            "max_width": null,
            "min_height": null,
            "min_width": null,
            "object_fit": null,
            "object_position": null,
            "order": null,
            "overflow": null,
            "overflow_x": null,
            "overflow_y": null,
            "padding": null,
            "right": null,
            "top": null,
            "visibility": null,
            "width": null
          }
        },
        "8c3a1e0c187c40949f95c02713707ebb": {
          "model_module": "@jupyter-widgets/controls",
          "model_name": "ProgressStyleModel",
          "model_module_version": "1.5.0",
          "state": {
            "_model_module": "@jupyter-widgets/controls",
            "_model_module_version": "1.5.0",
            "_model_name": "ProgressStyleModel",
            "_view_count": null,
            "_view_module": "@jupyter-widgets/base",
            "_view_module_version": "1.2.0",
            "_view_name": "StyleView",
            "bar_color": null,
            "description_width": ""
          }
        },
        "68f908b25c88436fa8085d95e26332bc": {
          "model_module": "@jupyter-widgets/base",
          "model_name": "LayoutModel",
          "model_module_version": "1.2.0",
          "state": {
            "_model_module": "@jupyter-widgets/base",
            "_model_module_version": "1.2.0",
            "_model_name": "LayoutModel",
            "_view_count": null,
            "_view_module": "@jupyter-widgets/base",
            "_view_module_version": "1.2.0",
            "_view_name": "LayoutView",
            "align_content": null,
            "align_items": null,
            "align_self": null,
            "border": null,
            "bottom": null,
            "display": null,
            "flex": null,
            "flex_flow": null,
            "grid_area": null,
            "grid_auto_columns": null,
            "grid_auto_flow": null,
            "grid_auto_rows": null,
            "grid_column": null,
            "grid_gap": null,
            "grid_row": null,
            "grid_template_areas": null,
            "grid_template_columns": null,
            "grid_template_rows": null,
            "height": null,
            "justify_content": null,
            "justify_items": null,
            "left": null,
            "margin": null,
            "max_height": null,
            "max_width": null,
            "min_height": null,
            "min_width": null,
            "object_fit": null,
            "object_position": null,
            "order": null,
            "overflow": null,
            "overflow_x": null,
            "overflow_y": null,
            "padding": null,
            "right": null,
            "top": null,
            "visibility": null,
            "width": null
          }
        },
        "ca75ccead1c5416bb474dbd0c647d265": {
          "model_module": "@jupyter-widgets/controls",
          "model_name": "DescriptionStyleModel",
          "model_module_version": "1.5.0",
          "state": {
            "_model_module": "@jupyter-widgets/controls",
            "_model_module_version": "1.5.0",
            "_model_name": "DescriptionStyleModel",
            "_view_count": null,
            "_view_module": "@jupyter-widgets/base",
            "_view_module_version": "1.2.0",
            "_view_name": "StyleView",
            "description_width": ""
          }
        },
        "d423def360c34300bca4b97802d1c91c": {
          "model_module": "@jupyter-widgets/controls",
          "model_name": "HBoxModel",
          "model_module_version": "1.5.0",
          "state": {
            "_dom_classes": [],
            "_model_module": "@jupyter-widgets/controls",
            "_model_module_version": "1.5.0",
            "_model_name": "HBoxModel",
            "_view_count": null,
            "_view_module": "@jupyter-widgets/controls",
            "_view_module_version": "1.5.0",
            "_view_name": "HBoxView",
            "box_style": "",
            "children": [
              "IPY_MODEL_c5cb5dbf60524cf0ac9e95ecc9accb72",
              "IPY_MODEL_552452637d00409d97c1d3dc9e4675a8",
              "IPY_MODEL_db57b90852e5460eb6acaa4feeaa7820"
            ],
            "layout": "IPY_MODEL_2c5c111fd5984543ae7234003cf20be5"
          }
        },
        "c5cb5dbf60524cf0ac9e95ecc9accb72": {
          "model_module": "@jupyter-widgets/controls",
          "model_name": "HTMLModel",
          "model_module_version": "1.5.0",
          "state": {
            "_dom_classes": [],
            "_model_module": "@jupyter-widgets/controls",
            "_model_module_version": "1.5.0",
            "_model_name": "HTMLModel",
            "_view_count": null,
            "_view_module": "@jupyter-widgets/controls",
            "_view_module_version": "1.5.0",
            "_view_name": "HTMLView",
            "description": "",
            "description_tooltip": null,
            "layout": "IPY_MODEL_207119da1e004c9db2d471b654e2e0d5",
            "placeholder": "​",
            "style": "IPY_MODEL_c466b65702884405a7f46e4c83d6e616",
            "value": "config.json: 100%"
          }
        },
        "552452637d00409d97c1d3dc9e4675a8": {
          "model_module": "@jupyter-widgets/controls",
          "model_name": "FloatProgressModel",
          "model_module_version": "1.5.0",
          "state": {
            "_dom_classes": [],
            "_model_module": "@jupyter-widgets/controls",
            "_model_module_version": "1.5.0",
            "_model_name": "FloatProgressModel",
            "_view_count": null,
            "_view_module": "@jupyter-widgets/controls",
            "_view_module_version": "1.5.0",
            "_view_name": "ProgressView",
            "bar_style": "success",
            "description": "",
            "description_tooltip": null,
            "layout": "IPY_MODEL_1fe307e4450443b09cd2b14e10f41aca",
            "max": 570,
            "min": 0,
            "orientation": "horizontal",
            "style": "IPY_MODEL_0e3d5c47e93648d290431bc9fda8d061",
            "value": 570
          }
        },
        "db57b90852e5460eb6acaa4feeaa7820": {
          "model_module": "@jupyter-widgets/controls",
          "model_name": "HTMLModel",
          "model_module_version": "1.5.0",
          "state": {
            "_dom_classes": [],
            "_model_module": "@jupyter-widgets/controls",
            "_model_module_version": "1.5.0",
            "_model_name": "HTMLModel",
            "_view_count": null,
            "_view_module": "@jupyter-widgets/controls",
            "_view_module_version": "1.5.0",
            "_view_name": "HTMLView",
            "description": "",
            "description_tooltip": null,
            "layout": "IPY_MODEL_c610d25a8b594026b21cc26ce0b8f9cc",
            "placeholder": "​",
            "style": "IPY_MODEL_fbd335f39e3642f685e384f8f2316717",
            "value": " 570/570 [00:00&lt;00:00, 40.4kB/s]"
          }
        },
        "2c5c111fd5984543ae7234003cf20be5": {
          "model_module": "@jupyter-widgets/base",
          "model_name": "LayoutModel",
          "model_module_version": "1.2.0",
          "state": {
            "_model_module": "@jupyter-widgets/base",
            "_model_module_version": "1.2.0",
            "_model_name": "LayoutModel",
            "_view_count": null,
            "_view_module": "@jupyter-widgets/base",
            "_view_module_version": "1.2.0",
            "_view_name": "LayoutView",
            "align_content": null,
            "align_items": null,
            "align_self": null,
            "border": null,
            "bottom": null,
            "display": null,
            "flex": null,
            "flex_flow": null,
            "grid_area": null,
            "grid_auto_columns": null,
            "grid_auto_flow": null,
            "grid_auto_rows": null,
            "grid_column": null,
            "grid_gap": null,
            "grid_row": null,
            "grid_template_areas": null,
            "grid_template_columns": null,
            "grid_template_rows": null,
            "height": null,
            "justify_content": null,
            "justify_items": null,
            "left": null,
            "margin": null,
            "max_height": null,
            "max_width": null,
            "min_height": null,
            "min_width": null,
            "object_fit": null,
            "object_position": null,
            "order": null,
            "overflow": null,
            "overflow_x": null,
            "overflow_y": null,
            "padding": null,
            "right": null,
            "top": null,
            "visibility": null,
            "width": null
          }
        },
        "207119da1e004c9db2d471b654e2e0d5": {
          "model_module": "@jupyter-widgets/base",
          "model_name": "LayoutModel",
          "model_module_version": "1.2.0",
          "state": {
            "_model_module": "@jupyter-widgets/base",
            "_model_module_version": "1.2.0",
            "_model_name": "LayoutModel",
            "_view_count": null,
            "_view_module": "@jupyter-widgets/base",
            "_view_module_version": "1.2.0",
            "_view_name": "LayoutView",
            "align_content": null,
            "align_items": null,
            "align_self": null,
            "border": null,
            "bottom": null,
            "display": null,
            "flex": null,
            "flex_flow": null,
            "grid_area": null,
            "grid_auto_columns": null,
            "grid_auto_flow": null,
            "grid_auto_rows": null,
            "grid_column": null,
            "grid_gap": null,
            "grid_row": null,
            "grid_template_areas": null,
            "grid_template_columns": null,
            "grid_template_rows": null,
            "height": null,
            "justify_content": null,
            "justify_items": null,
            "left": null,
            "margin": null,
            "max_height": null,
            "max_width": null,
            "min_height": null,
            "min_width": null,
            "object_fit": null,
            "object_position": null,
            "order": null,
            "overflow": null,
            "overflow_x": null,
            "overflow_y": null,
            "padding": null,
            "right": null,
            "top": null,
            "visibility": null,
            "width": null
          }
        },
        "c466b65702884405a7f46e4c83d6e616": {
          "model_module": "@jupyter-widgets/controls",
          "model_name": "DescriptionStyleModel",
          "model_module_version": "1.5.0",
          "state": {
            "_model_module": "@jupyter-widgets/controls",
            "_model_module_version": "1.5.0",
            "_model_name": "DescriptionStyleModel",
            "_view_count": null,
            "_view_module": "@jupyter-widgets/base",
            "_view_module_version": "1.2.0",
            "_view_name": "StyleView",
            "description_width": ""
          }
        },
        "1fe307e4450443b09cd2b14e10f41aca": {
          "model_module": "@jupyter-widgets/base",
          "model_name": "LayoutModel",
          "model_module_version": "1.2.0",
          "state": {
            "_model_module": "@jupyter-widgets/base",
            "_model_module_version": "1.2.0",
            "_model_name": "LayoutModel",
            "_view_count": null,
            "_view_module": "@jupyter-widgets/base",
            "_view_module_version": "1.2.0",
            "_view_name": "LayoutView",
            "align_content": null,
            "align_items": null,
            "align_self": null,
            "border": null,
            "bottom": null,
            "display": null,
            "flex": null,
            "flex_flow": null,
            "grid_area": null,
            "grid_auto_columns": null,
            "grid_auto_flow": null,
            "grid_auto_rows": null,
            "grid_column": null,
            "grid_gap": null,
            "grid_row": null,
            "grid_template_areas": null,
            "grid_template_columns": null,
            "grid_template_rows": null,
            "height": null,
            "justify_content": null,
            "justify_items": null,
            "left": null,
            "margin": null,
            "max_height": null,
            "max_width": null,
            "min_height": null,
            "min_width": null,
            "object_fit": null,
            "object_position": null,
            "order": null,
            "overflow": null,
            "overflow_x": null,
            "overflow_y": null,
            "padding": null,
            "right": null,
            "top": null,
            "visibility": null,
            "width": null
          }
        },
        "0e3d5c47e93648d290431bc9fda8d061": {
          "model_module": "@jupyter-widgets/controls",
          "model_name": "ProgressStyleModel",
          "model_module_version": "1.5.0",
          "state": {
            "_model_module": "@jupyter-widgets/controls",
            "_model_module_version": "1.5.0",
            "_model_name": "ProgressStyleModel",
            "_view_count": null,
            "_view_module": "@jupyter-widgets/base",
            "_view_module_version": "1.2.0",
            "_view_name": "StyleView",
            "bar_color": null,
            "description_width": ""
          }
        },
        "c610d25a8b594026b21cc26ce0b8f9cc": {
          "model_module": "@jupyter-widgets/base",
          "model_name": "LayoutModel",
          "model_module_version": "1.2.0",
          "state": {
            "_model_module": "@jupyter-widgets/base",
            "_model_module_version": "1.2.0",
            "_model_name": "LayoutModel",
            "_view_count": null,
            "_view_module": "@jupyter-widgets/base",
            "_view_module_version": "1.2.0",
            "_view_name": "LayoutView",
            "align_content": null,
            "align_items": null,
            "align_self": null,
            "border": null,
            "bottom": null,
            "display": null,
            "flex": null,
            "flex_flow": null,
            "grid_area": null,
            "grid_auto_columns": null,
            "grid_auto_flow": null,
            "grid_auto_rows": null,
            "grid_column": null,
            "grid_gap": null,
            "grid_row": null,
            "grid_template_areas": null,
            "grid_template_columns": null,
            "grid_template_rows": null,
            "height": null,
            "justify_content": null,
            "justify_items": null,
            "left": null,
            "margin": null,
            "max_height": null,
            "max_width": null,
            "min_height": null,
            "min_width": null,
            "object_fit": null,
            "object_position": null,
            "order": null,
            "overflow": null,
            "overflow_x": null,
            "overflow_y": null,
            "padding": null,
            "right": null,
            "top": null,
            "visibility": null,
            "width": null
          }
        },
        "fbd335f39e3642f685e384f8f2316717": {
          "model_module": "@jupyter-widgets/controls",
          "model_name": "DescriptionStyleModel",
          "model_module_version": "1.5.0",
          "state": {
            "_model_module": "@jupyter-widgets/controls",
            "_model_module_version": "1.5.0",
            "_model_name": "DescriptionStyleModel",
            "_view_count": null,
            "_view_module": "@jupyter-widgets/base",
            "_view_module_version": "1.2.0",
            "_view_name": "StyleView",
            "description_width": ""
          }
        },
        "f2d578565c6748d58c995d3ab3df0ece": {
          "model_module": "@jupyter-widgets/controls",
          "model_name": "HBoxModel",
          "model_module_version": "1.5.0",
          "state": {
            "_dom_classes": [],
            "_model_module": "@jupyter-widgets/controls",
            "_model_module_version": "1.5.0",
            "_model_name": "HBoxModel",
            "_view_count": null,
            "_view_module": "@jupyter-widgets/controls",
            "_view_module_version": "1.5.0",
            "_view_name": "HBoxView",
            "box_style": "",
            "children": [
              "IPY_MODEL_17d9f744e6494bfc84f5b1131d54dece",
              "IPY_MODEL_bfb0e4b1a35e49f29fd8edcdac5a03b4",
              "IPY_MODEL_4cd019214e5745638458b6ed6fa6625b"
            ],
            "layout": "IPY_MODEL_31d75a78a8b54d2dba972b8f15299266"
          }
        },
        "17d9f744e6494bfc84f5b1131d54dece": {
          "model_module": "@jupyter-widgets/controls",
          "model_name": "HTMLModel",
          "model_module_version": "1.5.0",
          "state": {
            "_dom_classes": [],
            "_model_module": "@jupyter-widgets/controls",
            "_model_module_version": "1.5.0",
            "_model_name": "HTMLModel",
            "_view_count": null,
            "_view_module": "@jupyter-widgets/controls",
            "_view_module_version": "1.5.0",
            "_view_name": "HTMLView",
            "description": "",
            "description_tooltip": null,
            "layout": "IPY_MODEL_67ef0b648b3940948bb82a1d7fb2df13",
            "placeholder": "​",
            "style": "IPY_MODEL_e766167c03784fa7b0cf810e55c6b3f7",
            "value": "vocab.txt: 100%"
          }
        },
        "bfb0e4b1a35e49f29fd8edcdac5a03b4": {
          "model_module": "@jupyter-widgets/controls",
          "model_name": "FloatProgressModel",
          "model_module_version": "1.5.0",
          "state": {
            "_dom_classes": [],
            "_model_module": "@jupyter-widgets/controls",
            "_model_module_version": "1.5.0",
            "_model_name": "FloatProgressModel",
            "_view_count": null,
            "_view_module": "@jupyter-widgets/controls",
            "_view_module_version": "1.5.0",
            "_view_name": "ProgressView",
            "bar_style": "success",
            "description": "",
            "description_tooltip": null,
            "layout": "IPY_MODEL_1648f9c09a13497e824b3678699c4d44",
            "max": 231508,
            "min": 0,
            "orientation": "horizontal",
            "style": "IPY_MODEL_c2704fb6e797440a9c02b4460c29c29f",
            "value": 231508
          }
        },
        "4cd019214e5745638458b6ed6fa6625b": {
          "model_module": "@jupyter-widgets/controls",
          "model_name": "HTMLModel",
          "model_module_version": "1.5.0",
          "state": {
            "_dom_classes": [],
            "_model_module": "@jupyter-widgets/controls",
            "_model_module_version": "1.5.0",
            "_model_name": "HTMLModel",
            "_view_count": null,
            "_view_module": "@jupyter-widgets/controls",
            "_view_module_version": "1.5.0",
            "_view_name": "HTMLView",
            "description": "",
            "description_tooltip": null,
            "layout": "IPY_MODEL_2b545fe3e42e4e5783df8a44541ea08e",
            "placeholder": "​",
            "style": "IPY_MODEL_ad9e3d77d86245b8a99e5d7e33bf1297",
            "value": " 232k/232k [00:00&lt;00:00, 4.81MB/s]"
          }
        },
        "31d75a78a8b54d2dba972b8f15299266": {
          "model_module": "@jupyter-widgets/base",
          "model_name": "LayoutModel",
          "model_module_version": "1.2.0",
          "state": {
            "_model_module": "@jupyter-widgets/base",
            "_model_module_version": "1.2.0",
            "_model_name": "LayoutModel",
            "_view_count": null,
            "_view_module": "@jupyter-widgets/base",
            "_view_module_version": "1.2.0",
            "_view_name": "LayoutView",
            "align_content": null,
            "align_items": null,
            "align_self": null,
            "border": null,
            "bottom": null,
            "display": null,
            "flex": null,
            "flex_flow": null,
            "grid_area": null,
            "grid_auto_columns": null,
            "grid_auto_flow": null,
            "grid_auto_rows": null,
            "grid_column": null,
            "grid_gap": null,
            "grid_row": null,
            "grid_template_areas": null,
            "grid_template_columns": null,
            "grid_template_rows": null,
            "height": null,
            "justify_content": null,
            "justify_items": null,
            "left": null,
            "margin": null,
            "max_height": null,
            "max_width": null,
            "min_height": null,
            "min_width": null,
            "object_fit": null,
            "object_position": null,
            "order": null,
            "overflow": null,
            "overflow_x": null,
            "overflow_y": null,
            "padding": null,
            "right": null,
            "top": null,
            "visibility": null,
            "width": null
          }
        },
        "67ef0b648b3940948bb82a1d7fb2df13": {
          "model_module": "@jupyter-widgets/base",
          "model_name": "LayoutModel",
          "model_module_version": "1.2.0",
          "state": {
            "_model_module": "@jupyter-widgets/base",
            "_model_module_version": "1.2.0",
            "_model_name": "LayoutModel",
            "_view_count": null,
            "_view_module": "@jupyter-widgets/base",
            "_view_module_version": "1.2.0",
            "_view_name": "LayoutView",
            "align_content": null,
            "align_items": null,
            "align_self": null,
            "border": null,
            "bottom": null,
            "display": null,
            "flex": null,
            "flex_flow": null,
            "grid_area": null,
            "grid_auto_columns": null,
            "grid_auto_flow": null,
            "grid_auto_rows": null,
            "grid_column": null,
            "grid_gap": null,
            "grid_row": null,
            "grid_template_areas": null,
            "grid_template_columns": null,
            "grid_template_rows": null,
            "height": null,
            "justify_content": null,
            "justify_items": null,
            "left": null,
            "margin": null,
            "max_height": null,
            "max_width": null,
            "min_height": null,
            "min_width": null,
            "object_fit": null,
            "object_position": null,
            "order": null,
            "overflow": null,
            "overflow_x": null,
            "overflow_y": null,
            "padding": null,
            "right": null,
            "top": null,
            "visibility": null,
            "width": null
          }
        },
        "e766167c03784fa7b0cf810e55c6b3f7": {
          "model_module": "@jupyter-widgets/controls",
          "model_name": "DescriptionStyleModel",
          "model_module_version": "1.5.0",
          "state": {
            "_model_module": "@jupyter-widgets/controls",
            "_model_module_version": "1.5.0",
            "_model_name": "DescriptionStyleModel",
            "_view_count": null,
            "_view_module": "@jupyter-widgets/base",
            "_view_module_version": "1.2.0",
            "_view_name": "StyleView",
            "description_width": ""
          }
        },
        "1648f9c09a13497e824b3678699c4d44": {
          "model_module": "@jupyter-widgets/base",
          "model_name": "LayoutModel",
          "model_module_version": "1.2.0",
          "state": {
            "_model_module": "@jupyter-widgets/base",
            "_model_module_version": "1.2.0",
            "_model_name": "LayoutModel",
            "_view_count": null,
            "_view_module": "@jupyter-widgets/base",
            "_view_module_version": "1.2.0",
            "_view_name": "LayoutView",
            "align_content": null,
            "align_items": null,
            "align_self": null,
            "border": null,
            "bottom": null,
            "display": null,
            "flex": null,
            "flex_flow": null,
            "grid_area": null,
            "grid_auto_columns": null,
            "grid_auto_flow": null,
            "grid_auto_rows": null,
            "grid_column": null,
            "grid_gap": null,
            "grid_row": null,
            "grid_template_areas": null,
            "grid_template_columns": null,
            "grid_template_rows": null,
            "height": null,
            "justify_content": null,
            "justify_items": null,
            "left": null,
            "margin": null,
            "max_height": null,
            "max_width": null,
            "min_height": null,
            "min_width": null,
            "object_fit": null,
            "object_position": null,
            "order": null,
            "overflow": null,
            "overflow_x": null,
            "overflow_y": null,
            "padding": null,
            "right": null,
            "top": null,
            "visibility": null,
            "width": null
          }
        },
        "c2704fb6e797440a9c02b4460c29c29f": {
          "model_module": "@jupyter-widgets/controls",
          "model_name": "ProgressStyleModel",
          "model_module_version": "1.5.0",
          "state": {
            "_model_module": "@jupyter-widgets/controls",
            "_model_module_version": "1.5.0",
            "_model_name": "ProgressStyleModel",
            "_view_count": null,
            "_view_module": "@jupyter-widgets/base",
            "_view_module_version": "1.2.0",
            "_view_name": "StyleView",
            "bar_color": null,
            "description_width": ""
          }
        },
        "2b545fe3e42e4e5783df8a44541ea08e": {
          "model_module": "@jupyter-widgets/base",
          "model_name": "LayoutModel",
          "model_module_version": "1.2.0",
          "state": {
            "_model_module": "@jupyter-widgets/base",
            "_model_module_version": "1.2.0",
            "_model_name": "LayoutModel",
            "_view_count": null,
            "_view_module": "@jupyter-widgets/base",
            "_view_module_version": "1.2.0",
            "_view_name": "LayoutView",
            "align_content": null,
            "align_items": null,
            "align_self": null,
            "border": null,
            "bottom": null,
            "display": null,
            "flex": null,
            "flex_flow": null,
            "grid_area": null,
            "grid_auto_columns": null,
            "grid_auto_flow": null,
            "grid_auto_rows": null,
            "grid_column": null,
            "grid_gap": null,
            "grid_row": null,
            "grid_template_areas": null,
            "grid_template_columns": null,
            "grid_template_rows": null,
            "height": null,
            "justify_content": null,
            "justify_items": null,
            "left": null,
            "margin": null,
            "max_height": null,
            "max_width": null,
            "min_height": null,
            "min_width": null,
            "object_fit": null,
            "object_position": null,
            "order": null,
            "overflow": null,
            "overflow_x": null,
            "overflow_y": null,
            "padding": null,
            "right": null,
            "top": null,
            "visibility": null,
            "width": null
          }
        },
        "ad9e3d77d86245b8a99e5d7e33bf1297": {
          "model_module": "@jupyter-widgets/controls",
          "model_name": "DescriptionStyleModel",
          "model_module_version": "1.5.0",
          "state": {
            "_model_module": "@jupyter-widgets/controls",
            "_model_module_version": "1.5.0",
            "_model_name": "DescriptionStyleModel",
            "_view_count": null,
            "_view_module": "@jupyter-widgets/base",
            "_view_module_version": "1.2.0",
            "_view_name": "StyleView",
            "description_width": ""
          }
        },
        "e2e7cf6733c5478d8a5795c87a935c1b": {
          "model_module": "@jupyter-widgets/controls",
          "model_name": "HBoxModel",
          "model_module_version": "1.5.0",
          "state": {
            "_dom_classes": [],
            "_model_module": "@jupyter-widgets/controls",
            "_model_module_version": "1.5.0",
            "_model_name": "HBoxModel",
            "_view_count": null,
            "_view_module": "@jupyter-widgets/controls",
            "_view_module_version": "1.5.0",
            "_view_name": "HBoxView",
            "box_style": "",
            "children": [
              "IPY_MODEL_5dfbb994c5e54c53bc6502a56fb65383",
              "IPY_MODEL_052487d7085a4244935d0aafef332ddf",
              "IPY_MODEL_a8e9d9622b2340b6a63bc4654af114fa"
            ],
            "layout": "IPY_MODEL_40e495abc89244b69748a2b01ebfc736"
          }
        },
        "5dfbb994c5e54c53bc6502a56fb65383": {
          "model_module": "@jupyter-widgets/controls",
          "model_name": "HTMLModel",
          "model_module_version": "1.5.0",
          "state": {
            "_dom_classes": [],
            "_model_module": "@jupyter-widgets/controls",
            "_model_module_version": "1.5.0",
            "_model_name": "HTMLModel",
            "_view_count": null,
            "_view_module": "@jupyter-widgets/controls",
            "_view_module_version": "1.5.0",
            "_view_name": "HTMLView",
            "description": "",
            "description_tooltip": null,
            "layout": "IPY_MODEL_6a555e22a891498bb609b7286ddba5dc",
            "placeholder": "​",
            "style": "IPY_MODEL_c7c17e1a159b42b3810f814eb5548853",
            "value": "tokenizer.json: 100%"
          }
        },
        "052487d7085a4244935d0aafef332ddf": {
          "model_module": "@jupyter-widgets/controls",
          "model_name": "FloatProgressModel",
          "model_module_version": "1.5.0",
          "state": {
            "_dom_classes": [],
            "_model_module": "@jupyter-widgets/controls",
            "_model_module_version": "1.5.0",
            "_model_name": "FloatProgressModel",
            "_view_count": null,
            "_view_module": "@jupyter-widgets/controls",
            "_view_module_version": "1.5.0",
            "_view_name": "ProgressView",
            "bar_style": "success",
            "description": "",
            "description_tooltip": null,
            "layout": "IPY_MODEL_fe475773f8254ce39bc01fa67edb6744",
            "max": 466062,
            "min": 0,
            "orientation": "horizontal",
            "style": "IPY_MODEL_eb641feb3727483683900058a9da51fe",
            "value": 466062
          }
        },
        "a8e9d9622b2340b6a63bc4654af114fa": {
          "model_module": "@jupyter-widgets/controls",
          "model_name": "HTMLModel",
          "model_module_version": "1.5.0",
          "state": {
            "_dom_classes": [],
            "_model_module": "@jupyter-widgets/controls",
            "_model_module_version": "1.5.0",
            "_model_name": "HTMLModel",
            "_view_count": null,
            "_view_module": "@jupyter-widgets/controls",
            "_view_module_version": "1.5.0",
            "_view_name": "HTMLView",
            "description": "",
            "description_tooltip": null,
            "layout": "IPY_MODEL_342b47b8f98444aeb6b928bc79443ff6",
            "placeholder": "​",
            "style": "IPY_MODEL_cb64130e27c74d0dbb0bc03603fa01f2",
            "value": " 466k/466k [00:00&lt;00:00, 17.7MB/s]"
          }
        },
        "40e495abc89244b69748a2b01ebfc736": {
          "model_module": "@jupyter-widgets/base",
          "model_name": "LayoutModel",
          "model_module_version": "1.2.0",
          "state": {
            "_model_module": "@jupyter-widgets/base",
            "_model_module_version": "1.2.0",
            "_model_name": "LayoutModel",
            "_view_count": null,
            "_view_module": "@jupyter-widgets/base",
            "_view_module_version": "1.2.0",
            "_view_name": "LayoutView",
            "align_content": null,
            "align_items": null,
            "align_self": null,
            "border": null,
            "bottom": null,
            "display": null,
            "flex": null,
            "flex_flow": null,
            "grid_area": null,
            "grid_auto_columns": null,
            "grid_auto_flow": null,
            "grid_auto_rows": null,
            "grid_column": null,
            "grid_gap": null,
            "grid_row": null,
            "grid_template_areas": null,
            "grid_template_columns": null,
            "grid_template_rows": null,
            "height": null,
            "justify_content": null,
            "justify_items": null,
            "left": null,
            "margin": null,
            "max_height": null,
            "max_width": null,
            "min_height": null,
            "min_width": null,
            "object_fit": null,
            "object_position": null,
            "order": null,
            "overflow": null,
            "overflow_x": null,
            "overflow_y": null,
            "padding": null,
            "right": null,
            "top": null,
            "visibility": null,
            "width": null
          }
        },
        "6a555e22a891498bb609b7286ddba5dc": {
          "model_module": "@jupyter-widgets/base",
          "model_name": "LayoutModel",
          "model_module_version": "1.2.0",
          "state": {
            "_model_module": "@jupyter-widgets/base",
            "_model_module_version": "1.2.0",
            "_model_name": "LayoutModel",
            "_view_count": null,
            "_view_module": "@jupyter-widgets/base",
            "_view_module_version": "1.2.0",
            "_view_name": "LayoutView",
            "align_content": null,
            "align_items": null,
            "align_self": null,
            "border": null,
            "bottom": null,
            "display": null,
            "flex": null,
            "flex_flow": null,
            "grid_area": null,
            "grid_auto_columns": null,
            "grid_auto_flow": null,
            "grid_auto_rows": null,
            "grid_column": null,
            "grid_gap": null,
            "grid_row": null,
            "grid_template_areas": null,
            "grid_template_columns": null,
            "grid_template_rows": null,
            "height": null,
            "justify_content": null,
            "justify_items": null,
            "left": null,
            "margin": null,
            "max_height": null,
            "max_width": null,
            "min_height": null,
            "min_width": null,
            "object_fit": null,
            "object_position": null,
            "order": null,
            "overflow": null,
            "overflow_x": null,
            "overflow_y": null,
            "padding": null,
            "right": null,
            "top": null,
            "visibility": null,
            "width": null
          }
        },
        "c7c17e1a159b42b3810f814eb5548853": {
          "model_module": "@jupyter-widgets/controls",
          "model_name": "DescriptionStyleModel",
          "model_module_version": "1.5.0",
          "state": {
            "_model_module": "@jupyter-widgets/controls",
            "_model_module_version": "1.5.0",
            "_model_name": "DescriptionStyleModel",
            "_view_count": null,
            "_view_module": "@jupyter-widgets/base",
            "_view_module_version": "1.2.0",
            "_view_name": "StyleView",
            "description_width": ""
          }
        },
        "fe475773f8254ce39bc01fa67edb6744": {
          "model_module": "@jupyter-widgets/base",
          "model_name": "LayoutModel",
          "model_module_version": "1.2.0",
          "state": {
            "_model_module": "@jupyter-widgets/base",
            "_model_module_version": "1.2.0",
            "_model_name": "LayoutModel",
            "_view_count": null,
            "_view_module": "@jupyter-widgets/base",
            "_view_module_version": "1.2.0",
            "_view_name": "LayoutView",
            "align_content": null,
            "align_items": null,
            "align_self": null,
            "border": null,
            "bottom": null,
            "display": null,
            "flex": null,
            "flex_flow": null,
            "grid_area": null,
            "grid_auto_columns": null,
            "grid_auto_flow": null,
            "grid_auto_rows": null,
            "grid_column": null,
            "grid_gap": null,
            "grid_row": null,
            "grid_template_areas": null,
            "grid_template_columns": null,
            "grid_template_rows": null,
            "height": null,
            "justify_content": null,
            "justify_items": null,
            "left": null,
            "margin": null,
            "max_height": null,
            "max_width": null,
            "min_height": null,
            "min_width": null,
            "object_fit": null,
            "object_position": null,
            "order": null,
            "overflow": null,
            "overflow_x": null,
            "overflow_y": null,
            "padding": null,
            "right": null,
            "top": null,
            "visibility": null,
            "width": null
          }
        },
        "eb641feb3727483683900058a9da51fe": {
          "model_module": "@jupyter-widgets/controls",
          "model_name": "ProgressStyleModel",
          "model_module_version": "1.5.0",
          "state": {
            "_model_module": "@jupyter-widgets/controls",
            "_model_module_version": "1.5.0",
            "_model_name": "ProgressStyleModel",
            "_view_count": null,
            "_view_module": "@jupyter-widgets/base",
            "_view_module_version": "1.2.0",
            "_view_name": "StyleView",
            "bar_color": null,
            "description_width": ""
          }
        },
        "342b47b8f98444aeb6b928bc79443ff6": {
          "model_module": "@jupyter-widgets/base",
          "model_name": "LayoutModel",
          "model_module_version": "1.2.0",
          "state": {
            "_model_module": "@jupyter-widgets/base",
            "_model_module_version": "1.2.0",
            "_model_name": "LayoutModel",
            "_view_count": null,
            "_view_module": "@jupyter-widgets/base",
            "_view_module_version": "1.2.0",
            "_view_name": "LayoutView",
            "align_content": null,
            "align_items": null,
            "align_self": null,
            "border": null,
            "bottom": null,
            "display": null,
            "flex": null,
            "flex_flow": null,
            "grid_area": null,
            "grid_auto_columns": null,
            "grid_auto_flow": null,
            "grid_auto_rows": null,
            "grid_column": null,
            "grid_gap": null,
            "grid_row": null,
            "grid_template_areas": null,
            "grid_template_columns": null,
            "grid_template_rows": null,
            "height": null,
            "justify_content": null,
            "justify_items": null,
            "left": null,
            "margin": null,
            "max_height": null,
            "max_width": null,
            "min_height": null,
            "min_width": null,
            "object_fit": null,
            "object_position": null,
            "order": null,
            "overflow": null,
            "overflow_x": null,
            "overflow_y": null,
            "padding": null,
            "right": null,
            "top": null,
            "visibility": null,
            "width": null
          }
        },
        "cb64130e27c74d0dbb0bc03603fa01f2": {
          "model_module": "@jupyter-widgets/controls",
          "model_name": "DescriptionStyleModel",
          "model_module_version": "1.5.0",
          "state": {
            "_model_module": "@jupyter-widgets/controls",
            "_model_module_version": "1.5.0",
            "_model_name": "DescriptionStyleModel",
            "_view_count": null,
            "_view_module": "@jupyter-widgets/base",
            "_view_module_version": "1.2.0",
            "_view_name": "StyleView",
            "description_width": ""
          }
        },
        "6caa47a1b66d4c0e8c62e79406f707c5": {
          "model_module": "@jupyter-widgets/controls",
          "model_name": "HBoxModel",
          "model_module_version": "1.5.0",
          "state": {
            "_dom_classes": [],
            "_model_module": "@jupyter-widgets/controls",
            "_model_module_version": "1.5.0",
            "_model_name": "HBoxModel",
            "_view_count": null,
            "_view_module": "@jupyter-widgets/controls",
            "_view_module_version": "1.5.0",
            "_view_name": "HBoxView",
            "box_style": "",
            "children": [
              "IPY_MODEL_c5ed11fd188b4c03bc302127f660faf2",
              "IPY_MODEL_5164d788fa1b4da7b12b87b95b493837",
              "IPY_MODEL_e8f22f2bc6884ac886f1bcdaa8cae9af"
            ],
            "layout": "IPY_MODEL_d8cd30d600fb4ac3b380c3d3b53c744e"
          }
        },
        "c5ed11fd188b4c03bc302127f660faf2": {
          "model_module": "@jupyter-widgets/controls",
          "model_name": "HTMLModel",
          "model_module_version": "1.5.0",
          "state": {
            "_dom_classes": [],
            "_model_module": "@jupyter-widgets/controls",
            "_model_module_version": "1.5.0",
            "_model_name": "HTMLModel",
            "_view_count": null,
            "_view_module": "@jupyter-widgets/controls",
            "_view_module_version": "1.5.0",
            "_view_name": "HTMLView",
            "description": "",
            "description_tooltip": null,
            "layout": "IPY_MODEL_c7c81e018eae483cad0c784b5b3d1578",
            "placeholder": "​",
            "style": "IPY_MODEL_8f844cdd4edc408583439f42b0dd154b",
            "value": "model.safetensors: 100%"
          }
        },
        "5164d788fa1b4da7b12b87b95b493837": {
          "model_module": "@jupyter-widgets/controls",
          "model_name": "FloatProgressModel",
          "model_module_version": "1.5.0",
          "state": {
            "_dom_classes": [],
            "_model_module": "@jupyter-widgets/controls",
            "_model_module_version": "1.5.0",
            "_model_name": "FloatProgressModel",
            "_view_count": null,
            "_view_module": "@jupyter-widgets/controls",
            "_view_module_version": "1.5.0",
            "_view_name": "ProgressView",
            "bar_style": "success",
            "description": "",
            "description_tooltip": null,
            "layout": "IPY_MODEL_a8979d6e526944ccb2f8d2ca342a0428",
            "max": 440449768,
            "min": 0,
            "orientation": "horizontal",
            "style": "IPY_MODEL_d94fd6ecbbc941b5b01c601b890727fd",
            "value": 440449768
          }
        },
        "e8f22f2bc6884ac886f1bcdaa8cae9af": {
          "model_module": "@jupyter-widgets/controls",
          "model_name": "HTMLModel",
          "model_module_version": "1.5.0",
          "state": {
            "_dom_classes": [],
            "_model_module": "@jupyter-widgets/controls",
            "_model_module_version": "1.5.0",
            "_model_name": "HTMLModel",
            "_view_count": null,
            "_view_module": "@jupyter-widgets/controls",
            "_view_module_version": "1.5.0",
            "_view_name": "HTMLView",
            "description": "",
            "description_tooltip": null,
            "layout": "IPY_MODEL_6889237a405448358d1006c9461d874d",
            "placeholder": "​",
            "style": "IPY_MODEL_6afccea8195f4e18a9d2774bec109725",
            "value": " 440M/440M [00:02&lt;00:00, 177MB/s]"
          }
        },
        "d8cd30d600fb4ac3b380c3d3b53c744e": {
          "model_module": "@jupyter-widgets/base",
          "model_name": "LayoutModel",
          "model_module_version": "1.2.0",
          "state": {
            "_model_module": "@jupyter-widgets/base",
            "_model_module_version": "1.2.0",
            "_model_name": "LayoutModel",
            "_view_count": null,
            "_view_module": "@jupyter-widgets/base",
            "_view_module_version": "1.2.0",
            "_view_name": "LayoutView",
            "align_content": null,
            "align_items": null,
            "align_self": null,
            "border": null,
            "bottom": null,
            "display": null,
            "flex": null,
            "flex_flow": null,
            "grid_area": null,
            "grid_auto_columns": null,
            "grid_auto_flow": null,
            "grid_auto_rows": null,
            "grid_column": null,
            "grid_gap": null,
            "grid_row": null,
            "grid_template_areas": null,
            "grid_template_columns": null,
            "grid_template_rows": null,
            "height": null,
            "justify_content": null,
            "justify_items": null,
            "left": null,
            "margin": null,
            "max_height": null,
            "max_width": null,
            "min_height": null,
            "min_width": null,
            "object_fit": null,
            "object_position": null,
            "order": null,
            "overflow": null,
            "overflow_x": null,
            "overflow_y": null,
            "padding": null,
            "right": null,
            "top": null,
            "visibility": null,
            "width": null
          }
        },
        "c7c81e018eae483cad0c784b5b3d1578": {
          "model_module": "@jupyter-widgets/base",
          "model_name": "LayoutModel",
          "model_module_version": "1.2.0",
          "state": {
            "_model_module": "@jupyter-widgets/base",
            "_model_module_version": "1.2.0",
            "_model_name": "LayoutModel",
            "_view_count": null,
            "_view_module": "@jupyter-widgets/base",
            "_view_module_version": "1.2.0",
            "_view_name": "LayoutView",
            "align_content": null,
            "align_items": null,
            "align_self": null,
            "border": null,
            "bottom": null,
            "display": null,
            "flex": null,
            "flex_flow": null,
            "grid_area": null,
            "grid_auto_columns": null,
            "grid_auto_flow": null,
            "grid_auto_rows": null,
            "grid_column": null,
            "grid_gap": null,
            "grid_row": null,
            "grid_template_areas": null,
            "grid_template_columns": null,
            "grid_template_rows": null,
            "height": null,
            "justify_content": null,
            "justify_items": null,
            "left": null,
            "margin": null,
            "max_height": null,
            "max_width": null,
            "min_height": null,
            "min_width": null,
            "object_fit": null,
            "object_position": null,
            "order": null,
            "overflow": null,
            "overflow_x": null,
            "overflow_y": null,
            "padding": null,
            "right": null,
            "top": null,
            "visibility": null,
            "width": null
          }
        },
        "8f844cdd4edc408583439f42b0dd154b": {
          "model_module": "@jupyter-widgets/controls",
          "model_name": "DescriptionStyleModel",
          "model_module_version": "1.5.0",
          "state": {
            "_model_module": "@jupyter-widgets/controls",
            "_model_module_version": "1.5.0",
            "_model_name": "DescriptionStyleModel",
            "_view_count": null,
            "_view_module": "@jupyter-widgets/base",
            "_view_module_version": "1.2.0",
            "_view_name": "StyleView",
            "description_width": ""
          }
        },
        "a8979d6e526944ccb2f8d2ca342a0428": {
          "model_module": "@jupyter-widgets/base",
          "model_name": "LayoutModel",
          "model_module_version": "1.2.0",
          "state": {
            "_model_module": "@jupyter-widgets/base",
            "_model_module_version": "1.2.0",
            "_model_name": "LayoutModel",
            "_view_count": null,
            "_view_module": "@jupyter-widgets/base",
            "_view_module_version": "1.2.0",
            "_view_name": "LayoutView",
            "align_content": null,
            "align_items": null,
            "align_self": null,
            "border": null,
            "bottom": null,
            "display": null,
            "flex": null,
            "flex_flow": null,
            "grid_area": null,
            "grid_auto_columns": null,
            "grid_auto_flow": null,
            "grid_auto_rows": null,
            "grid_column": null,
            "grid_gap": null,
            "grid_row": null,
            "grid_template_areas": null,
            "grid_template_columns": null,
            "grid_template_rows": null,
            "height": null,
            "justify_content": null,
            "justify_items": null,
            "left": null,
            "margin": null,
            "max_height": null,
            "max_width": null,
            "min_height": null,
            "min_width": null,
            "object_fit": null,
            "object_position": null,
            "order": null,
            "overflow": null,
            "overflow_x": null,
            "overflow_y": null,
            "padding": null,
            "right": null,
            "top": null,
            "visibility": null,
            "width": null
          }
        },
        "d94fd6ecbbc941b5b01c601b890727fd": {
          "model_module": "@jupyter-widgets/controls",
          "model_name": "ProgressStyleModel",
          "model_module_version": "1.5.0",
          "state": {
            "_model_module": "@jupyter-widgets/controls",
            "_model_module_version": "1.5.0",
            "_model_name": "ProgressStyleModel",
            "_view_count": null,
            "_view_module": "@jupyter-widgets/base",
            "_view_module_version": "1.2.0",
            "_view_name": "StyleView",
            "bar_color": null,
            "description_width": ""
          }
        },
        "6889237a405448358d1006c9461d874d": {
          "model_module": "@jupyter-widgets/base",
          "model_name": "LayoutModel",
          "model_module_version": "1.2.0",
          "state": {
            "_model_module": "@jupyter-widgets/base",
            "_model_module_version": "1.2.0",
            "_model_name": "LayoutModel",
            "_view_count": null,
            "_view_module": "@jupyter-widgets/base",
            "_view_module_version": "1.2.0",
            "_view_name": "LayoutView",
            "align_content": null,
            "align_items": null,
            "align_self": null,
            "border": null,
            "bottom": null,
            "display": null,
            "flex": null,
            "flex_flow": null,
            "grid_area": null,
            "grid_auto_columns": null,
            "grid_auto_flow": null,
            "grid_auto_rows": null,
            "grid_column": null,
            "grid_gap": null,
            "grid_row": null,
            "grid_template_areas": null,
            "grid_template_columns": null,
            "grid_template_rows": null,
            "height": null,
            "justify_content": null,
            "justify_items": null,
            "left": null,
            "margin": null,
            "max_height": null,
            "max_width": null,
            "min_height": null,
            "min_width": null,
            "object_fit": null,
            "object_position": null,
            "order": null,
            "overflow": null,
            "overflow_x": null,
            "overflow_y": null,
            "padding": null,
            "right": null,
            "top": null,
            "visibility": null,
            "width": null
          }
        },
        "6afccea8195f4e18a9d2774bec109725": {
          "model_module": "@jupyter-widgets/controls",
          "model_name": "DescriptionStyleModel",
          "model_module_version": "1.5.0",
          "state": {
            "_model_module": "@jupyter-widgets/controls",
            "_model_module_version": "1.5.0",
            "_model_name": "DescriptionStyleModel",
            "_view_count": null,
            "_view_module": "@jupyter-widgets/base",
            "_view_module_version": "1.2.0",
            "_view_name": "StyleView",
            "description_width": ""
          }
        }
      }
    }
  },
  "nbformat": 4,
  "nbformat_minor": 0
}