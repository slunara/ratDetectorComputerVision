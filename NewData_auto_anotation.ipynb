{
  "cells": [
    {
      "cell_type": "markdown",
      "metadata": {
        "id": "view-in-github",
        "colab_type": "text"
      },
      "source": [
        "<a href=\"https://colab.research.google.com/github/slunara/ratDetectorComputerVision/blob/main/NewData_auto_anotation.ipynb\" target=\"_parent\"><img src=\"https://colab.research.google.com/assets/colab-badge.svg\" alt=\"Open In Colab\"/></a>"
      ]
    },
    {
      "cell_type": "markdown",
      "metadata": {
        "id": "oe9vkEvFABbN"
      },
      "source": [
        "\n",
        "\n",
        "# Rat Detector\n",
        "\n",
        "Susana Luna - Computer Vision - Individual Assignment\n",
        "\n",
        "Objective: Build a Rat Detector using YOLOv10 model and automatic annotation using GroundingDINO.\n",
        "\n"
      ]
    },
    {
      "cell_type": "markdown",
      "metadata": {
        "id": "FyRdDYkqAKN4"
      },
      "source": [
        "Let's make sure that we have access to GPU."
      ]
    },
    {
      "cell_type": "code",
      "source": [
        "#!ls -lah /content/"
      ],
      "metadata": {
        "colab": {
          "base_uri": "https://localhost:8080/"
        },
        "id": "7_YJ8yQPHjLU",
        "outputId": "83e85eec-26f8-42f7-fdef-55a1665e7524"
      },
      "execution_count": null,
      "outputs": [
        {
          "output_type": "stream",
          "name": "stdout",
          "text": [
            "total 16K\n",
            "drwxr-xr-x 1 root root 4.0K Feb  8 10:38 .\n",
            "drwxr-xr-x 1 root root 4.0K Feb  8 10:00 ..\n",
            "drwxr-xr-x 4 root root 4.0K Feb  6 14:19 .config\n"
          ]
        }
      ]
    },
    {
      "cell_type": "code",
      "execution_count": null,
      "metadata": {
        "colab": {
          "base_uri": "https://localhost:8080/"
        },
        "id": "Y8cDtxLIBHgQ",
        "outputId": "a0c7a9de-c793-4c06-874a-1f59ff54dbaf"
      },
      "outputs": [
        {
          "output_type": "stream",
          "name": "stdout",
          "text": [
            "Mon Feb 10 10:00:53 2025       \n",
            "+-----------------------------------------------------------------------------------------+\n",
            "| NVIDIA-SMI 550.54.15              Driver Version: 550.54.15      CUDA Version: 12.4     |\n",
            "|-----------------------------------------+------------------------+----------------------+\n",
            "| GPU  Name                 Persistence-M | Bus-Id          Disp.A | Volatile Uncorr. ECC |\n",
            "| Fan  Temp   Perf          Pwr:Usage/Cap |           Memory-Usage | GPU-Util  Compute M. |\n",
            "|                                         |                        |               MIG M. |\n",
            "|=========================================+========================+======================|\n",
            "|   0  Tesla T4                       Off |   00000000:00:04.0 Off |                    0 |\n",
            "| N/A   59C    P8             11W /   70W |       0MiB /  15360MiB |      0%      Default |\n",
            "|                                         |                        |                  N/A |\n",
            "+-----------------------------------------+------------------------+----------------------+\n",
            "                                                                                         \n",
            "+-----------------------------------------------------------------------------------------+\n",
            "| Processes:                                                                              |\n",
            "|  GPU   GI   CI        PID   Type   Process name                              GPU Memory |\n",
            "|        ID   ID                                                               Usage      |\n",
            "|=========================================================================================|\n",
            "|  No running processes found                                                             |\n",
            "+-----------------------------------------------------------------------------------------+\n"
          ]
        }
      ],
      "source": [
        "!nvidia-smi"
      ]
    },
    {
      "cell_type": "markdown",
      "source": [
        "# Step 1: Auto anotation"
      ],
      "metadata": {
        "id": "d3sLFywbDX9p"
      }
    },
    {
      "cell_type": "markdown",
      "metadata": {
        "id": "3C3EO_2zNChu"
      },
      "source": [
        "## Install libraries\n",
        "\n",
        "- Grounding DINO\n",
        "- Additional Deppendencies"
      ]
    },
    {
      "cell_type": "code",
      "source": [
        "# we use latest Grounding DINO model API that is not official yet\n",
        "import os\n",
        "import torch\n",
        "import glob\n",
        "import cv2\n",
        "from typing import List\n",
        "from PIL import Image\n",
        "import imghdr"
      ],
      "metadata": {
        "colab": {
          "base_uri": "https://localhost:8080/"
        },
        "id": "7Y7uzTLeCUlP",
        "outputId": "964e3115-6437-4b75-894f-924b2fcbe393"
      },
      "execution_count": null,
      "outputs": [
        {
          "output_type": "stream",
          "name": "stderr",
          "text": [
            "<ipython-input-2-9eb53ea286e1>:8: DeprecationWarning: 'imghdr' is deprecated and slated for removal in Python 3.13\n",
            "  import imghdr\n"
          ]
        }
      ]
    },
    {
      "cell_type": "code",
      "source": [
        "HOME = os.getcwd()\n",
        "print(HOME)"
      ],
      "metadata": {
        "colab": {
          "base_uri": "https://localhost:8080/"
        },
        "id": "BKiCw5QTJM4l",
        "outputId": "0970e5df-b00f-42e4-fa61-67535d27aba4"
      },
      "execution_count": null,
      "outputs": [
        {
          "output_type": "stream",
          "name": "stdout",
          "text": [
            "/content\n"
          ]
        }
      ]
    },
    {
      "cell_type": "code",
      "source": [
        "%cd {HOME}\n",
        "!git clone https://github.com/IDEA-Research/GroundingDINO.git\n",
        "%cd {HOME}/GroundingDINO\n",
        "\n",
        "# we use latest Grounding DINO model API that is not official yet\n",
        "!git checkout feature/more_compact_inference_api\n",
        "\n",
        "!pip install -q -e .\n",
        "!pip install -q roboflow dataclasses-json onemetric\n"
      ],
      "metadata": {
        "colab": {
          "base_uri": "https://localhost:8080/"
        },
        "id": "nf89MRZUI5gq",
        "outputId": "00cfff0e-964d-4a6e-aa7e-23fdcce95f46"
      },
      "execution_count": null,
      "outputs": [
        {
          "output_type": "stream",
          "name": "stdout",
          "text": [
            "/content\n",
            "fatal: destination path 'GroundingDINO' already exists and is not an empty directory.\n",
            "/content/GroundingDINO\n",
            "M\tgroundingdino/version.py\n",
            "Already on 'feature/more_compact_inference_api'\n",
            "Your branch is up to date with 'origin/feature/more_compact_inference_api'.\n",
            "  Preparing metadata (setup.py) ... \u001b[?25l\u001b[?25hdone\n"
          ]
        }
      ]
    },
    {
      "cell_type": "code",
      "source": [
        "import torch\n",
        "!nvcc --version\n",
        "TORCH_VERSION = \".\".join(torch.__version__.split(\".\")[:2])\n",
        "CUDA_VERSION = torch.__version__.split(\"+\")[-1]\n",
        "print(\"torch: \", TORCH_VERSION, \"; cuda: \", CUDA_VERSION)\n",
        "\n",
        "import roboflow\n",
        "import supervision\n",
        "\n",
        "print(\n",
        "    \"roboflow:\", roboflow.__version__,\n",
        "    \"; supervision:\", supervision.__version__\n",
        ")"
      ],
      "metadata": {
        "colab": {
          "base_uri": "https://localhost:8080/"
        },
        "id": "pxAbe4VzI8v0",
        "outputId": "09314ee9-7209-4cd5-ded6-4f5a6de1fe17"
      },
      "execution_count": null,
      "outputs": [
        {
          "output_type": "stream",
          "name": "stdout",
          "text": [
            "nvcc: NVIDIA (R) Cuda compiler driver\n",
            "Copyright (c) 2005-2024 NVIDIA Corporation\n",
            "Built on Thu_Jun__6_02:18:23_PDT_2024\n",
            "Cuda compilation tools, release 12.5, V12.5.82\n",
            "Build cuda_12.5.r12.5/compiler.34385749_0\n",
            "torch:  2.5 ; cuda:  cu124\n",
            "roboflow: 1.1.53 ; supervision: 0.4.0\n"
          ]
        }
      ]
    },
    {
      "cell_type": "code",
      "source": [
        "# confirm that configuration file exist\n",
        "\n",
        "\n",
        "CONFIG_PATH = os.path.join(HOME, \"GroundingDINO/groundingdino/config/GroundingDINO_SwinT_OGC.py\")\n",
        "print(CONFIG_PATH, \"; exist:\", os.path.isfile(CONFIG_PATH))"
      ],
      "metadata": {
        "colab": {
          "base_uri": "https://localhost:8080/"
        },
        "id": "iKL42wSnI9Ul",
        "outputId": "9ad317ad-f665-486f-aa53-0175ae628067"
      },
      "execution_count": null,
      "outputs": [
        {
          "output_type": "stream",
          "name": "stdout",
          "text": [
            "/content/GroundingDINO/groundingdino/config/GroundingDINO_SwinT_OGC.py ; exist: True\n"
          ]
        }
      ]
    },
    {
      "cell_type": "code",
      "source": [
        "# download weights file\n",
        "\n",
        "%cd {HOME}\n",
        "!mkdir {HOME}/weights\n",
        "%cd {HOME}/weights\n",
        "\n",
        "!wget -q https://github.com/IDEA-Research/GroundingDINO/releases/download/v0.1.0-alpha/groundingdino_swint_ogc.pth"
      ],
      "metadata": {
        "colab": {
          "base_uri": "https://localhost:8080/"
        },
        "id": "pVVF98X6JBA_",
        "outputId": "6d10615d-0370-49c1-d1ac-f89b2e6705f8"
      },
      "execution_count": null,
      "outputs": [
        {
          "output_type": "stream",
          "name": "stdout",
          "text": [
            "/content\n",
            "/content/weights\n"
          ]
        }
      ]
    },
    {
      "cell_type": "code",
      "source": [
        "# confirm that weights file exist\n",
        "\n",
        "WEIGHTS_PATH = os.path.join(HOME, \"weights\", \"groundingdino_swint_ogc.pth\")\n",
        "print(WEIGHTS_PATH, \"; exist:\", os.path.isfile(WEIGHTS_PATH))"
      ],
      "metadata": {
        "colab": {
          "base_uri": "https://localhost:8080/"
        },
        "id": "YRA4F5vYJGF7",
        "outputId": "d3424702-93c0-433c-c4df-da14eb4e5147"
      },
      "execution_count": null,
      "outputs": [
        {
          "output_type": "stream",
          "name": "stdout",
          "text": [
            "/content/weights/groundingdino_swint_ogc.pth ; exist: True\n"
          ]
        }
      ]
    },
    {
      "cell_type": "markdown",
      "source": [
        "## Download Raw Data"
      ],
      "metadata": {
        "id": "wlk0YVKr0tV4"
      }
    },
    {
      "cell_type": "code",
      "source": [
        "!rm -rf /content/ratDetectorComputerVision  # Remove old repo (if needed)\n",
        "!git clone https://github.com/slunara/ratDetectorComputerVision.git /content/ratDetectorComputerVision"
      ],
      "metadata": {
        "colab": {
          "base_uri": "https://localhost:8080/"
        },
        "id": "O5Rp-OR10f4N",
        "outputId": "f3130576-153f-4624-e0f6-ad59d421d032"
      },
      "execution_count": null,
      "outputs": [
        {
          "output_type": "stream",
          "name": "stdout",
          "text": [
            "Cloning into '/content/ratDetectorComputerVision'...\n",
            "remote: Enumerating objects: 475, done.\u001b[K\n",
            "remote: Counting objects: 100% (475/475), done.\u001b[K\n",
            "remote: Compressing objects: 100% (473/473), done.\u001b[K\n",
            "remote: Total 475 (delta 12), reused 446 (delta 0), pack-reused 0 (from 0)\u001b[K\n",
            "Receiving objects: 100% (475/475), 10.35 MiB | 15.00 MiB/s, done.\n",
            "Resolving deltas: 100% (12/12), done.\n"
          ]
        }
      ]
    },
    {
      "cell_type": "markdown",
      "source": [
        "Check the raw images quantity"
      ],
      "metadata": {
        "id": "piy-bc_RKYRG"
      }
    },
    {
      "cell_type": "code",
      "source": [
        "image_folder = \"/content/ratDetectorComputerVision/data\"\n",
        "\n",
        "\n",
        "image_extensions = (\"*.jpg\", \"*.jpeg\", \"*.png\", \"*.bmp\", \"*.gif\", \"*.tiff\", \"*.webp\")\n",
        "image_count = sum(len(glob.glob(os.path.join(image_folder, \"**\", ext), recursive=True)) for ext in image_extensions)\n",
        "\n",
        "print(f\"Total images on the folder: {image_count}\")"
      ],
      "metadata": {
        "colab": {
          "base_uri": "https://localhost:8080/"
        },
        "id": "0HDGx_R9BFc8",
        "outputId": "109874ed-6114-4716-ade3-1387bf48ae18"
      },
      "execution_count": null,
      "outputs": [
        {
          "output_type": "stream",
          "name": "stdout",
          "text": [
            "Total images on the folder: 444\n"
          ]
        }
      ]
    },
    {
      "cell_type": "markdown",
      "source": [
        "Change the image name to avoid problems in roboflow"
      ],
      "metadata": {
        "id": "PCK6wJYbQt4t"
      }
    },
    {
      "cell_type": "code",
      "source": [
        "for filename in os.listdir(image_folder):\n",
        "        if filename.startswith(\"rat_\"):\n",
        "            new_filename = filename.replace(\"rat_\", \"r_\", 1)  # Replace only the first occurrence\n",
        "            old_file_path = os.path.join(image_folder, filename)\n",
        "            new_file_path = os.path.join(image_folder, new_filename)\n",
        "            os.rename(old_file_path, new_file_path)"
      ],
      "metadata": {
        "id": "h2plku-VQTqo"
      },
      "execution_count": null,
      "outputs": []
    },
    {
      "cell_type": "code",
      "source": [
        "image_folder = \"/content/ratDetectorComputerVision/data\"\n",
        "\n",
        "\n",
        "image_extensions = (\"*.jpg\", \"*.jpeg\", \"*.png\", \"*.bmp\", \"*.gif\", \"*.tiff\", \"*.webp\")\n",
        "image_count = sum(len(glob.glob(os.path.join(image_folder, \"**\", ext), recursive=True)) for ext in image_extensions)\n",
        "\n",
        "print(f\"Total images on the folder: {image_count}\")"
      ],
      "metadata": {
        "id": "QOJUlehKQ3SV",
        "outputId": "9a2573e1-9d37-40c9-d753-be40fc067852",
        "colab": {
          "base_uri": "https://localhost:8080/"
        }
      },
      "execution_count": null,
      "outputs": [
        {
          "output_type": "stream",
          "name": "stdout",
          "text": [
            "Total images on the folder: 444\n"
          ]
        }
      ]
    },
    {
      "cell_type": "code",
      "source": [
        "print(os.listdir(image_folder))"
      ],
      "metadata": {
        "id": "kSk7zON9Q-uu",
        "outputId": "109b8483-38eb-45df-c889-ecfae10d0d8a",
        "colab": {
          "base_uri": "https://localhost:8080/"
        }
      },
      "execution_count": null,
      "outputs": [
        {
          "output_type": "stream",
          "name": "stdout",
          "text": [
            "['r_1185.jpg', 'r_879.jpg', 'r_839.jpg', 'r_11.jpg', 'r_822.jpg', 'r_704.jpg', 'r_865.jpg', 'r_810.jpg', 'r_883.jpg', 'r_1437.jpg', 'r_235.jpg', 'r_578.jpg', 'r_82.jpg', 'r_223.jpg', 'r_565.jpg', 'r_447.jpg', 'r_1291.jpg', 'r_1327.jpg', 'r_300.jpg', 'r_913.jpg', 'r_523.jpg', 'r_23.jpg', 'r_637.jpg', 'r_557.jpg', 'r_443.jpg', 'r_90.jpg', 'r_1099.jpg', 'r_1343.jpg', 'r_747.jpg', 'r_378.jpg', 'r_425.jpg', 'r_967.jpg', 'r_80.jpg', 'r_995.jpg', 'r_449.jpg', 'r_245.jpg', 'r_327.jpg', 'r_588.jpg', 'r_351.jpg', 'r_600.jpg', 'r_1249.jpg', 'r_284.jpg', 'r_253.jpg', 'r_129.jpg', 'r_147.jpg', 'r_1530.jpg', 'r_182.jpg', 'r_325.jpg', 'r_92.jpg', 'r_13.jpg', 'r_574.jpg', 'r_1107.jpg', 'r_1251.jpg', 'r_1153.jpg', 'r_639.jpg', 'r_43.jpg', 'r_897.jpg', 'r_8.jpg', 'r_57.jpg', 'r_645.jpg', 'r_188.jpg', 'r_104.jpg', 'r_651.jpg', 'r_276.jpg', 'r_1485.jpg', 'r_1465.jpg', 'r_576.jpg', 'r_306.jpg', 'r_667.jpg', 'r_204.jpg', 'r_1273.jpg', 'r_76.jpg', 'r_1399.jpg', 'r_498.jpg', 'r_812.jpg', 'r_1301.jpg', 'r_1313.jpg', 'r_70.jpg', 'r_1257.jpg', 'r_993.jpg', 'r_153.jpg', 'r_753.jpg', 'r_388.jpg', 'r_21.jpg', 'r_196.jpg', 'r_168.jpg', 'r_357.jpg', 'r_1325.jpg', 'r_412.jpg', 'r_1059.jpg', 'r_508.jpg', 'r_1075.jpg', 'r_455.jpg', 'r_157.jpg', 'r_1514.jpg', 'r_919.jpg', 'r_370.jpg', 'r_249.jpg', 'r_1357.jpg', 'r_243.jpg', 'r_1337.jpg', 'r_631.jpg', 'r_302.jpg', 'r_337.jpg', 'r_416.jpg', 'r_161.jpg', 'r_139.jpg', 'r_106.jpg', 'r_965.jpg', 'r_119.jpg', 'r_949.jpg', 'r_404.jpg', 'r_1083.jpg', 'r_272.jpg', 'r_541.jpg', 'r_849.jpg', 'r_115.jpg', 'r_402.jpg', 'r_172.jpg', 'r_88.jpg', 'r_814.jpg', 'r_1516.jpg', 'r_931.jpg', 'r_661.jpg', 'r_1385.jpg', 'r_1536.jpg', 'r_343.jpg', 'r_829.jpg', 'r_943.jpg', 'r_1.jpg', 'r_1077.jpg', 'r_1477.jpg', 'r_957.jpg', 'r_977.jpg', 'r_210.jpg', 'r_1508.jpg', 'r_400.jpg', 'r_911.jpg', 'r_1245.jpg', 'r_274.jpg', 'r_765.jpg', 'r_198.jpg', 'r_649.jpg', 'r_363.jpg', 'r_1413.jpg', 'r_937.jpg', 'r_1479.jpg', 'r_184.jpg', 'r_859.jpg', 'r_586.jpg', 'r_893.jpg', 'r_716.jpg', 'r_939.jpg', 'r_518.jpg', 'r_480.jpg', 'r_643.jpg', 'r_439.jpg', 'r_533.jpg', 'r_108.jpg', 'r_935.jpg', 'r_431.jpg', 'r_1425.jpg', 'r_217.jpg', 'r_174.jpg', 'r_1309.jpg', 'r_376.jpg', 'r_212.jpg', 'r_231.jpg', 'r_1147.jpg', 'r_145.jpg', 'r_1317.jpg', 'r_1387.jpg', 'r_891.jpg', 'r_961.jpg', 'r_55.jpg', 'r_535.jpg', 'r_110.jpg', 'r_219.jpg', 'r_137.jpg', 'r_877.jpg', 'r_190.jpg', 'r_229.jpg', 'r_178.jpg', 'r_792.jpg', 'r_1233.jpg', 'r_457.jpg', 'r_971.jpg', 'r_594.jpg', 'r_1043.jpg', 'r_247.jpg', 'r_1307.jpg', 'r_1167.jpg', 'r_1081.jpg', 'r_49.jpg', 'r_102.jpg', 'r_592.jpg', 'r_131.jpg', 'r_396.jpg', 'r_1027.jpg', 'r_1471.jpg', 'r_1447.jpg', 'r_27.jpg', 'r_608.jpg', 'r_757.jpg', 'r_981.jpg', 'r_987.jpg', 'r_86.jpg', 'r_206.jpg', 'r_975.jpg', 'r_398.jpg', 'r_25.jpg', 'r_53.jpg', 'r_1261.jpg', 'r_233.jpg', 'r_767.jpg', 'r_798.jpg', 'r_1143.jpg', 'r_472.jpg', 'r_308.jpg', 'r_692.jpg', 'r_1211.jpg', 'r_18.jpg', 'r_1445.jpg', 'r_394.jpg', 'r_37.jpg', 'r_386.jpg', 'r_751.jpg', 'r_461.jpg', 'r_612.jpg', 'r_255.jpg', 'r_494.jpg', 'r_59.jpg', 'r_1183.jpg', 'r_268.jpg', 'r_382.jpg', 'r_1419.jpg', 'r_680.jpg', 'r_98.jpg', 'r_1223.jpg', 'r_1409.jpg', 'r_553.jpg', 'r_241.jpg', 'r_1379.jpg', 'r_682.jpg', 'r_887.jpg', 'r_329.jpg', 'r_1243.jpg', 'r_20.jpg', 'r_121.jpg', 'r_490.jpg', 'r_384.jpg', 'r_341.jpg', 'r_194.jpg', 'r_435.jpg', 'r_423.jpg', 'r_1091.jpg', 'r_657.jpg', 'r_282.jpg', 'r_1087.jpg', 'r_665.jpg', 'r_33.jpg', 'r_1499.jpg', 'r_706.jpg', 'r_1047.jpg', 'r_545.jpg', 'r_786.jpg', 'r_694.jpg', 'r_429.jpg', 'r_304.jpg', 'r_1247.jpg', 'r_847.jpg', 'r_1473.jpg', 'r_353.jpg', 'r_288.jpg', 'r_641.jpg', 'r_68.jpg', 'r_321.jpg', 'r_698.jpg', 'r_31.jpg', 'r_251.jpg', 'r_159.jpg', 'r_947.jpg', 'r_582.jpg', 'r_333.jpg', 'r_127.jpg', 'r_1451.jpg', 'r_989.jpg', 'r_312.jpg', 'r_933.jpg', 'r_506.jpg', 'r_453.jpg', 'r_708.jpg', 'r_237.jpg', 'r_1163.jpg', 'r_123.jpg', 'r_467.jpg', 'r_889.jpg', 'r_696.jpg', 'r_463.jpg', 'r_17.jpg', 'r_1121.jpg', 'r_720.jpg', 'r_1459.jpg', 'r_604.jpg', 'r_380.jpg', 'r_257.jpg', 'r_135.jpg', 'r_991.jpg', 'r_1329.jpg', 'r_94.jpg', 'r_166.jpg', 'r_1297.jpg', 'r_584.jpg', 'r_474.jpg', 'r_1079.jpg', 'r_895.jpg', 'r_476.jpg', 'r_555.jpg', 'r_298.jpg', 'r_41.jpg', 'r_64.jpg', 'r_1433.jpg', 'r_1155.jpg', 'r_1443.jpg', 'r_292.jpg', 'r_149.jpg', 'r_465.jpg', 'r_684.jpg', 'r_1025.jpg', 'r_561.jpg', 'r_567.jpg', 'r_286.jpg', 'r_1057.jpg', 'r_745.jpg', 'r_170.jpg', 'r_563.jpg', 'r_903.jpg', 'r_406.jpg', 'r_1049.jpg', 'r_647.jpg', 'r_84.jpg', 'r_492.jpg', 'r_1017.jpg', 'r_881.jpg', 'r_1467.jpg', 'r_1495.jpg', 'r_421.jpg', 'r_606.jpg', 'r_1111.jpg', 'r_1355.jpg', 'r_718.jpg', 'r_202.jpg', 'r_1095.jpg', 'r_1067.jpg', 'r_314.jpg', 'r_392.jpg', 'r_263.jpg', 'r_47.jpg', 'r_1023.jpg', 'r_761.jpg', 'r_1045.jpg', 'r_100.jpg', 'r_790.jpg', 'r_19.jpg', 'r_1073.jpg', 'r_488.jpg', 'r_788.jpg', 'r_616.jpg', 'r_261.jpg', 'r_151.jpg', 'r_539.jpg', 'r_831.jpg', 'r_743.jpg', 'r_1550.jpg', 'r_29.jpg', 'r_1039.jpg', 'r_1089.jpg', 'r_1071.jpg', 'r_45.jpg', 'r_437.jpg', 'r_1431.jpg', 'r_125.jpg', 'r_873.jpg', 'r_319.jpg', 'r_806.jpg', 'r_714.jpg', 'r_365.jpg', 'r_590.jpg', 'r_117.jpg', 'r_596.jpg', 'r_861.jpg', 'r_7.jpg', 'r_78.jpg', 'r_180.jpg', 'r_186.jpg', 'r_310.jpg', 'r_72.jpg', 'r_294.jpg', 'r_5.jpg', 'r_2.jpg', 'r_955.jpg', 'r_355.jpg', 'r_143.jpg', 'r_671.jpg', 'r_359.jpg', 'r_1293.jpg', 'r_74.jpg', 'r_445.jpg', 'r_737.jpg', 'r_941.jpg', 'r_278.jpg', 'r_855.jpg', 'r_221.jpg', 'r_871.jpg', 'r_1489.jpg', 'r_192.jpg', 'r_208.jpg', 'r_3.jpg', 'r_1391.jpg', 'r_1101.jpg', 'r_96.jpg', 'r_907.jpg', 'r_141.jpg', 'r_633.jpg', 'r_39.jpg', 'r_225.jpg', 'r_759.jpg', 'r_296.jpg', 'r_1189.jpg', 'r_627.jpg', 'r_800.jpg', 'r_12.jpg', 'r_1457.jpg', 'r_502.jpg', 'r_1195.jpg', 'r_51.jpg', 'r_1542.jpg', 'r_133.jpg', 'r_1037.jpg', 'r_1351.jpg', 'r_270.jpg', 'r_6.jpg', 'r_66.jpg', 'r_973.jpg']\n"
          ]
        }
      ]
    },
    {
      "cell_type": "markdown",
      "source": [
        "## Load GoundingDINO model"
      ],
      "metadata": {
        "id": "FQYf9Alv2gIJ"
      }
    },
    {
      "cell_type": "code",
      "source": [
        "%cd {HOME}/GroundingDINO\n",
        "#!pip install -e .\n",
        "from groundingdino.util.inference import Model"
      ],
      "metadata": {
        "colab": {
          "base_uri": "https://localhost:8080/"
        },
        "id": "ulT5Cnv2Jeex",
        "outputId": "fe54039b-56d8-4ac9-ea2a-497909e6dd95"
      },
      "execution_count": null,
      "outputs": [
        {
          "output_type": "stream",
          "name": "stdout",
          "text": [
            "/content/GroundingDINO\n"
          ]
        },
        {
          "output_type": "stream",
          "name": "stderr",
          "text": [
            "Importing from timm.models.layers is deprecated, please import via timm.layers\n"
          ]
        }
      ]
    },
    {
      "cell_type": "code",
      "source": [
        "model = Model(model_config_path=CONFIG_PATH, model_checkpoint_path=WEIGHTS_PATH)"
      ],
      "metadata": {
        "colab": {
          "base_uri": "https://localhost:8080/"
        },
        "id": "Nu6jiuI-2HdH",
        "outputId": "99f927ab-b673-4696-ec1f-2044f735dbb2"
      },
      "execution_count": null,
      "outputs": [
        {
          "output_type": "stream",
          "name": "stderr",
          "text": [
            "torch.meshgrid: in an upcoming release, it will be required to pass the indexing argument. (Triggered internally at ../aten/src/ATen/native/TensorShape.cpp:3595.)\n"
          ]
        },
        {
          "output_type": "stream",
          "name": "stdout",
          "text": [
            "final text_encoder_type: bert-base-uncased\n"
          ]
        },
        {
          "output_type": "stream",
          "name": "stderr",
          "text": [
            "\n",
            "The secret `HF_TOKEN` does not exist in your Colab secrets.\n",
            "To authenticate with the Hugging Face Hub, create a token in your settings tab (https://huggingface.co/settings/tokens), set it as secret in your Google Colab and restart your session.\n",
            "You will be able to reuse this secret in all of your notebooks.\n",
            "Please note that authentication is recommended but still optional to access public models or datasets.\n",
            "You are using `torch.load` with `weights_only=False` (the current default value), which uses the default pickle module implicitly. It is possible to construct malicious pickle data which will execute arbitrary code during unpickling (See https://github.com/pytorch/pytorch/blob/main/SECURITY.md#untrusted-models for more details). In a future release, the default value for `weights_only` will be flipped to `True`. This limits the functions that could be executed during unpickling. Arbitrary objects will no longer be allowed to be loaded via this mode unless they are explicitly allowlisted by the user via `torch.serialization.add_safe_globals`. We recommend you start setting `weights_only=True` for any use case where you don't have full control of the loaded file. Please open an issue on GitHub for any issues related to this experimental feature.\n"
          ]
        }
      ]
    },
    {
      "cell_type": "markdown",
      "source": [
        "Check how it works with one image"
      ],
      "metadata": {
        "id": "a7q-WsEzKs-C"
      }
    },
    {
      "cell_type": "code",
      "source": [
        "SOURCE_IMAGE_PATH = \"/content/ratDetectorComputerVision/data/r_1465.jpg\"\n",
        "CLASSES = ['rat']\n",
        "BOX_TRESHOLD = 0.35\n",
        "TEXT_TRESHOLD = 0.25"
      ],
      "metadata": {
        "id": "FbRzGGTw5ApH"
      },
      "execution_count": null,
      "outputs": []
    },
    {
      "cell_type": "code",
      "source": [
        "import supervision as sv\n",
        "\n",
        "image = cv2.imread(SOURCE_IMAGE_PATH)\n",
        "caption = \", \".join(CLASSES)\n",
        "\n",
        "detections, labels = model.predict_with_caption(\n",
        "    image=image,\n",
        "    caption=caption,\n",
        "    box_threshold=BOX_TRESHOLD,\n",
        "    text_threshold=TEXT_TRESHOLD\n",
        ")\n",
        "\n",
        "box_annotator = sv.BoxAnnotator()\n",
        "labels = [\n",
        "    f\"{label} {confidence:0.2f}\"\n",
        "    for label, (_, confidence, class_id, _)\n",
        "    in zip(labels, detections)]\n",
        "annotated_frame = box_annotator.annotate(scene=image.copy(), detections=detections, labels=labels)\n",
        "\n",
        "\n",
        "%matplotlib inline\n",
        "sv.plot_image(annotated_frame, (16, 16))"
      ],
      "metadata": {
        "colab": {
          "base_uri": "https://localhost:8080/",
          "height": 948
        },
        "id": "srkw0A2Z20ek",
        "outputId": "8fb010e0-1fe2-49dc-e529-1c310966909d"
      },
      "execution_count": null,
      "outputs": [
        {
          "output_type": "stream",
          "name": "stderr",
          "text": [
            "The `device` argument is deprecated and will be removed in v5 of Transformers.\n",
            "torch.utils.checkpoint: the use_reentrant parameter should be passed explicitly. In version 2.5 we will raise an exception if use_reentrant is not passed. use_reentrant=False is recommended, but if you need to preserve the current default behavior, you can pass use_reentrant=True. Refer to docs for more details on the differences between the two variants.\n",
            "None of the inputs have requires_grad=True. Gradients will be None\n",
            "`torch.cuda.amp.autocast(args...)` is deprecated. Please use `torch.amp.autocast('cuda', args...)` instead.\n"
          ]
        },
        {
          "output_type": "display_data",
          "data": {
            "text/plain": [
              "<Figure size 1600x1600 with 1 Axes>"
            ],
            "image/png": "[encoded data removed]"
          },
          "metadata": {}
        }
      ]
    },
    {
      "cell_type": "markdown",
      "source": [
        "## Dataset auto anotation"
      ],
      "metadata": {
        "id": "nCpkcHMI8RSJ"
      }
    },
    {
      "cell_type": "code",
      "source": [
        "def list_image_files(directory: str) -> List[str]:\n",
        "    image_extensions = [\".jpeg\", \".jpg\", \".png\", \".bmp\", \".gif\"]\n",
        "    image_files = [f for f in os.listdir(directory) if os.path.splitext(f)[1].lower() in image_extensions]\n",
        "    return image_files\n",
        "\n",
        "\n",
        "def save_voc_xml(xml_string: str, file_path: str) -> None:\n",
        "    with open(file_path, 'w') as f:\n",
        "        f.write(xml_string)\n",
        "\n",
        "\n",
        "def image_name_to_xml_name(image_name: str) -> str:\n",
        "    base_name, _ = os.path.splitext(image_name)\n",
        "    xml_name = f\"{base_name}.xml\"\n",
        "    return xml_name"
      ],
      "metadata": {
        "id": "z7vKx_0_6k-K"
      },
      "execution_count": null,
      "outputs": []
    },
    {
      "cell_type": "code",
      "source": [
        "PROJECT_NAME = \"ratsDetectionV3\"\n",
        "PROJECT_DESCRIPTION = \"ratsClassification\"\n",
        "SOURCE_DIRECTORY_PATH = \"/content/ratDetectorComputerVision/data\"\n",
        "CLASSES = ['rat']\n",
        "BOX_TRESHOLD = 0.5\n",
        "TEXT_TRESHOLD = 0.5"
      ],
      "metadata": {
        "id": "SOstfOif8cfH"
      },
      "execution_count": null,
      "outputs": []
    },
    {
      "cell_type": "code",
      "source": [
        "from roboflow import Roboflow\n",
        "rf = Roboflow(api_key=\"1bZDjhBKBgnisv5Hf2VR\")\n",
        "\n",
        "workspace = rf.workspace()\n",
        "\n",
        "new_project = workspace.create_project(\n",
        "    project_name=PROJECT_NAME,\n",
        "    project_license=\"MIT\",\n",
        "    project_type=\"object-detection\",\n",
        "    annotation=\"BoundingBox-Annotations\")"
      ],
      "metadata": {
        "colab": {
          "base_uri": "https://localhost:8080/"
        },
        "id": "OnFqm3oS8qq-",
        "outputId": "817ef92b-c99a-492c-833d-8669a9847c91"
      },
      "execution_count": null,
      "outputs": [
        {
          "output_type": "stream",
          "name": "stdout",
          "text": [
            "loading Roboflow workspace...\n",
            "loading Roboflow project...\n"
          ]
        }
      ]
    },
    {
      "cell_type": "code",
      "source": [
        "def enhance_class_name(class_names: List[str]) -> List[str]:\n",
        "    return [\n",
        "        f\"all {class_name}s\"\n",
        "        for class_name\n",
        "        in class_names\n",
        "    ]"
      ],
      "metadata": {
        "id": "NKd_JSKj-cbI"
      },
      "execution_count": null,
      "outputs": []
    },
    {
      "cell_type": "markdown",
      "source": [
        "Change images with PNG format to JPEG to match filename extension."
      ],
      "metadata": {
        "id": "UHtrrVGZRKwU"
      }
    },
    {
      "cell_type": "code",
      "source": [
        "image_path = \"/content/ratDetectorComputerVision/data/r_1465.jpg\"\n",
        "\n",
        "try:\n",
        "    with Image.open(image_path) as img:\n",
        "        print(f\"Actual format: {img.format}\")\n",
        "except Exception as e:\n",
        "    print(f\"Error: {e}\")"
      ],
      "metadata": {
        "colab": {
          "base_uri": "https://localhost:8080/"
        },
        "id": "5cAV1eoqPcVq",
        "outputId": "fa9b02d4-5dfd-4a6e-9b2d-7d56c1f5f30e"
      },
      "execution_count": null,
      "outputs": [
        {
          "output_type": "stream",
          "name": "stdout",
          "text": [
            "Actual format: PNG\n"
          ]
        }
      ]
    },
    {
      "cell_type": "code",
      "source": [
        "image_dir = SOURCE_DIRECTORY_PATH\n",
        "\n",
        "\n",
        "if not os.path.exists(image_dir):\n",
        "    print(f\"Directory '{image_dir}' not found!\")\n",
        "else:\n",
        "    for filename in os.listdir(image_dir):\n",
        "        file_path = os.path.join(image_dir, filename)\n",
        "\n",
        "        if not os.path.isfile(file_path):\n",
        "            continue\n",
        "\n",
        "        actual_format = imghdr.what(file_path)\n",
        "\n",
        "        # If the file is actually a PNG but doesn't have .png extension, print it\n",
        "        if actual_format == \"png\" and not filename.lower().endswith(\".png\"):\n",
        "            print(f\"Incorrect PNG file: {filename} (should be .png)\")"
      ],
      "metadata": {
        "colab": {
          "base_uri": "https://localhost:8080/"
        },
        "id": "FaerWGZPQTba",
        "outputId": "d4481c47-8bbe-4766-ead7-2d0aeb9188c4"
      },
      "execution_count": null,
      "outputs": [
        {
          "output_type": "stream",
          "name": "stdout",
          "text": [
            "Incorrect PNG file: r_1465.jpg (should be .png)\n",
            "Incorrect PNG file: r_812.jpg (should be .png)\n",
            "Incorrect PNG file: r_102.jpg (should be .png)\n",
            "Incorrect PNG file: r_59.jpg (should be .png)\n",
            "Incorrect PNG file: r_241.jpg (should be .png)\n",
            "Incorrect PNG file: r_1499.jpg (should be .png)\n",
            "Incorrect PNG file: r_319.jpg (should be .png)\n"
          ]
        }
      ]
    },
    {
      "cell_type": "code",
      "source": [
        "image_dir = SOURCE_DIRECTORY_PATH\n",
        "\n",
        "\n",
        "if not os.path.exists(image_dir):\n",
        "    print(f\"❌ Directory '{image_dir}' not found! Please check the path.\")\n",
        "else:\n",
        "\n",
        "    for filename in os.listdir(image_dir):\n",
        "        file_path = os.path.join(image_dir, filename)\n",
        "\n",
        "\n",
        "        if not os.path.isfile(file_path):\n",
        "            continue\n",
        "\n",
        "\n",
        "        actual_format = imghdr.what(file_path)\n",
        "\n",
        "        if actual_format == \"png\":\n",
        "            new_filename = os.path.splitext(filename)[0] + \"_converted.jpg\"  # Add '_converted' to avoid overwriting\n",
        "            new_file_path = os.path.join(image_dir, new_filename)\n",
        "\n",
        "            try:\n",
        "                with Image.open(file_path) as img:\n",
        "                    rgb_img = img.convert(\"RGB\")  # Convert PNG (RGBA) to RGB\n",
        "                    rgb_img.save(new_file_path, \"JPEG\")\n",
        "\n",
        "                # Remove the old PNG file\n",
        "                os.remove(file_path)\n",
        "                print(f\"✅ Converted: {filename} → {new_filename}\")\n",
        "            except Exception as e:\n",
        "                print(f\"❌ Error converting {filename}: {e}\")\n"
      ],
      "metadata": {
        "colab": {
          "base_uri": "https://localhost:8080/"
        },
        "id": "QIxPjjVSReS4",
        "outputId": "834c773f-f299-44cc-fc5c-8924fd54ba07"
      },
      "execution_count": null,
      "outputs": [
        {
          "output_type": "stream",
          "name": "stdout",
          "text": [
            "✅ Converted: r_1465.jpg → r_1465_converted.jpg\n",
            "✅ Converted: r_812.jpg → r_812_converted.jpg\n",
            "✅ Converted: r_102.jpg → r_102_converted.jpg\n",
            "✅ Converted: r_59.jpg → r_59_converted.jpg\n",
            "✅ Converted: r_241.jpg → r_241_converted.jpg\n",
            "✅ Converted: r_1499.jpg → r_1499_converted.jpg\n",
            "✅ Converted: r_319.jpg → r_319_converted.jpg\n"
          ]
        }
      ]
    },
    {
      "cell_type": "code",
      "source": [
        "image_path = \"/content/ratDetectorComputerVision/data/r_1465_converted.jpg\"\n",
        "\n",
        "try:\n",
        "    with Image.open(image_path) as img:\n",
        "        print(f\"🔍 Actual format: {img.format}\")\n",
        "except Exception as e:\n",
        "    print(f\"❌ Error: {e}\")"
      ],
      "metadata": {
        "colab": {
          "base_uri": "https://localhost:8080/"
        },
        "id": "n-gFD322Rm97",
        "outputId": "24450254-0dcc-434f-c646-dd294a8e576f"
      },
      "execution_count": null,
      "outputs": [
        {
          "output_type": "stream",
          "name": "stdout",
          "text": [
            "🔍 Actual format: JPEG\n"
          ]
        }
      ]
    },
    {
      "cell_type": "code",
      "source": [
        "#from roboflow import Roboflow\n",
        "\n",
        "# Initialize Roboflow API\n",
        "#rf = Roboflow(api_key=\"1bZDjhBKBgnisv5Hf2VR\")  # Use your actual API key\n",
        "\n",
        "# Try fetching the default workspace (if available)\n",
        "#workspace = rf.workspace()\n",
        "\n",
        "# Print workspace details\n",
        "print(f\"✅ Connected to Workspace: {workspace.name} (URL: {workspace.url})\")\n"
      ],
      "metadata": {
        "colab": {
          "base_uri": "https://localhost:8080/"
        },
        "id": "qL02qgw0PJbJ",
        "outputId": "9bf82062-4f58-4433-dddf-2446bd4cb01f"
      },
      "execution_count": null,
      "outputs": [
        {
          "output_type": "stream",
          "name": "stdout",
          "text": [
            "✅ Connected to Workspace: Computer Vision (URL: computer-vision-ps2op)\n"
          ]
        }
      ]
    },
    {
      "cell_type": "code",
      "source": [
        "# List all projects in your workspace\n",
        "projects = workspace.projects()\n",
        "\n",
        "print(\"\\n📂 Available Projects in Workspace:\")\n",
        "for project in projects:\n",
        "    print(f\"- Project Name: {project}\")  # Directly print project names\n"
      ],
      "metadata": {
        "colab": {
          "base_uri": "https://localhost:8080/"
        },
        "id": "6Z3Tp_aIPSwF",
        "outputId": "bfad0147-32b0-403d-9b95-90ae199713bb"
      },
      "execution_count": null,
      "outputs": [
        {
          "output_type": "stream",
          "name": "stdout",
          "text": [
            "\n",
            "📂 Available Projects in Workspace:\n",
            "- Project Name: computer-vision-ps2op/ratsdetectionv3\n"
          ]
        }
      ]
    },
    {
      "cell_type": "code",
      "source": [
        "new_project = workspace.project(\"ratsdetectionv3\")  # Replace with the correct project\n",
        "print(f\"✅ Successfully loaded project: {new_project}\")"
      ],
      "metadata": {
        "colab": {
          "base_uri": "https://localhost:8080/"
        },
        "id": "zbga1TldP6hv",
        "outputId": "118c1061-cd80-4d89-893a-d0cf710e7968"
      },
      "execution_count": null,
      "outputs": [
        {
          "output_type": "stream",
          "name": "stdout",
          "text": [
            "\rloading Roboflow project...\n",
            "✅ Successfully loaded project: {\n",
            "  \"name\": \"ratsDetectionV3\",\n",
            "  \"type\": \"object-detection\",\n",
            "  \"workspace\": \"computer-vision-ps2op\"\n",
            "}\n"
          ]
        }
      ]
    },
    {
      "cell_type": "code",
      "source": [
        "import os\n",
        "import cv2\n",
        "from roboflow import Roboflow\n",
        "\n",
        "#from roboflow import Roboflow\n",
        "rf = Roboflow(api_key=\"1bZDjhBKBgnisv5Hf2VR\")\n",
        "\n",
        "workspace = rf.workspace()\n",
        "\n",
        "new_project = workspace.create_project(\n",
        "    project_name=PROJECT_NAME,\n",
        "    project_license=\"MIT\",\n",
        "    project_type=\"object-detection\",\n",
        "    annotation=\"BoundingBox-Annotations\")\n"
      ],
      "metadata": {
        "id": "iYmQLu-DYCg1",
        "outputId": "387b8e86-ef7a-47c1-e791-2e4a6e0a876d",
        "colab": {
          "base_uri": "https://localhost:8080/"
        }
      },
      "execution_count": null,
      "outputs": [
        {
          "output_type": "stream",
          "name": "stdout",
          "text": [
            "loading Roboflow workspace...\n",
            "loading Roboflow project...\n"
          ]
        }
      ]
    },
    {
      "cell_type": "code",
      "source": [
        "PROJECT_NAME"
      ],
      "metadata": {
        "id": "Rw5jiPDlYH8d",
        "outputId": "3b915923-ef7a-4b27-d095-190abb65164a",
        "colab": {
          "base_uri": "https://localhost:8080/",
          "height": 35
        }
      },
      "execution_count": null,
      "outputs": [
        {
          "output_type": "execute_result",
          "data": {
            "text/plain": [
              "'ratsDetectionV3'"
            ],
            "application/vnd.google.colaboratory.intrinsic+json": {
              "type": "string"
            }
          },
          "metadata": {},
          "execution_count": 40
        }
      ]
    },
    {
      "cell_type": "code",
      "source": [
        "rf = Roboflow(api_key=\"1bZDjhBKBgnisv5Hf2VR\")\n",
        "workspace = rf.workspace(\"computer-vision-ps2op\")\n",
        "project = workspace.project(\"ratsdetectionv3\")\n",
        "\n",
        "\n",
        "# Define paths and thresholds\n",
        "SOURCE_DIRECTORY_PATH = \"/content/ratDetectorComputerVision/data\"\n",
        "BOX_THRESHOLD = 0.5\n",
        "TEXT_THRESHOLD = 0.5\n",
        "CLASSES = [\"rat\"]\n",
        "\n",
        "# Ensure output folder exists for annotations\n",
        "ANNOTATION_DIR = os.path.join(SOURCE_DIRECTORY_PATH, \"annotations\")\n",
        "os.makedirs(ANNOTATION_DIR, exist_ok=True)\n",
        "\n",
        "# Loop through all images in the directory\n",
        "for image_name in os.listdir(SOURCE_DIRECTORY_PATH):\n",
        "    if not image_name.lower().endswith((\".jpg\", \".jpeg\", \".png\")):\n",
        "        continue  # Skip non-image files\n",
        "\n",
        "    image_path = os.path.join(SOURCE_DIRECTORY_PATH, image_name)\n",
        "    image = cv2.imread(image_path)\n",
        "\n",
        "    if image is None:\n",
        "        print(f\"❌ Error: Unable to read {image_name}, skipping.\")\n",
        "        continue\n",
        "\n",
        "    height, width, depth = image.shape\n",
        "\n",
        "    # Run object detection on the image\n",
        "    detections = model.predict_with_classes(\n",
        "        image=image,\n",
        "        classes=enhance_class_name(class_names=CLASSES),\n",
        "        box_threshold=BOX_THRESHOLD,\n",
        "        text_threshold=TEXT_THRESHOLD\n",
        "    )\n",
        "\n",
        "    # Filter detections\n",
        "    detections = detections[detections.class_id != None]  # Remove null detections\n",
        "    detections = detections[(detections.area / (height * width)) < 0.9]  # Remove large boxes\n",
        "    # detections = detections.with_nms()  # Uncomment if needed to remove duplicate boxes\n",
        "\n",
        "    # Generate XML annotation filename\n",
        "    xml_name = os.path.splitext(image_name)[0] + \".xml\"\n",
        "    xml_path = os.path.join(ANNOTATION_DIR, xml_name)\n",
        "\n",
        "    # Convert detections to PASCAL VOC XML format\n",
        "    xml_string = sv.detections_to_voc_xml(\n",
        "        detections=detections,\n",
        "        classes=CLASSES,\n",
        "        filename=image_name,\n",
        "        width=width,\n",
        "        height=height,\n",
        "        depth=depth\n",
        "    )\n",
        "\n",
        "    # Save XML annotation file\n",
        "    with open(xml_path, \"w\") as xml_file:\n",
        "        xml_file.write(xml_string)\n",
        "\n",
        "    # Upload to Roboflow (Image + Annotation)\n",
        "    try:\n",
        "        new_project.upload(image_path=image_path, annotation_path=xml_path, split=\"train\", overwrite=True)\n",
        "        print(f\"✅ Successfully uploaded {image_name} with annotation.\")\n",
        "    except Exception as e:\n",
        "        print(f\"❌ Error uploading {image_name}: {e}\")\n"
      ],
      "metadata": {
        "colab": {
          "base_uri": "https://localhost:8080/"
        },
        "id": "7Z-OYAYPVxWa",
        "outputId": "125cfb36-cf41-4e2c-e3b7-c48f9785bd39"
      },
      "execution_count": null,
      "outputs": [
        {
          "output_type": "stream",
          "name": "stdout",
          "text": [
            "loading Roboflow workspace...\n",
            "loading Roboflow project...\n",
            "✅ Successfully uploaded r_1185.jpg with annotation.\n",
            "✅ Successfully uploaded r_879.jpg with annotation.\n",
            "✅ Successfully uploaded r_839.jpg with annotation.\n",
            "✅ Successfully uploaded r_11.jpg with annotation.\n",
            "✅ Successfully uploaded r_822.jpg with annotation.\n",
            "✅ Successfully uploaded r_704.jpg with annotation.\n",
            "✅ Successfully uploaded r_865.jpg with annotation.\n",
            "✅ Successfully uploaded r_810.jpg with annotation.\n",
            "✅ Successfully uploaded r_883.jpg with annotation.\n",
            "✅ Successfully uploaded r_1437.jpg with annotation.\n",
            "✅ Successfully uploaded r_235.jpg with annotation.\n",
            "✅ Successfully uploaded r_578.jpg with annotation.\n",
            "✅ Successfully uploaded r_82.jpg with annotation.\n",
            "✅ Successfully uploaded r_223.jpg with annotation.\n",
            "✅ Successfully uploaded r_565.jpg with annotation.\n",
            "✅ Successfully uploaded r_447.jpg with annotation.\n",
            "✅ Successfully uploaded r_1291.jpg with annotation.\n",
            "✅ Successfully uploaded r_1327.jpg with annotation.\n",
            "✅ Successfully uploaded r_300.jpg with annotation.\n",
            "✅ Successfully uploaded r_913.jpg with annotation.\n",
            "✅ Successfully uploaded r_523.jpg with annotation.\n",
            "✅ Successfully uploaded r_23.jpg with annotation.\n",
            "✅ Successfully uploaded r_637.jpg with annotation.\n",
            "✅ Successfully uploaded r_557.jpg with annotation.\n",
            "✅ Successfully uploaded r_443.jpg with annotation.\n",
            "✅ Successfully uploaded r_90.jpg with annotation.\n",
            "✅ Successfully uploaded r_1099.jpg with annotation.\n",
            "✅ Successfully uploaded r_1343.jpg with annotation.\n",
            "✅ Successfully uploaded r_747.jpg with annotation.\n",
            "✅ Successfully uploaded r_378.jpg with annotation.\n",
            "✅ Successfully uploaded r_425.jpg with annotation.\n",
            "✅ Successfully uploaded r_1465_converted.jpg with annotation.\n",
            "✅ Successfully uploaded r_967.jpg with annotation.\n",
            "✅ Successfully uploaded r_80.jpg with annotation.\n",
            "✅ Successfully uploaded r_995.jpg with annotation.\n",
            "✅ Successfully uploaded r_449.jpg with annotation.\n",
            "✅ Successfully uploaded r_245.jpg with annotation.\n",
            "✅ Successfully uploaded r_327.jpg with annotation.\n",
            "✅ Successfully uploaded r_588.jpg with annotation.\n",
            "✅ Successfully uploaded r_351.jpg with annotation.\n",
            "✅ Successfully uploaded r_600.jpg with annotation.\n",
            "✅ Successfully uploaded r_1249.jpg with annotation.\n",
            "✅ Successfully uploaded r_284.jpg with annotation.\n",
            "✅ Successfully uploaded r_253.jpg with annotation.\n",
            "✅ Successfully uploaded r_129.jpg with annotation.\n",
            "✅ Successfully uploaded r_147.jpg with annotation.\n",
            "✅ Successfully uploaded r_1530.jpg with annotation.\n",
            "✅ Successfully uploaded r_182.jpg with annotation.\n",
            "✅ Successfully uploaded r_325.jpg with annotation.\n",
            "✅ Successfully uploaded r_92.jpg with annotation.\n",
            "✅ Successfully uploaded r_13.jpg with annotation.\n",
            "✅ Successfully uploaded r_574.jpg with annotation.\n",
            "✅ Successfully uploaded r_1107.jpg with annotation.\n",
            "✅ Successfully uploaded r_1251.jpg with annotation.\n",
            "✅ Successfully uploaded r_1153.jpg with annotation.\n",
            "✅ Successfully uploaded r_639.jpg with annotation.\n",
            "✅ Successfully uploaded r_43.jpg with annotation.\n",
            "✅ Successfully uploaded r_897.jpg with annotation.\n",
            "✅ Successfully uploaded r_8.jpg with annotation.\n",
            "✅ Successfully uploaded r_57.jpg with annotation.\n",
            "✅ Successfully uploaded r_645.jpg with annotation.\n",
            "✅ Successfully uploaded r_188.jpg with annotation.\n",
            "✅ Successfully uploaded r_104.jpg with annotation.\n",
            "✅ Successfully uploaded r_651.jpg with annotation.\n",
            "✅ Successfully uploaded r_276.jpg with annotation.\n",
            "✅ Successfully uploaded r_1485.jpg with annotation.\n",
            "✅ Successfully uploaded r_576.jpg with annotation.\n",
            "✅ Successfully uploaded r_306.jpg with annotation.\n",
            "✅ Successfully uploaded r_667.jpg with annotation.\n",
            "✅ Successfully uploaded r_204.jpg with annotation.\n",
            "✅ Successfully uploaded r_1273.jpg with annotation.\n",
            "✅ Successfully uploaded r_76.jpg with annotation.\n",
            "✅ Successfully uploaded r_1399.jpg with annotation.\n",
            "✅ Successfully uploaded r_498.jpg with annotation.\n",
            "✅ Successfully uploaded r_1301.jpg with annotation.\n",
            "✅ Successfully uploaded r_1313.jpg with annotation.\n",
            "✅ Successfully uploaded r_70.jpg with annotation.\n",
            "✅ Successfully uploaded r_1257.jpg with annotation.\n",
            "✅ Successfully uploaded r_993.jpg with annotation.\n",
            "✅ Successfully uploaded r_153.jpg with annotation.\n",
            "✅ Successfully uploaded r_753.jpg with annotation.\n",
            "✅ Successfully uploaded r_388.jpg with annotation.\n",
            "✅ Successfully uploaded r_21.jpg with annotation.\n",
            "✅ Successfully uploaded r_196.jpg with annotation.\n",
            "✅ Successfully uploaded r_168.jpg with annotation.\n",
            "✅ Successfully uploaded r_357.jpg with annotation.\n",
            "✅ Successfully uploaded r_1325.jpg with annotation.\n",
            "✅ Successfully uploaded r_412.jpg with annotation.\n",
            "✅ Successfully uploaded r_1059.jpg with annotation.\n",
            "✅ Successfully uploaded r_508.jpg with annotation.\n",
            "✅ Successfully uploaded r_1075.jpg with annotation.\n",
            "✅ Successfully uploaded r_455.jpg with annotation.\n",
            "✅ Successfully uploaded r_157.jpg with annotation.\n",
            "✅ Successfully uploaded r_1514.jpg with annotation.\n",
            "✅ Successfully uploaded r_1499_converted.jpg with annotation.\n",
            "✅ Successfully uploaded r_919.jpg with annotation.\n",
            "✅ Successfully uploaded r_370.jpg with annotation.\n",
            "✅ Successfully uploaded r_249.jpg with annotation.\n",
            "✅ Successfully uploaded r_1357.jpg with annotation.\n",
            "✅ Successfully uploaded r_243.jpg with annotation.\n",
            "✅ Successfully uploaded r_1337.jpg with annotation.\n",
            "✅ Successfully uploaded r_631.jpg with annotation.\n",
            "✅ Successfully uploaded r_302.jpg with annotation.\n",
            "✅ Successfully uploaded r_337.jpg with annotation.\n",
            "✅ Successfully uploaded r_416.jpg with annotation.\n",
            "✅ Successfully uploaded r_161.jpg with annotation.\n",
            "✅ Successfully uploaded r_139.jpg with annotation.\n",
            "✅ Successfully uploaded r_106.jpg with annotation.\n",
            "✅ Successfully uploaded r_965.jpg with annotation.\n",
            "✅ Successfully uploaded r_119.jpg with annotation.\n",
            "✅ Successfully uploaded r_949.jpg with annotation.\n",
            "✅ Successfully uploaded r_404.jpg with annotation.\n",
            "✅ Successfully uploaded r_1083.jpg with annotation.\n",
            "✅ Successfully uploaded r_272.jpg with annotation.\n",
            "✅ Successfully uploaded r_541.jpg with annotation.\n",
            "✅ Successfully uploaded r_849.jpg with annotation.\n",
            "✅ Successfully uploaded r_115.jpg with annotation.\n",
            "✅ Successfully uploaded r_402.jpg with annotation.\n",
            "✅ Successfully uploaded r_172.jpg with annotation.\n",
            "✅ Successfully uploaded r_88.jpg with annotation.\n",
            "✅ Successfully uploaded r_814.jpg with annotation.\n",
            "✅ Successfully uploaded r_1516.jpg with annotation.\n",
            "✅ Successfully uploaded r_931.jpg with annotation.\n",
            "✅ Successfully uploaded r_661.jpg with annotation.\n",
            "✅ Successfully uploaded r_1385.jpg with annotation.\n",
            "✅ Successfully uploaded r_1536.jpg with annotation.\n",
            "✅ Successfully uploaded r_343.jpg with annotation.\n",
            "✅ Successfully uploaded r_812_converted.jpg with annotation.\n",
            "✅ Successfully uploaded r_829.jpg with annotation.\n",
            "✅ Successfully uploaded r_943.jpg with annotation.\n",
            "✅ Successfully uploaded r_1.jpg with annotation.\n",
            "✅ Successfully uploaded r_1077.jpg with annotation.\n",
            "✅ Successfully uploaded r_1477.jpg with annotation.\n",
            "✅ Successfully uploaded r_957.jpg with annotation.\n",
            "✅ Successfully uploaded r_319_converted.jpg with annotation.\n",
            "✅ Successfully uploaded r_977.jpg with annotation.\n",
            "✅ Successfully uploaded r_210.jpg with annotation.\n",
            "✅ Successfully uploaded r_1508.jpg with annotation.\n",
            "✅ Successfully uploaded r_400.jpg with annotation.\n",
            "✅ Successfully uploaded r_911.jpg with annotation.\n",
            "✅ Successfully uploaded r_1245.jpg with annotation.\n",
            "✅ Successfully uploaded r_274.jpg with annotation.\n",
            "✅ Successfully uploaded r_765.jpg with annotation.\n",
            "✅ Successfully uploaded r_198.jpg with annotation.\n",
            "✅ Successfully uploaded r_649.jpg with annotation.\n",
            "✅ Successfully uploaded r_363.jpg with annotation.\n",
            "✅ Successfully uploaded r_1413.jpg with annotation.\n",
            "✅ Successfully uploaded r_937.jpg with annotation.\n",
            "✅ Successfully uploaded r_1479.jpg with annotation.\n",
            "✅ Successfully uploaded r_184.jpg with annotation.\n",
            "✅ Successfully uploaded r_859.jpg with annotation.\n",
            "✅ Successfully uploaded r_586.jpg with annotation.\n",
            "✅ Successfully uploaded r_893.jpg with annotation.\n",
            "✅ Successfully uploaded r_716.jpg with annotation.\n",
            "✅ Successfully uploaded r_939.jpg with annotation.\n",
            "✅ Successfully uploaded r_518.jpg with annotation.\n",
            "✅ Successfully uploaded r_480.jpg with annotation.\n",
            "✅ Successfully uploaded r_643.jpg with annotation.\n",
            "✅ Successfully uploaded r_439.jpg with annotation.\n",
            "✅ Successfully uploaded r_533.jpg with annotation.\n",
            "✅ Successfully uploaded r_108.jpg with annotation.\n",
            "✅ Successfully uploaded r_935.jpg with annotation.\n",
            "✅ Successfully uploaded r_431.jpg with annotation.\n",
            "✅ Successfully uploaded r_1425.jpg with annotation.\n",
            "✅ Successfully uploaded r_217.jpg with annotation.\n",
            "✅ Successfully uploaded r_174.jpg with annotation.\n",
            "✅ Successfully uploaded r_1309.jpg with annotation.\n",
            "✅ Successfully uploaded r_376.jpg with annotation.\n",
            "✅ Successfully uploaded r_212.jpg with annotation.\n",
            "✅ Successfully uploaded r_231.jpg with annotation.\n",
            "✅ Successfully uploaded r_1147.jpg with annotation.\n",
            "✅ Successfully uploaded r_145.jpg with annotation.\n",
            "✅ Successfully uploaded r_1317.jpg with annotation.\n",
            "✅ Successfully uploaded r_1387.jpg with annotation.\n",
            "✅ Successfully uploaded r_102_converted.jpg with annotation.\n",
            "✅ Successfully uploaded r_891.jpg with annotation.\n",
            "✅ Successfully uploaded r_961.jpg with annotation.\n",
            "✅ Successfully uploaded r_55.jpg with annotation.\n",
            "✅ Successfully uploaded r_535.jpg with annotation.\n",
            "✅ Successfully uploaded r_110.jpg with annotation.\n",
            "✅ Successfully uploaded r_219.jpg with annotation.\n",
            "✅ Successfully uploaded r_137.jpg with annotation.\n",
            "✅ Successfully uploaded r_877.jpg with annotation.\n",
            "✅ Successfully uploaded r_190.jpg with annotation.\n",
            "✅ Successfully uploaded r_229.jpg with annotation.\n",
            "✅ Successfully uploaded r_178.jpg with annotation.\n",
            "✅ Successfully uploaded r_792.jpg with annotation.\n",
            "✅ Successfully uploaded r_1233.jpg with annotation.\n",
            "✅ Successfully uploaded r_457.jpg with annotation.\n",
            "✅ Successfully uploaded r_971.jpg with annotation.\n",
            "✅ Successfully uploaded r_594.jpg with annotation.\n",
            "✅ Successfully uploaded r_59_converted.jpg with annotation.\n",
            "✅ Successfully uploaded r_1043.jpg with annotation.\n",
            "✅ Successfully uploaded r_247.jpg with annotation.\n",
            "✅ Successfully uploaded r_1307.jpg with annotation.\n",
            "✅ Successfully uploaded r_1167.jpg with annotation.\n",
            "✅ Successfully uploaded r_1081.jpg with annotation.\n",
            "✅ Successfully uploaded r_49.jpg with annotation.\n",
            "✅ Successfully uploaded r_592.jpg with annotation.\n",
            "✅ Successfully uploaded r_131.jpg with annotation.\n",
            "✅ Successfully uploaded r_396.jpg with annotation.\n",
            "✅ Successfully uploaded r_1027.jpg with annotation.\n",
            "✅ Successfully uploaded r_1471.jpg with annotation.\n",
            "✅ Successfully uploaded r_1447.jpg with annotation.\n",
            "✅ Successfully uploaded r_27.jpg with annotation.\n",
            "✅ Successfully uploaded r_608.jpg with annotation.\n",
            "✅ Successfully uploaded r_757.jpg with annotation.\n",
            "✅ Successfully uploaded r_981.jpg with annotation.\n",
            "✅ Successfully uploaded r_987.jpg with annotation.\n",
            "✅ Successfully uploaded r_86.jpg with annotation.\n",
            "✅ Successfully uploaded r_206.jpg with annotation.\n",
            "✅ Successfully uploaded r_975.jpg with annotation.\n",
            "✅ Successfully uploaded r_398.jpg with annotation.\n",
            "✅ Successfully uploaded r_25.jpg with annotation.\n",
            "✅ Successfully uploaded r_53.jpg with annotation.\n",
            "✅ Successfully uploaded r_1261.jpg with annotation.\n",
            "✅ Successfully uploaded r_233.jpg with annotation.\n",
            "✅ Successfully uploaded r_767.jpg with annotation.\n",
            "✅ Successfully uploaded r_798.jpg with annotation.\n",
            "✅ Successfully uploaded r_1143.jpg with annotation.\n",
            "✅ Successfully uploaded r_472.jpg with annotation.\n",
            "✅ Successfully uploaded r_308.jpg with annotation.\n",
            "✅ Successfully uploaded r_692.jpg with annotation.\n",
            "✅ Successfully uploaded r_1211.jpg with annotation.\n",
            "✅ Successfully uploaded r_18.jpg with annotation.\n",
            "✅ Successfully uploaded r_1445.jpg with annotation.\n",
            "✅ Successfully uploaded r_394.jpg with annotation.\n",
            "✅ Successfully uploaded r_37.jpg with annotation.\n",
            "✅ Successfully uploaded r_386.jpg with annotation.\n",
            "✅ Successfully uploaded r_751.jpg with annotation.\n",
            "✅ Successfully uploaded r_461.jpg with annotation.\n",
            "✅ Successfully uploaded r_612.jpg with annotation.\n",
            "✅ Successfully uploaded r_255.jpg with annotation.\n",
            "✅ Successfully uploaded r_494.jpg with annotation.\n",
            "✅ Successfully uploaded r_1183.jpg with annotation.\n",
            "✅ Successfully uploaded r_268.jpg with annotation.\n",
            "✅ Successfully uploaded r_382.jpg with annotation.\n",
            "✅ Successfully uploaded r_1419.jpg with annotation.\n",
            "✅ Successfully uploaded r_680.jpg with annotation.\n",
            "✅ Successfully uploaded r_98.jpg with annotation.\n",
            "✅ Successfully uploaded r_1223.jpg with annotation.\n",
            "✅ Successfully uploaded r_1409.jpg with annotation.\n",
            "✅ Successfully uploaded r_553.jpg with annotation.\n",
            "✅ Successfully uploaded r_1379.jpg with annotation.\n",
            "✅ Successfully uploaded r_682.jpg with annotation.\n",
            "✅ Successfully uploaded r_887.jpg with annotation.\n",
            "✅ Successfully uploaded r_329.jpg with annotation.\n",
            "✅ Successfully uploaded r_1243.jpg with annotation.\n",
            "✅ Successfully uploaded r_20.jpg with annotation.\n",
            "✅ Successfully uploaded r_121.jpg with annotation.\n",
            "✅ Successfully uploaded r_490.jpg with annotation.\n",
            "✅ Successfully uploaded r_384.jpg with annotation.\n",
            "✅ Successfully uploaded r_341.jpg with annotation.\n",
            "✅ Successfully uploaded r_194.jpg with annotation.\n",
            "✅ Successfully uploaded r_435.jpg with annotation.\n",
            "✅ Successfully uploaded r_423.jpg with annotation.\n",
            "✅ Successfully uploaded r_1091.jpg with annotation.\n",
            "✅ Successfully uploaded r_657.jpg with annotation.\n",
            "✅ Successfully uploaded r_282.jpg with annotation.\n",
            "✅ Successfully uploaded r_1087.jpg with annotation.\n",
            "✅ Successfully uploaded r_665.jpg with annotation.\n",
            "✅ Successfully uploaded r_33.jpg with annotation.\n",
            "✅ Successfully uploaded r_706.jpg with annotation.\n",
            "✅ Successfully uploaded r_1047.jpg with annotation.\n",
            "✅ Successfully uploaded r_545.jpg with annotation.\n",
            "✅ Successfully uploaded r_786.jpg with annotation.\n",
            "✅ Successfully uploaded r_694.jpg with annotation.\n",
            "✅ Successfully uploaded r_429.jpg with annotation.\n",
            "✅ Successfully uploaded r_304.jpg with annotation.\n",
            "✅ Successfully uploaded r_1247.jpg with annotation.\n",
            "✅ Successfully uploaded r_847.jpg with annotation.\n",
            "✅ Successfully uploaded r_1473.jpg with annotation.\n",
            "✅ Successfully uploaded r_353.jpg with annotation.\n",
            "✅ Successfully uploaded r_288.jpg with annotation.\n",
            "✅ Successfully uploaded r_641.jpg with annotation.\n",
            "✅ Successfully uploaded r_68.jpg with annotation.\n",
            "✅ Successfully uploaded r_321.jpg with annotation.\n",
            "✅ Successfully uploaded r_698.jpg with annotation.\n",
            "✅ Successfully uploaded r_31.jpg with annotation.\n",
            "✅ Successfully uploaded r_251.jpg with annotation.\n",
            "✅ Successfully uploaded r_159.jpg with annotation.\n",
            "✅ Successfully uploaded r_947.jpg with annotation.\n",
            "✅ Successfully uploaded r_582.jpg with annotation.\n",
            "✅ Successfully uploaded r_333.jpg with annotation.\n",
            "✅ Successfully uploaded r_127.jpg with annotation.\n",
            "✅ Successfully uploaded r_1451.jpg with annotation.\n",
            "✅ Successfully uploaded r_989.jpg with annotation.\n",
            "✅ Successfully uploaded r_312.jpg with annotation.\n",
            "✅ Successfully uploaded r_933.jpg with annotation.\n",
            "✅ Successfully uploaded r_506.jpg with annotation.\n",
            "✅ Successfully uploaded r_453.jpg with annotation.\n",
            "✅ Successfully uploaded r_708.jpg with annotation.\n",
            "✅ Successfully uploaded r_237.jpg with annotation.\n",
            "✅ Successfully uploaded r_1163.jpg with annotation.\n",
            "✅ Successfully uploaded r_123.jpg with annotation.\n",
            "✅ Successfully uploaded r_467.jpg with annotation.\n",
            "✅ Successfully uploaded r_889.jpg with annotation.\n",
            "✅ Successfully uploaded r_696.jpg with annotation.\n",
            "✅ Successfully uploaded r_463.jpg with annotation.\n",
            "✅ Successfully uploaded r_17.jpg with annotation.\n",
            "✅ Successfully uploaded r_1121.jpg with annotation.\n",
            "✅ Successfully uploaded r_720.jpg with annotation.\n",
            "✅ Successfully uploaded r_1459.jpg with annotation.\n",
            "✅ Successfully uploaded r_604.jpg with annotation.\n",
            "✅ Successfully uploaded r_380.jpg with annotation.\n",
            "✅ Successfully uploaded r_257.jpg with annotation.\n",
            "✅ Successfully uploaded r_135.jpg with annotation.\n",
            "✅ Successfully uploaded r_991.jpg with annotation.\n",
            "✅ Successfully uploaded r_1329.jpg with annotation.\n",
            "✅ Successfully uploaded r_94.jpg with annotation.\n",
            "✅ Successfully uploaded r_166.jpg with annotation.\n",
            "✅ Successfully uploaded r_1297.jpg with annotation.\n",
            "✅ Successfully uploaded r_584.jpg with annotation.\n",
            "✅ Successfully uploaded r_474.jpg with annotation.\n",
            "✅ Successfully uploaded r_1079.jpg with annotation.\n",
            "✅ Successfully uploaded r_895.jpg with annotation.\n",
            "✅ Successfully uploaded r_476.jpg with annotation.\n",
            "✅ Successfully uploaded r_555.jpg with annotation.\n",
            "✅ Successfully uploaded r_298.jpg with annotation.\n",
            "✅ Successfully uploaded r_41.jpg with annotation.\n",
            "✅ Successfully uploaded r_64.jpg with annotation.\n",
            "✅ Successfully uploaded r_1433.jpg with annotation.\n",
            "✅ Successfully uploaded r_1155.jpg with annotation.\n",
            "✅ Successfully uploaded r_1443.jpg with annotation.\n",
            "✅ Successfully uploaded r_292.jpg with annotation.\n",
            "✅ Successfully uploaded r_149.jpg with annotation.\n",
            "✅ Successfully uploaded r_465.jpg with annotation.\n",
            "✅ Successfully uploaded r_684.jpg with annotation.\n",
            "✅ Successfully uploaded r_1025.jpg with annotation.\n",
            "✅ Successfully uploaded r_561.jpg with annotation.\n",
            "✅ Successfully uploaded r_567.jpg with annotation.\n",
            "✅ Successfully uploaded r_286.jpg with annotation.\n",
            "✅ Successfully uploaded r_1057.jpg with annotation.\n",
            "✅ Successfully uploaded r_745.jpg with annotation.\n",
            "✅ Successfully uploaded r_170.jpg with annotation.\n",
            "✅ Successfully uploaded r_563.jpg with annotation.\n",
            "✅ Successfully uploaded r_903.jpg with annotation.\n",
            "✅ Successfully uploaded r_406.jpg with annotation.\n",
            "✅ Successfully uploaded r_1049.jpg with annotation.\n",
            "✅ Successfully uploaded r_647.jpg with annotation.\n",
            "✅ Successfully uploaded r_84.jpg with annotation.\n",
            "✅ Successfully uploaded r_492.jpg with annotation.\n",
            "✅ Successfully uploaded r_1017.jpg with annotation.\n",
            "✅ Successfully uploaded r_881.jpg with annotation.\n",
            "✅ Successfully uploaded r_1467.jpg with annotation.\n",
            "✅ Successfully uploaded r_1495.jpg with annotation.\n",
            "✅ Successfully uploaded r_421.jpg with annotation.\n",
            "✅ Successfully uploaded r_606.jpg with annotation.\n",
            "✅ Successfully uploaded r_1111.jpg with annotation.\n",
            "✅ Successfully uploaded r_1355.jpg with annotation.\n",
            "✅ Successfully uploaded r_718.jpg with annotation.\n",
            "✅ Successfully uploaded r_202.jpg with annotation.\n",
            "✅ Successfully uploaded r_1095.jpg with annotation.\n",
            "✅ Successfully uploaded r_1067.jpg with annotation.\n",
            "✅ Successfully uploaded r_314.jpg with annotation.\n",
            "✅ Successfully uploaded r_392.jpg with annotation.\n",
            "✅ Successfully uploaded r_263.jpg with annotation.\n",
            "✅ Successfully uploaded r_47.jpg with annotation.\n",
            "✅ Successfully uploaded r_1023.jpg with annotation.\n",
            "✅ Successfully uploaded r_761.jpg with annotation.\n",
            "✅ Successfully uploaded r_1045.jpg with annotation.\n",
            "✅ Successfully uploaded r_100.jpg with annotation.\n",
            "✅ Successfully uploaded r_790.jpg with annotation.\n",
            "✅ Successfully uploaded r_19.jpg with annotation.\n",
            "✅ Successfully uploaded r_1073.jpg with annotation.\n",
            "✅ Successfully uploaded r_488.jpg with annotation.\n",
            "✅ Successfully uploaded r_788.jpg with annotation.\n",
            "✅ Successfully uploaded r_241_converted.jpg with annotation.\n",
            "✅ Successfully uploaded r_616.jpg with annotation.\n",
            "✅ Successfully uploaded r_261.jpg with annotation.\n",
            "✅ Successfully uploaded r_151.jpg with annotation.\n",
            "✅ Successfully uploaded r_539.jpg with annotation.\n",
            "✅ Successfully uploaded r_831.jpg with annotation.\n",
            "✅ Successfully uploaded r_743.jpg with annotation.\n",
            "✅ Successfully uploaded r_1550.jpg with annotation.\n",
            "✅ Successfully uploaded r_29.jpg with annotation.\n",
            "✅ Successfully uploaded r_1039.jpg with annotation.\n",
            "✅ Successfully uploaded r_1089.jpg with annotation.\n",
            "❌ Error uploading r_1071.jpg: Image was already annotated.\n",
            "✅ Successfully uploaded r_45.jpg with annotation.\n",
            "✅ Successfully uploaded r_437.jpg with annotation.\n",
            "✅ Successfully uploaded r_1431.jpg with annotation.\n",
            "✅ Successfully uploaded r_125.jpg with annotation.\n",
            "✅ Successfully uploaded r_873.jpg with annotation.\n",
            "✅ Successfully uploaded r_806.jpg with annotation.\n",
            "✅ Successfully uploaded r_714.jpg with annotation.\n",
            "✅ Successfully uploaded r_365.jpg with annotation.\n",
            "✅ Successfully uploaded r_590.jpg with annotation.\n",
            "✅ Successfully uploaded r_117.jpg with annotation.\n",
            "✅ Successfully uploaded r_596.jpg with annotation.\n",
            "✅ Successfully uploaded r_861.jpg with annotation.\n",
            "✅ Successfully uploaded r_7.jpg with annotation.\n",
            "✅ Successfully uploaded r_78.jpg with annotation.\n",
            "✅ Successfully uploaded r_180.jpg with annotation.\n",
            "✅ Successfully uploaded r_186.jpg with annotation.\n",
            "✅ Successfully uploaded r_310.jpg with annotation.\n",
            "✅ Successfully uploaded r_72.jpg with annotation.\n",
            "✅ Successfully uploaded r_294.jpg with annotation.\n",
            "✅ Successfully uploaded r_5.jpg with annotation.\n",
            "✅ Successfully uploaded r_2.jpg with annotation.\n",
            "✅ Successfully uploaded r_955.jpg with annotation.\n",
            "✅ Successfully uploaded r_355.jpg with annotation.\n",
            "✅ Successfully uploaded r_143.jpg with annotation.\n",
            "✅ Successfully uploaded r_671.jpg with annotation.\n",
            "✅ Successfully uploaded r_359.jpg with annotation.\n",
            "✅ Successfully uploaded r_1293.jpg with annotation.\n",
            "✅ Successfully uploaded r_74.jpg with annotation.\n",
            "✅ Successfully uploaded r_445.jpg with annotation.\n",
            "✅ Successfully uploaded r_737.jpg with annotation.\n",
            "✅ Successfully uploaded r_941.jpg with annotation.\n",
            "✅ Successfully uploaded r_278.jpg with annotation.\n",
            "✅ Successfully uploaded r_855.jpg with annotation.\n",
            "✅ Successfully uploaded r_221.jpg with annotation.\n",
            "✅ Successfully uploaded r_871.jpg with annotation.\n",
            "✅ Successfully uploaded r_1489.jpg with annotation.\n",
            "✅ Successfully uploaded r_192.jpg with annotation.\n",
            "✅ Successfully uploaded r_208.jpg with annotation.\n",
            "✅ Successfully uploaded r_3.jpg with annotation.\n",
            "✅ Successfully uploaded r_1391.jpg with annotation.\n",
            "✅ Successfully uploaded r_1101.jpg with annotation.\n",
            "✅ Successfully uploaded r_96.jpg with annotation.\n",
            "✅ Successfully uploaded r_907.jpg with annotation.\n",
            "✅ Successfully uploaded r_141.jpg with annotation.\n",
            "✅ Successfully uploaded r_633.jpg with annotation.\n",
            "✅ Successfully uploaded r_39.jpg with annotation.\n",
            "✅ Successfully uploaded r_225.jpg with annotation.\n",
            "✅ Successfully uploaded r_759.jpg with annotation.\n",
            "✅ Successfully uploaded r_296.jpg with annotation.\n",
            "✅ Successfully uploaded r_1189.jpg with annotation.\n",
            "✅ Successfully uploaded r_627.jpg with annotation.\n",
            "✅ Successfully uploaded r_800.jpg with annotation.\n",
            "✅ Successfully uploaded r_12.jpg with annotation.\n",
            "✅ Successfully uploaded r_1457.jpg with annotation.\n",
            "✅ Successfully uploaded r_502.jpg with annotation.\n",
            "✅ Successfully uploaded r_1195.jpg with annotation.\n",
            "✅ Successfully uploaded r_51.jpg with annotation.\n",
            "✅ Successfully uploaded r_1542.jpg with annotation.\n",
            "✅ Successfully uploaded r_133.jpg with annotation.\n",
            "✅ Successfully uploaded r_1037.jpg with annotation.\n",
            "✅ Successfully uploaded r_1351.jpg with annotation.\n",
            "✅ Successfully uploaded r_270.jpg with annotation.\n",
            "✅ Successfully uploaded r_6.jpg with annotation.\n",
            "✅ Successfully uploaded r_66.jpg with annotation.\n",
            "✅ Successfully uploaded r_973.jpg with annotation.\n"
          ]
        }
      ]
    }
  ],
  "metadata": {
    "accelerator": "GPU",
    "colab": {
      "provenance": [],
      "toc_visible": true,
      "include_colab_link": true
    },
    "gpuClass": "standard",
    "kernelspec": {
      "display_name": "Python 3",
      "name": "python3"
    },
    "language_info": {
      "name": "python"
    }
  },
  "nbformat": 4,
  "nbformat_minor": 0
}